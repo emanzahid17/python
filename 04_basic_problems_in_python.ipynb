{
 "cells": [
  {
   "cell_type": "markdown",
   "metadata": {},
   "source": [
    "# **🟢 Basic Python Problems Practice**  \n",
    "\n",
    "**Author of this Notebook: Eman Zahid**  \n",
    "**Contact: [LinkedIn](https://www.linkedin.com/in/eman-zahid-b384a6300/)**"
   ]
  },
  {
   "cell_type": "markdown",
   "metadata": {},
   "source": [
    "#### **1. Greet a User → Ask for the user’s name and print a greeting message.**"
   ]
  },
  {
   "cell_type": "code",
   "execution_count": 1,
   "metadata": {},
   "outputs": [
    {
     "name": "stdout",
     "output_type": "stream",
     "text": [
      "Hello eman! We hope you are doing well today.\n"
     ]
    }
   ],
   "source": [
    "greet_user = input(\"Enter your name: \")\n",
    "\n",
    "print(f\"Hello {greet_user}! We hope you are doing well today.\")"
   ]
  },
  {
   "cell_type": "markdown",
   "metadata": {},
   "source": [
    "#### **2. Simple Calculator → Take two numbers from the user and print their sum.**"
   ]
  },
  {
   "cell_type": "code",
   "execution_count": 2,
   "metadata": {},
   "outputs": [
    {
     "name": "stdout",
     "output_type": "stream",
     "text": [
      "The sum of 3 and 3 is 6 \n"
     ]
    }
   ],
   "source": [
    "first_num =int(input(\"Enter 1st number: \"))\n",
    "second_num = int(input(\"Enter 2nd number: \"))\n",
    "\n",
    "total_sum = first_num + second_num\n",
    "\n",
    "print(f\"The sum of {first_num} and {second_num} is {total_sum} \")"
   ]
  },
  {
   "cell_type": "markdown",
   "metadata": {},
   "source": [
    "#### **3. Age Calculator → Ask the user for their birth year and calculate their age.**"
   ]
  },
  {
   "cell_type": "code",
   "execution_count": 3,
   "metadata": {},
   "outputs": [
    {
     "name": "stdout",
     "output_type": "stream",
     "text": [
      "You are 20 years old.\n"
     ]
    }
   ],
   "source": [
    "from datetime import datetime\n",
    "current_year = datetime.now().year\n",
    "    \n",
    "# Ask the user for their birth year\n",
    "birth_year = int(input(\"Please enter your birth year: \"))\n",
    "    \n",
    "# Calculate age\n",
    "age = current_year - birth_year\n",
    "    \n",
    "# Display the result\n",
    "print(f\"You are {age} years old.\")"
   ]
  },
  {
   "cell_type": "markdown",
   "metadata": {},
   "source": [
    "#### **4. Temperature Converter → Convert temperature from Celsius to Fahrenheit.**"
   ]
  },
  {
   "cell_type": "code",
   "execution_count": 4,
   "metadata": {},
   "outputs": [
    {
     "name": "stdout",
     "output_type": "stream",
     "text": [
      "32.0°C is equal to 89.6°F\n"
     ]
    }
   ],
   "source": [
    "# Input from the user\n",
    "celsius = float(input(\"Enter temperature in Celsius: \"))\n",
    "\n",
    "# Convert and display the result\n",
    "fahrenheit = (celsius * 9/5) + 32\n",
    "print(f\"{celsius}°C is equal to {fahrenheit}°F\")"
   ]
  },
  {
   "cell_type": "markdown",
   "metadata": {},
   "source": [
    "#### **5. Square a Number → Take a number from the user and print its square.**"
   ]
  },
  {
   "cell_type": "code",
   "execution_count": 5,
   "metadata": {},
   "outputs": [
    {
     "name": "stdout",
     "output_type": "stream",
     "text": [
      "The square of 9 is 81.\n"
     ]
    }
   ],
   "source": [
    "number = int(input(\"Enter the number you want to square: \"))\n",
    "square = number ** 2\n",
    "\n",
    "print(f\"The square of {number} is {square}.\")"
   ]
  },
  {
   "cell_type": "markdown",
   "metadata": {},
   "source": [
    "#### **6. Double a Number  → Ask the user for a number and print its double.**"
   ]
  },
  {
   "cell_type": "code",
   "execution_count": 6,
   "metadata": {},
   "outputs": [
    {
     "name": "stdout",
     "output_type": "stream",
     "text": [
      "The double of 7 is 14\n"
     ]
    }
   ],
   "source": [
    "num = int(input(\"Enter the number: \"))\n",
    "\n",
    "doubled_num = num * 2\n",
    "\n",
    "print(f\"The double of {num} is {doubled_num}\")"
   ]
  },
  {
   "cell_type": "markdown",
   "metadata": {},
   "source": [
    "#### **7. Calculate Total Price → Ask the user for price and quantity of an item, then calculate the total cost.**"
   ]
  },
  {
   "cell_type": "code",
   "execution_count": 7,
   "metadata": {},
   "outputs": [
    {
     "name": "stdout",
     "output_type": "stream",
     "text": [
      "Your total price is $180.00\n"
     ]
    }
   ],
   "source": [
    "price = float(input(\"Enter the price of your purchased things: $\"))\n",
    "quantity = int(input(\"Enter the quantity of your purchased things: \"))\n",
    "\n",
    "total_price = price * quantity\n",
    "print(f\"Your total price is ${total_price:.2f}\")"
   ]
  },
  {
   "cell_type": "markdown",
   "metadata": {},
   "source": [
    "#### **8. Calculate Area of a Rectangle → Ask the user for length and width, then print the area.**"
   ]
  },
  {
   "cell_type": "code",
   "execution_count": 8,
   "metadata": {},
   "outputs": [
    {
     "name": "stdout",
     "output_type": "stream",
     "text": [
      "The area of rectangle is:  24.0\n"
     ]
    }
   ],
   "source": [
    "length = float(input('Enter the length of rectangle: '))\n",
    "width = float(input('Enter the width of rectangle: '))\n",
    "\n",
    "area = length * width\n",
    "print('The area of rectangle is: ', area)"
   ]
  },
  {
   "cell_type": "markdown",
   "metadata": {},
   "source": [
    "#### **9. Find the Average of Three Numbers → Ask the user for three numbers and calculate the average.**"
   ]
  },
  {
   "cell_type": "code",
   "execution_count": 9,
   "metadata": {},
   "outputs": [
    {
     "name": "stdout",
     "output_type": "stream",
     "text": [
      "The average of 4, 3, and 2 is 3.00.\n"
     ]
    }
   ],
   "source": [
    "first_number = int(input(\"Enter first number: \"))\n",
    "second_number = int(input(\"Enter second number: \"))\n",
    "third_number = int(input(\"Enter third number: \"))\n",
    "\n",
    "average = (first_number + second_number + third_number) / 3\n",
    "\n",
    "print(f\"The average of {first_number}, {second_number}, and {third_number} is {average:.2f}.\")"
   ]
  },
  {
   "cell_type": "markdown",
   "metadata": {},
   "source": [
    "#### **10. Swap Two Numbers → Ask the user for two numbers and swap them.**"
   ]
  },
  {
   "cell_type": "code",
   "execution_count": 10,
   "metadata": {},
   "outputs": [
    {
     "name": "stdout",
     "output_type": "stream",
     "text": [
      "a is 6 and b is 5\n"
     ]
    }
   ],
   "source": [
    "a = 5\n",
    "b = 6\n",
    "\n",
    "a, b = b, a\n",
    "\n",
    "print(f\"a is {a} and b is {b}\")"
   ]
  },
  {
   "cell_type": "markdown",
   "metadata": {},
   "source": [
    "#### **11. Calculate Discounted Price → Ask for the original price and discount percentage, then calculate the final price.**"
   ]
  },
  {
   "cell_type": "code",
   "execution_count": 11,
   "metadata": {},
   "outputs": [
    {
     "name": "stdout",
     "output_type": "stream",
     "text": [
      "The original price is 34.0 and the discounted price is $33.32\n"
     ]
    }
   ],
   "source": [
    "org_price = float(input(\"Enter the original price: $\"))\n",
    "disc_percentage = float(input('Enter the discount percentage: '))\n",
    "discount_price = org_price * (1 - disc_percentage / 100)\n",
    "\n",
    "print(f\"The original price is {org_price} and the discounted price is ${discount_price}\")"
   ]
  },
  {
   "cell_type": "markdown",
   "metadata": {},
   "source": [
    "#### **12. Convert Minutes to Hours and Minutes → Ask the user for minutes and convert them to hours and minutes.**"
   ]
  },
  {
   "cell_type": "code",
   "execution_count": 12,
   "metadata": {},
   "outputs": [
    {
     "name": "stdout",
     "output_type": "stream",
     "text": [
      "0 hours and 45 minutes\n"
     ]
    }
   ],
   "source": [
    "minutes = int(input(\"Enter the minutes: \"))\n",
    "\n",
    "hours = minutes // 60\n",
    "mins = minutes % 60\n",
    "\n",
    "print(f\"{hours} hours and {mins} minutes\")"
   ]
  },
  {
   "cell_type": "markdown",
   "metadata": {},
   "source": [
    "#### **13. Currency Converter → Convert an amount from one currency to another (assume a fixed rate).**"
   ]
  },
  {
   "cell_type": "code",
   "execution_count": 15,
   "metadata": {},
   "outputs": [
    {
     "name": "stdout",
     "output_type": "stream",
     "text": [
      "The amount of $230 is equal to 64400 PKR\n"
     ]
    }
   ],
   "source": [
    "#1 usd in pkr --> 280\n",
    "usd_to_pkr_rate = 280\n",
    "\n",
    "#take input from user \n",
    "usd_amount = int(input(\"Enter the $ amount you want to convert: \"))\n",
    "# convert usd to pkr\n",
    "pkr_amount = usd_amount * usd_to_pkr_rate\n",
    "print(f\"The amount of ${usd_amount} is equal to {pkr_amount} PKR\")\n"
   ]
  },
  {
   "cell_type": "markdown",
   "metadata": {},
   "source": [
    "#### **14. BMI Calculator → Ask for weight and height, then calculate BMI.**"
   ]
  },
  {
   "cell_type": "code",
   "execution_count": 22,
   "metadata": {},
   "outputs": [
    {
     "name": "stdout",
     "output_type": "stream",
     "text": [
      "Your BMI is: 24.22\n"
     ]
    }
   ],
   "source": [
    "user_weight_in_kg = float(input(\"Enter your weight in kg: \"))\n",
    "height_in_meters = float(input(\"Enter your height in meters: \"))\n",
    "\n",
    "bmi_calculator = user_weight_in_kg / (height_in_meters ** 2)\n",
    "print(f\"Your BMI is: {bmi_calculator:.2f}\")"
   ]
  },
  {
   "cell_type": "markdown",
   "metadata": {},
   "source": [
    "#### **15. Guess the Number → Ask the user to enter a number, and print a response based on it.**"
   ]
  },
  {
   "cell_type": "code",
   "execution_count": 25,
   "metadata": {},
   "outputs": [
    {
     "name": "stdout",
     "output_type": "stream",
     "text": [
      "Congratulations, you won!\n"
     ]
    }
   ],
   "source": [
    "secret_num = 8\n",
    "\n",
    "user_input = int(input(\"Enter the number between 1 and 20: \"))\n",
    "\n",
    "if user_input == secret_num:\n",
    "    print(\"Congratulations, you won!\")\n",
    "elif user_input < secret_num:\n",
    "    print(\"Too low, try again!\")\n",
    "else:\n",
    "    print(\"Too high, try again!\")"
   ]
  }
 ],
 "metadata": {
  "kernelspec": {
   "display_name": "learn_python",
   "language": "python",
   "name": "python3"
  },
  "language_info": {
   "codemirror_mode": {
    "name": "ipython",
    "version": 3
   },
   "file_extension": ".py",
   "mimetype": "text/x-python",
   "name": "python",
   "nbconvert_exporter": "python",
   "pygments_lexer": "ipython3",
   "version": "3.10.8"
  }
 },
 "nbformat": 4,
 "nbformat_minor": 2
}
