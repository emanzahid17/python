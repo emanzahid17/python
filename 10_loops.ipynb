{
 "cells": [
  {
   "cell_type": "markdown",
   "metadata": {},
   "source": [
    "# **Loops in Python**  \n",
    "\n",
    "**Author of this Notebook: Eman Zahid**  \n",
    "**Contact: [LinkedIn](https://www.linkedin.com/in/eman-zahid-b384a6300/)**"
   ]
  },
  {
   "cell_type": "markdown",
   "metadata": {},
   "source": [
    "Loops are used in Python when we want to repeat a task multiple times without writing the same code again and again. Instead of writing a line of code 100 times, we can use a loop to run it 100 times automatically.\n",
    "\n",
    "## **A. For Loop**   \n",
    "\n",
    "A for loop is used to iterate (repeat) over a sequence like:\n",
    "\n",
    "* A range of numbers\n",
    "* A list\n",
    "* A tuple\n",
    "* A string\n",
    "* A dictionary\n",
    "* A set  \n",
    "\n",
    "It allows us to execute a block of code multiple times without manually writing it again and again.\n",
    "\n",
    "*Syntax*  \n",
    "\n",
    "for variable in sequence:\n",
    "    # Code block to execute  \n",
    "\n",
    "\n",
    "* variable: A temporary variable that holds the current item in the sequence.\n",
    "* sequence: A list, range, tuple, string, or any iterable object.\n",
    "* The loop runs once for each item in the sequence.\n",
    "\n",
    "### **1. for Loop with range()**\n",
    "The range() function is commonly used with for loops to generate a sequence of numbers."
   ]
  },
  {
   "cell_type": "markdown",
   "metadata": {},
   "source": [
    "#### **Example 1: Printing numbers from 1 to 5**"
   ]
  },
  {
   "cell_type": "code",
   "execution_count": 1,
   "metadata": {},
   "outputs": [
    {
     "name": "stdout",
     "output_type": "stream",
     "text": [
      "1\n",
      "2\n",
      "3\n",
      "4\n",
      "5\n"
     ]
    }
   ],
   "source": [
    "for i in range(1, 6):  # Loops from 1 to 5\n",
    "    print(i)\n"
   ]
  },
  {
   "cell_type": "markdown",
   "metadata": {},
   "source": [
    "##### **Different Uses of range()**\n",
    "  \n",
    "range(start, stop, step)--------> Explanation\n",
    "\n",
    "* range(5)\t--------Generates numbers from 0 to 4\n",
    "* range(1, 6)---------\tGenerates numbers from 1 to 5\n",
    "* range(1, 10, 2)--------\tGenerates numbers from 1 to 9, skipping every second number (odd numbers: 1, 3, 5, 7, 9)\n",
    "* range(10, 0, -1)-----\tGenerates numbers from 10 to 1 (counting backward)"
   ]
  },
  {
   "cell_type": "markdown",
   "metadata": {},
   "source": [
    "### **2. for Loop with Lists**  \n",
    "\n",
    "A for loop can iterate over a list and process each item.\n",
    "\n",
    "#### **Example: Looping Through a List**"
   ]
  },
  {
   "cell_type": "code",
   "execution_count": 2,
   "metadata": {},
   "outputs": [
    {
     "name": "stdout",
     "output_type": "stream",
     "text": [
      "apple\n",
      "banana\n",
      "cherry\n"
     ]
    }
   ],
   "source": [
    "fruits = [\"apple\", \"banana\", \"cherry\"]\n",
    "for fruit in fruits:\n",
    "    print(fruit)\n"
   ]
  },
  {
   "cell_type": "markdown",
   "metadata": {},
   "source": [
    "### **3. for Loop with Strings**  \n",
    "\n",
    "A string is a sequence of characters, so we can loop through each character.\n",
    "\n",
    "#### **Example: Looping Through a String**"
   ]
  },
  {
   "cell_type": "code",
   "execution_count": 1,
   "metadata": {},
   "outputs": [
    {
     "name": "stdout",
     "output_type": "stream",
     "text": [
      "P\n",
      "y\n",
      "t\n",
      "h\n",
      "o\n",
      "n\n"
     ]
    }
   ],
   "source": [
    "word = \"Python\"\n",
    "for letter in word:\n",
    "    print(letter)\n"
   ]
  },
  {
   "cell_type": "markdown",
   "metadata": {},
   "source": [
    "### **4. for Loop with Tuples** \n",
    "\n",
    "A tuple is similar to a list, but it is immutable (cannot be changed).\n",
    "\n",
    "#### **Example: Looping Through a Tuple**"
   ]
  },
  {
   "cell_type": "code",
   "execution_count": 2,
   "metadata": {},
   "outputs": [
    {
     "name": "stdout",
     "output_type": "stream",
     "text": [
      "red\n",
      "green\n",
      "blue\n"
     ]
    }
   ],
   "source": [
    "colors = (\"red\", \"green\", \"blue\")\n",
    "for color in colors:\n",
    "    print(color)\n"
   ]
  },
  {
   "cell_type": "markdown",
   "metadata": {},
   "source": [
    "### **5. for Loop with Dictionaries**  \n",
    "\n",
    "When looping through a dictionary, we can get keys, values, or both.\n",
    "\n",
    "#### **Example: Looping Through a Dictionary**"
   ]
  },
  {
   "cell_type": "code",
   "execution_count": 3,
   "metadata": {},
   "outputs": [
    {
     "name": "stdout",
     "output_type": "stream",
     "text": [
      "name : Alice\n",
      "age : 21\n",
      "grade : A\n"
     ]
    }
   ],
   "source": [
    "student = {\"name\": \"Alice\", \"age\": 21, \"grade\": \"A\"}\n",
    "\n",
    "# Loop through keys\n",
    "for key in student:\n",
    "    print(key, \":\", student[key])\n"
   ]
  },
  {
   "cell_type": "markdown",
   "metadata": {},
   "source": [
    "#### **Looping Through Both Keys and Values**"
   ]
  },
  {
   "cell_type": "code",
   "execution_count": 4,
   "metadata": {},
   "outputs": [
    {
     "name": "stdout",
     "output_type": "stream",
     "text": [
      "name: Alice\n",
      "age: 21\n",
      "grade: A\n"
     ]
    }
   ],
   "source": [
    "for key, value in student.items():\n",
    "    print(f\"{key}: {value}\")\n"
   ]
  },
  {
   "cell_type": "markdown",
   "metadata": {},
   "source": [
    "### **6. for Loop with Nested Loops** \n",
    "\n",
    "A nested loop means a loop inside another loop.\n",
    "\n",
    "#### **Example: Printing a Pattern**"
   ]
  },
  {
   "cell_type": "code",
   "execution_count": 5,
   "metadata": {},
   "outputs": [
    {
     "name": "stdout",
     "output_type": "stream",
     "text": [
      "1 2 3 4 5 \n",
      "2 4 6 8 10 \n",
      "3 6 9 12 15 \n"
     ]
    }
   ],
   "source": [
    "for i in range(1, 4):  # Outer loop (rows)\n",
    "    for j in range(1, 6):  # Inner loop (columns)\n",
    "        print(i * j, end=\" \")  \n",
    "    print()  # New line after each row\n"
   ]
  },
  {
   "cell_type": "markdown",
   "metadata": {},
   "source": [
    "### **7. Using else with for Loop**  \n",
    "\n",
    "Python allows an else block with for loops, which runs when the loop completes normally.\n",
    "\n",
    "#### **Example: Checking for a Specific Number**"
   ]
  },
  {
   "cell_type": "code",
   "execution_count": 6,
   "metadata": {},
   "outputs": [
    {
     "name": "stdout",
     "output_type": "stream",
     "text": [
      "Number not found.\n"
     ]
    }
   ],
   "source": [
    "numbers = [1, 2, 3, 4, 5]\n",
    "for num in numbers:\n",
    "    if num == 6:\n",
    "        print(\"Number found!\")\n",
    "        break\n",
    "else:\n",
    "    print(\"Number not found.\")\n"
   ]
  },
  {
   "cell_type": "markdown",
   "metadata": {},
   "source": [
    "## **Practice Problems for for Loops**"
   ]
  },
  {
   "cell_type": "markdown",
   "metadata": {},
   "source": [
    "##### **Print numbers from 1 to 20 using a for loop.**"
   ]
  },
  {
   "cell_type": "code",
   "execution_count": 7,
   "metadata": {},
   "outputs": [
    {
     "name": "stdout",
     "output_type": "stream",
     "text": [
      "1\n",
      "2\n",
      "3\n",
      "4\n",
      "5\n",
      "6\n",
      "7\n",
      "8\n",
      "9\n",
      "10\n",
      "11\n",
      "12\n",
      "13\n",
      "14\n",
      "15\n",
      "16\n",
      "17\n",
      "18\n",
      "19\n",
      "20\n"
     ]
    }
   ],
   "source": [
    "for i in range(1,21):\n",
    "    print(i)"
   ]
  },
  {
   "cell_type": "markdown",
   "metadata": {},
   "source": [
    "##### **Print even numbers from 2 to 50.**"
   ]
  },
  {
   "cell_type": "code",
   "execution_count": 8,
   "metadata": {},
   "outputs": [
    {
     "name": "stdout",
     "output_type": "stream",
     "text": [
      "2\n",
      "4\n",
      "6\n",
      "8\n",
      "10\n",
      "12\n",
      "14\n",
      "16\n",
      "18\n",
      "20\n",
      "22\n",
      "24\n",
      "26\n",
      "28\n",
      "30\n",
      "32\n",
      "34\n",
      "36\n",
      "38\n",
      "40\n",
      "42\n",
      "44\n",
      "46\n",
      "48\n"
     ]
    }
   ],
   "source": [
    "for i in range(2,50,2):\n",
    "    print(i)"
   ]
  },
  {
   "cell_type": "markdown",
   "metadata": {},
   "source": [
    "##### **Print the square of numbers from 1 to 10.**"
   ]
  },
  {
   "cell_type": "code",
   "execution_count": 9,
   "metadata": {},
   "outputs": [
    {
     "name": "stdout",
     "output_type": "stream",
     "text": [
      "1\n",
      "4\n",
      "9\n",
      "16\n",
      "25\n",
      "36\n",
      "49\n",
      "64\n",
      "81\n",
      "100\n"
     ]
    }
   ],
   "source": [
    "for i in range(1,11):\n",
    "    print(i ** 2)"
   ]
  },
  {
   "cell_type": "markdown",
   "metadata": {},
   "source": [
    "##### **Loop through a list of names and print each name.**"
   ]
  },
  {
   "cell_type": "code",
   "execution_count": 10,
   "metadata": {},
   "outputs": [
    {
     "name": "stdout",
     "output_type": "stream",
     "text": [
      "eman\n",
      "fatima\n",
      "maryam\n"
     ]
    }
   ],
   "source": [
    "names = ['eman','fatima','maryam']\n",
    "\n",
    "for name in names:\n",
    "    print(name)"
   ]
  },
  {
   "cell_type": "markdown",
   "metadata": {},
   "source": [
    "##### **Take 5 numbers from the user and print their sum.**"
   ]
  },
  {
   "cell_type": "code",
   "execution_count": 3,
   "metadata": {},
   "outputs": [
    {
     "name": "stdout",
     "output_type": "stream",
     "text": [
      "The sum of the entered numbers is: 20.0\n"
     ]
    }
   ],
   "source": [
    "# Take 5 numbers from the user and store them in a list\n",
    "numbers = [float(input(f\"Enter number {i+1}: \")) for i in range(5)]\n",
    "\n",
    "# Calculate and print the sum\n",
    "print(\"The sum of the entered numbers is:\", sum(numbers))\n"
   ]
  },
  {
   "cell_type": "markdown",
   "metadata": {},
   "source": [
    "##### **Reverse a word entered by the user (without using slicing).**"
   ]
  },
  {
   "cell_type": "code",
   "execution_count": 4,
   "metadata": {},
   "outputs": [
    {
     "name": "stdout",
     "output_type": "stream",
     "text": [
      "Reversed word: olleh\n"
     ]
    }
   ],
   "source": [
    "# Take input from the user\n",
    "word = input(\"Enter a word: \")\n",
    "\n",
    "# Initialize an empty string to store the reversed word\n",
    "reversed_word = \"\"\n",
    "\n",
    "# Loop through the word in reverse order\n",
    "for char in word:\n",
    "    reversed_word = char + reversed_word  # Add each character at the beginning\n",
    "\n",
    "# Print the reversed word\n",
    "print(\"Reversed word:\", reversed_word)\n"
   ]
  },
  {
   "cell_type": "markdown",
   "metadata": {},
   "source": [
    "##### **Count vowels in a string.**"
   ]
  },
  {
   "cell_type": "code",
   "execution_count": 11,
   "metadata": {},
   "outputs": [
    {
     "name": "stdout",
     "output_type": "stream",
     "text": [
      "The vowel count in the string is 11\n"
     ]
    }
   ],
   "source": [
    "string = \"DELHI IS THE CAPITAL OF INDIA\"\n",
    "\n",
    "vowels = \"aeiouAEIOU\"\n",
    "count = 0\n",
    "\n",
    "for char in string:\n",
    "        if char in vowels:\n",
    "            count += 1\n",
    "print(f\"The vowel count in the string is {count}\")\n",
    "\n"
   ]
  },
  {
   "cell_type": "markdown",
   "metadata": {},
   "source": [
    "##### **Find the largest number in a list using a loop**"
   ]
  },
  {
   "cell_type": "code",
   "execution_count": 12,
   "metadata": {},
   "outputs": [
    {
     "name": "stdout",
     "output_type": "stream",
     "text": [
      "The largest number is 87.\n"
     ]
    }
   ],
   "source": [
    "numbers = [20,50,79,87,23,1]\n",
    "\n",
    "largest = numbers[0]  # Assume first number is the largest\n",
    "for num in numbers:\n",
    "    if num > largest:\n",
    "        largest = num\n",
    "\n",
    "print(f\"The largest number is {largest}.\")  "
   ]
  },
  {
   "cell_type": "markdown",
   "metadata": {},
   "source": [
    "##### **Find the smallest number in a list**\n"
   ]
  },
  {
   "cell_type": "code",
   "execution_count": 13,
   "metadata": {},
   "outputs": [
    {
     "name": "stdout",
     "output_type": "stream",
     "text": [
      "The smallest number is 1\n"
     ]
    }
   ],
   "source": [
    "smallest = numbers[0] #Assume first number is smallest\n",
    "\n",
    "for num in numbers:\n",
    "    if num < smallest:\n",
    "        smallest = num\n",
    "\n",
    "print(f\"The smallest number is {smallest}\") # Output: 1"
   ]
  },
  {
   "cell_type": "markdown",
   "metadata": {},
   "source": [
    "##### **Calculate the factorial of a number**"
   ]
  },
  {
   "cell_type": "code",
   "execution_count": 3,
   "metadata": {},
   "outputs": [
    {
     "name": "stdout",
     "output_type": "stream",
     "text": [
      "24\n"
     ]
    }
   ],
   "source": [
    "num = 4\n",
    "factorial = 1\n",
    "\n",
    "for i in range(1, num + 1):\n",
    "    factorial *= i\n",
    "\n",
    "print(factorial)"
   ]
  },
  {
   "cell_type": "markdown",
   "metadata": {},
   "source": [
    "##### **Create a multiplication table for any number entered by the user.**"
   ]
  },
  {
   "cell_type": "code",
   "execution_count": 3,
   "metadata": {},
   "outputs": [
    {
     "name": "stdout",
     "output_type": "stream",
     "text": [
      "5 * 1 = 5\n",
      "5 * 2 = 10\n",
      "5 * 3 = 15\n",
      "5 * 4 = 20\n",
      "5 * 5 = 25\n",
      "5 * 6 = 30\n",
      "5 * 7 = 35\n",
      "5 * 8 = 40\n",
      "5 * 9 = 45\n",
      "5 * 10 = 50\n"
     ]
    }
   ],
   "source": [
    "num = int(input('Enter a number: '))\n",
    "\n",
    "for i in range(10):\n",
    "    print(f\"{num} * {i + 1} = {num * (i + 1)}\")\n",
    "\n"
   ]
  },
  {
   "cell_type": "markdown",
   "metadata": {},
   "source": [
    "##### **Print a pattern**\n"
   ]
  },
  {
   "cell_type": "code",
   "execution_count": 13,
   "metadata": {},
   "outputs": [
    {
     "name": "stdout",
     "output_type": "stream",
     "text": [
      "*\n",
      "**\n",
      "***\n",
      "****\n",
      "*****\n",
      "******\n",
      "*******\n"
     ]
    }
   ],
   "source": [
    "number = int(input('enter a number: '))\n",
    "\n",
    "for i in range(1, number+1):\n",
    "    print(\"*\"* i)"
   ]
  },
  {
   "cell_type": "markdown",
   "metadata": {},
   "source": [
    "#### **Create a simple login system that asks for a username and password. If the user enters the correct credentials, print \"Login Successful\".**"
   ]
  },
  {
   "cell_type": "code",
   "execution_count": 21,
   "metadata": {},
   "outputs": [
    {
     "name": "stdout",
     "output_type": "stream",
     "text": [
      "Login Successful\n",
      "We need to verify your account. Please check your email for a verification link.\n"
     ]
    }
   ],
   "source": [
    "user_name = input(\"Enter your username: \")\n",
    "password = input(\"Enter your password: \")\n",
    "\n",
    "for i in range(3):\n",
    "    if user_name == \"admin\" and password == \"password\":\n",
    "        print(\"Login Successful\")\n",
    "        print(\"We need to verify your account. Please check your email for a verification link.\")\n",
    "        break  # Exit the loop on successful login\n",
    "    else:\n",
    "        print(\"Your username and password doesn't match.\")\n",
    "        if i < 2: # Check if it's not the last attempt\n",
    "          user_name = input(\"Enter your username: \")\n",
    "          password = input(\"Enter your password: \")\n",
    "\n",
    "else:  # Executes if the loop finishes without a 'break'\n",
    "    print(\"Too many failed login attempts. Account locked.\") # Or add a timer."
   ]
  },
  {
   "cell_type": "markdown",
   "metadata": {},
   "source": [
    "## **B. while Loop**  \n",
    "\n",
    "The while loop runs as long as a condition is true. It is useful when we don’t know exactly how many times we need to repeat something.\n",
    "\n",
    "### **How it Works**  \n",
    "\n",
    "* It checks a condition before each loop.\n",
    "* If the condition is True, it runs the code.\n",
    "* If the condition is False, the loop stops.\n",
    "\n",
    "### **Syntax of while Loop**\n",
    "\n",
    "while condition: \n",
    "\n",
    "      #Code block to execute\n",
    "\n",
    "* condition: A condition that is checked before each iteration.\n",
    "* The loop runs continuously until the condition becomes False.\n",
    "* If the condition is never False, the loop will run forever (infinite loop).\n",
    "\n",
    "##### **Example 1: Printing numbers from 1 to 5**"
   ]
  },
  {
   "cell_type": "code",
   "execution_count": 1,
   "metadata": {},
   "outputs": [
    {
     "name": "stdout",
     "output_type": "stream",
     "text": [
      "1\n",
      "2\n",
      "3\n",
      "4\n",
      "5\n"
     ]
    }
   ],
   "source": [
    "num = 1\n",
    "\n",
    "while num <=5:\n",
    "    print(num)\n",
    "    num += 1"
   ]
  },
  {
   "cell_type": "markdown",
   "metadata": {},
   "source": [
    "#### **2. Using while Loop with User Input**  \n",
    "\n",
    "You can use a while loop to keep asking for input until the user provides a correct response.\n",
    "\n",
    "##### **Example: Ask for a password until it is correct**"
   ]
  },
  {
   "cell_type": "code",
   "execution_count": 4,
   "metadata": {},
   "outputs": [
    {
     "name": "stdout",
     "output_type": "stream",
     "text": [
      "Access denied\n",
      "Access denied\n",
      "Access denied\n",
      "Access granted\n"
     ]
    }
   ],
   "source": [
    "correct_password = 'python123'\n",
    "\n",
    "password = ''\n",
    "\n",
    "while password != correct_password:\n",
    "    password = input('Enter your password: ')\n",
    "    if password == correct_password:\n",
    "        print('Access granted')\n",
    "    else:\n",
    "        print('Access denied')"
   ]
  },
  {
   "cell_type": "markdown",
   "metadata": {},
   "source": [
    "#### **3. Infinite Loop (Avoid This!)**  \n",
    "\n",
    "A while loop must have an exit condition, or it will run forever.\n",
    "\n",
    "##### **Example of an Infinite Loop (DON’T RUN THIS)**"
   ]
  },
  {
   "cell_type": "code",
   "execution_count": null,
   "metadata": {},
   "outputs": [],
   "source": [
    "# num = 1\n",
    "\n",
    "# while num > 0:  # This condition is always True\n",
    "#     print(num)  # The loop never stops\n"
   ]
  },
  {
   "cell_type": "markdown",
   "metadata": {},
   "source": [
    "#### **4. Using break in while Loop**  \n",
    "\n",
    "The break statement stops the loop immediately.\n",
    "\n",
    "##### **Example: Stop the loop if user enters ‘exit’**"
   ]
  },
  {
   "cell_type": "code",
   "execution_count": 5,
   "metadata": {},
   "outputs": [
    {
     "name": "stdout",
     "output_type": "stream",
     "text": [
      "You entered: love\n",
      "You entered: hate\n",
      "You entered: ai\n",
      "You entered: data science\n",
      "Goodbye!\n"
     ]
    }
   ],
   "source": [
    "while True:  # Infinite loop\n",
    "    user_input = input(\"Enter something (or type 'exit' to stop): \")\n",
    "    \n",
    "    if user_input == \"exit\":  \n",
    "        print(\"Goodbye!\")\n",
    "        break  # Exit the loop\n",
    "\n",
    "    print(\"You entered:\", user_input)\n"
   ]
  },
  {
   "cell_type": "markdown",
   "metadata": {},
   "source": [
    "#### **5. Using continue in while Loop**  \n",
    "\n",
    "The continue statement skips the rest of the loop and goes to the next iteration.\n",
    "\n",
    "##### **Example: Skip Even Numbers**"
   ]
  },
  {
   "cell_type": "code",
   "execution_count": null,
   "metadata": {},
   "outputs": [
    {
     "name": "stdout",
     "output_type": "stream",
     "text": [
      "1\n",
      "3\n",
      "5\n",
      "7\n",
      "9\n"
     ]
    }
   ],
   "source": [
    "num = 0 #Initialize the number\n",
    "\n",
    "while num < 10:\n",
    "    num += 1  # Increment first\n",
    "\n",
    "    if num % 2 == 0:  \n",
    "        continue  # Skip even numbers\n",
    "\n",
    "    print(num)\n",
    "\n"
   ]
  },
  {
   "cell_type": "markdown",
   "metadata": {},
   "source": [
    "#### **6. Using else with while Loop**  \n",
    "\n",
    "Python allows using else after a while loop, which runs only if the loop finishes normally (without a break).\n",
    "\n",
    "##### **Example: Check for a number in a list**"
   ]
  },
  {
   "cell_type": "code",
   "execution_count": 7,
   "metadata": {},
   "outputs": [
    {
     "name": "stdout",
     "output_type": "stream",
     "text": [
      "10 is not in the list.\n"
     ]
    }
   ],
   "source": [
    "numbers = [1,2,67,23,89,54,34]\n",
    "x = 10\n",
    "index = 0\n",
    "\n",
    "while index < len(numbers):  \n",
    "    if numbers[index] == x:\n",
    "        print(f\"Found {x} in the list!\")\n",
    "        break  # Stop if number is found\n",
    "    index += 1\n",
    "else:\n",
    "    print(f\"{x} is not in the list.\")  # Runs if loop completes normally\n"
   ]
  },
  {
   "cell_type": "markdown",
   "metadata": {},
   "source": [
    "## **🔥 Practice Problems for while Loops 🔥**"
   ]
  },
  {
   "cell_type": "markdown",
   "metadata": {},
   "source": [
    "##### **Print numbers from 1 to 10 using a while loop.**"
   ]
  },
  {
   "cell_type": "code",
   "execution_count": 8,
   "metadata": {},
   "outputs": [
    {
     "name": "stdout",
     "output_type": "stream",
     "text": [
      "1\n",
      "2\n",
      "3\n",
      "4\n",
      "5\n",
      "6\n",
      "7\n",
      "8\n",
      "9\n",
      "10\n"
     ]
    }
   ],
   "source": [
    "num = 1\n",
    "\n",
    "while num < 11:\n",
    "    print(num)\n",
    "    num += 1"
   ]
  },
  {
   "cell_type": "markdown",
   "metadata": {},
   "source": [
    "##### **Print even numbers from 2 to 20.**"
   ]
  },
  {
   "cell_type": "code",
   "execution_count": 9,
   "metadata": {},
   "outputs": [
    {
     "name": "stdout",
     "output_type": "stream",
     "text": [
      "2\n",
      "4\n",
      "6\n",
      "8\n",
      "10\n",
      "12\n",
      "14\n",
      "16\n",
      "18\n",
      "20\n"
     ]
    }
   ],
   "source": [
    "even_num = 2\n",
    "\n",
    "while even_num <= 20:\n",
    "    print(even_num)\n",
    "    even_num += 2"
   ]
  },
  {
   "cell_type": "markdown",
   "metadata": {},
   "source": [
    "##### **Print numbers from 10 to 1 (counting backward).**"
   ]
  },
  {
   "cell_type": "code",
   "execution_count": 13,
   "metadata": {},
   "outputs": [
    {
     "name": "stdout",
     "output_type": "stream",
     "text": [
      "10\n",
      "9\n",
      "8\n",
      "7\n",
      "6\n",
      "5\n",
      "4\n",
      "3\n",
      "2\n",
      "1\n"
     ]
    }
   ],
   "source": [
    "numbers = 10\n",
    "\n",
    "while numbers >= 1:\n",
    "    print(numbers)\n",
    "    numbers = numbers - 1"
   ]
  },
  {
   "cell_type": "markdown",
   "metadata": {},
   "source": [
    "##### **Print the sum of numbers from 1 to 50.**"
   ]
  },
  {
   "cell_type": "code",
   "execution_count": 18,
   "metadata": {},
   "outputs": [
    {
     "name": "stdout",
     "output_type": "stream",
     "text": [
      "1275\n"
     ]
    }
   ],
   "source": [
    "i = 1\n",
    "sum = 0\n",
    "\n",
    "while i <= 50:\n",
    "    sum = sum + i\n",
    "    i += 1\n",
    "print(sum)"
   ]
  },
  {
   "cell_type": "markdown",
   "metadata": {},
   "source": [
    "##### **Ask the user to guess a number between 1 and 100, and give hints (higher/lower) until they guess correctly.**"
   ]
  },
  {
   "cell_type": "code",
   "execution_count": 1,
   "metadata": {},
   "outputs": [
    {
     "name": "stdout",
     "output_type": "stream",
     "text": [
      "lower\n",
      "lower\n",
      "lower\n",
      "higher\n",
      "You found the number!\n"
     ]
    }
   ],
   "source": [
    "comp_num = 56\n",
    "user_num = int(input(\"Enter a number: \"))\n",
    "\n",
    "while user_num != comp_num:\n",
    "    if user_num < comp_num:\n",
    "        print(\"lower\")\n",
    "    else:\n",
    "        print(\"higher\")  # Corrected typo\n",
    "    user_num = int(input(\"Enter a number: \")) # Moved input inside the while loop.\n",
    "\n",
    "else:\n",
    "    print(\"You found the number!\")"
   ]
  }
 ],
 "metadata": {
  "kernelspec": {
   "display_name": "learn_python",
   "language": "python",
   "name": "python3"
  },
  "language_info": {
   "codemirror_mode": {
    "name": "ipython",
    "version": 3
   },
   "file_extension": ".py",
   "mimetype": "text/x-python",
   "name": "python",
   "nbconvert_exporter": "python",
   "pygments_lexer": "ipython3",
   "version": "3.10.8"
  }
 },
 "nbformat": 4,
 "nbformat_minor": 2
}
