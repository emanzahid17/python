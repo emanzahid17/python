{
 "cells": [
  {
   "cell_type": "markdown",
   "id": "c991e2c2",
   "metadata": {},
   "source": [
    "# **Object-Oriented Programming (OOP) in Python**  \n",
    "\n",
    "**Author of this Notebook: Eman Zahid**  \n",
    "**Contact: [LinkedIn](https://www.linkedin.com/in/eman-zahid-b384a6300/)**"
   ]
  },
  {
   "cell_type": "markdown",
   "id": "93c4cc63",
   "metadata": {},
   "source": [
    "## **Introduction to OOP**  \n",
    "\n",
    "OOP is a way of writing programs using classes and objects to organize and manage code better.\n",
    "\n",
    "Instead of writing everything in one place (like in normal coding), OOP groups related things together — making programs easier to manage, reuse, and update.\n",
    "\n",
    "### **Main ideas of OOP:**\n",
    "\n",
    "* Class → Blueprint (like a recipe)\n",
    "* Object → Real-world instance of that blueprint (like a cake from the recipe)\n",
    "\n",
    "## **📦 Classes and Objects**"
   ]
  },
  {
   "cell_type": "markdown",
   "id": "075d9e4a",
   "metadata": {},
   "source": [
    "#### **📘 What is a Class?**  \n",
    "\n",
    "A Class is like a blueprint/template to create objects.\n",
    "Example: A \"Car\" class can describe how cars should be (color, brand, speed)."
   ]
  },
  {
   "cell_type": "code",
   "execution_count": 1,
   "id": "3c22e39d",
   "metadata": {},
   "outputs": [],
   "source": [
    "class Car:\n",
    "    pass  # Empty class for now\n"
   ]
  },
  {
   "cell_type": "markdown",
   "id": "9b01aecb",
   "metadata": {},
   "source": [
    "#### **🚗 What is an Object?**  \n",
    "\n",
    "An Object is a real thing created from a class."
   ]
  },
  {
   "cell_type": "code",
   "execution_count": 2,
   "id": "5e5d78f7",
   "metadata": {},
   "outputs": [
    {
     "name": "stdout",
     "output_type": "stream",
     "text": [
      "<class '__main__.Car'>\n"
     ]
    }
   ],
   "source": [
    "my_car = Car()\n",
    "print(type(my_car))  # Output: <class '__main__.Car'>\n"
   ]
  },
  {
   "cell_type": "markdown",
   "id": "b5fd4395",
   "metadata": {},
   "source": [
    "## **📚 Practice Problem:** \n",
    "\n",
    "### **✅ Create a class called Dog and make an object named my_dog from it.**"
   ]
  },
  {
   "cell_type": "code",
   "execution_count": 3,
   "id": "c2f0d936",
   "metadata": {},
   "outputs": [
    {
     "name": "stdout",
     "output_type": "stream",
     "text": [
      "<class '__main__.Dog'>\n"
     ]
    }
   ],
   "source": [
    "class Dog:\n",
    "    pass\n",
    "\n",
    "my_dog = Dog()\n",
    "print(type(my_dog))  # Output: <class '__main__.Dog'>"
   ]
  },
  {
   "cell_type": "markdown",
   "id": "146e9054",
   "metadata": {},
   "source": [
    "## **🛠️ Attributes and Methods**  \n",
    "\n",
    "### **🔹 Attributes**  \n",
    "\n",
    "Attributes are variables that belong to an object."
   ]
  },
  {
   "cell_type": "code",
   "execution_count": 4,
   "id": "e10985aa",
   "metadata": {},
   "outputs": [
    {
     "name": "stdout",
     "output_type": "stream",
     "text": [
      "Buddy\n",
      "Brown\n",
      "<class '__main__.Dog'>\n"
     ]
    }
   ],
   "source": [
    "class Dog:\n",
    "    def __init__(self, name, color):\n",
    "        self.name = name\n",
    "        self.color = color\n",
    "\n",
    "my_dog = Dog(\"Buddy\", \"Brown\")\n",
    "print(my_dog.name)  # Output: Buddy\n",
    "print(my_dog.color)  # Output: Brown\n",
    "print(type(my_dog))  # Output: <class '__main__.Dog'>"
   ]
  },
  {
   "cell_type": "markdown",
   "id": "34e85d20",
   "metadata": {},
   "source": [
    "* 'self.name' and 'self.color' are attributes."
   ]
  },
  {
   "cell_type": "markdown",
   "id": "3087061a",
   "metadata": {},
   "source": [
    "### **🔹 Methods**  \n",
    "\n",
    "Methods are functions inside a class.\n",
    "They make objects do things."
   ]
  },
  {
   "cell_type": "code",
   "execution_count": 5,
   "id": "ecd24043",
   "metadata": {},
   "outputs": [
    {
     "name": "stdout",
     "output_type": "stream",
     "text": [
      "Black Bruno, whose age is 5 says Woof!\n"
     ]
    }
   ],
   "source": [
    "class Dog:\n",
    "    def __init__(self, name, age, color):\n",
    "        self.name = name\n",
    "        self.age = age\n",
    "        self.color = color\n",
    "        \n",
    "\n",
    "    def bark(self):\n",
    "        print(f\"{self.color} {self.name}, whose age is {self.age} says Woof!\")\n",
    "\n",
    "my_dog = Dog(\"Bruno\", 5, \"Black\")\n",
    "my_dog.bark()  \n"
   ]
  },
  {
   "cell_type": "markdown",
   "id": "ae99b48a",
   "metadata": {},
   "source": [
    "## **📚 Practice Problem:**  \n",
    "\n",
    "### **✅ Create a class Cat with attributes name and age. Add a method meow() to print \"Meow!\".**"
   ]
  },
  {
   "cell_type": "code",
   "execution_count": 7,
   "id": "77c07e2b",
   "metadata": {},
   "outputs": [
    {
     "name": "stdout",
     "output_type": "stream",
     "text": [
      "Whiskers says Meow!\n"
     ]
    }
   ],
   "source": [
    "class Cat:\n",
    "    def __init__(self, name, age):\n",
    "        self.name = name\n",
    "        self.age = age\n",
    "\n",
    "    def meow(self):\n",
    "        print(f\"{self.name} says Meow!\")\n",
    "\n",
    "my_cat = Cat(\"Whiskers\", 3)\n",
    "my_cat.meow()  # Output: Whiskers says Meow!"
   ]
  },
  {
   "cell_type": "markdown",
   "id": "a0e63a39",
   "metadata": {},
   "source": [
    "## **Constructors (init())**"
   ]
  },
  {
   "cell_type": "markdown",
   "id": "d141aa47",
   "metadata": {},
   "source": [
    "### **🔥 What is __init__()?**  \n",
    "\n",
    "It is a special method that is automatically called when you create an object.\n",
    "\n",
    "It initializes (gives starting values to) the object's attributes."
   ]
  },
  {
   "cell_type": "code",
   "execution_count": 8,
   "id": "7ec3c269",
   "metadata": {},
   "outputs": [
    {
     "name": "stdout",
     "output_type": "stream",
     "text": [
      "Ali\n",
      "22\n"
     ]
    }
   ],
   "source": [
    "class Person:\n",
    "    def __init__(self, name, age):\n",
    "        self.name = name\n",
    "        self.age = age\n",
    "\n",
    "p1 = Person(\"Ali\", 22)\n",
    "print(p1.name)  # Ali\n",
    "print(p1.age)   # 22\n"
   ]
  },
  {
   "cell_type": "markdown",
   "id": "6ab3b146",
   "metadata": {},
   "source": [
    "✅ Without __init__(), we would have to set every attribute manually!"
   ]
  },
  {
   "cell_type": "markdown",
   "id": "918305b8",
   "metadata": {},
   "source": [
    "## **📚 Practice Problem:** \n",
    "\n",
    "### **✅ Create a class Book that takes title and author when creating an object and prints them.**"
   ]
  },
  {
   "cell_type": "code",
   "execution_count": 9,
   "id": "7025d729",
   "metadata": {},
   "outputs": [
    {
     "name": "stdout",
     "output_type": "stream",
     "text": [
      "'Great Expectations' by Charles Dickens\n"
     ]
    }
   ],
   "source": [
    "class Book:\n",
    "    def __init__(self, title, author):\n",
    "        self.title = title\n",
    "        self.author = author\n",
    "\n",
    "    def get_info(self):\n",
    "        return f\"'{self.title}' by {self.author}\"\n",
    "\n",
    "great_expectations = Book(\"Great Expectations\", \"Charles Dickens\")\n",
    "print(great_expectations.get_info())  # Output: 'Great Expectations' by Charles Dickens"
   ]
  },
  {
   "cell_type": "markdown",
   "id": "7d565093",
   "metadata": {},
   "source": [
    "## **Inheritance**  \n",
    "\n",
    "### **🔥 What is Inheritance?**  \n",
    "\n",
    "Inheritance means a child class can inherit attributes and methods from a parent class.\n",
    "\n",
    "Example: A \"Car\" class → \"ElectricCar\" class (inherits everything from Car)."
   ]
  },
  {
   "cell_type": "code",
   "execution_count": 10,
   "id": "b6a80a48",
   "metadata": {},
   "outputs": [
    {
     "name": "stdout",
     "output_type": "stream",
     "text": [
      "Bruno makes a sound.\n",
      "Bruno barks!\n"
     ]
    }
   ],
   "source": [
    "class Animal:\n",
    "    def __init__(self, name):\n",
    "        self.name = name\n",
    "\n",
    "    def speak(self):\n",
    "        print(f\"{self.name} makes a sound.\")\n",
    "\n",
    "class Dog(Animal):  # Dog inherits from Animal\n",
    "    def bark(self):\n",
    "        print(f\"{self.name} barks!\")\n",
    "\n",
    "my_dog = Dog(\"Bruno\")\n",
    "my_dog.speak()  # Bruno makes a sound.\n",
    "my_dog.bark()   # Bruno barks!\n"
   ]
  },
  {
   "cell_type": "markdown",
   "id": "6f0bd5b8",
   "metadata": {},
   "source": [
    "✅ Dog class inherited speak() from Animal class!"
   ]
  },
  {
   "cell_type": "markdown",
   "id": "951cb6cb",
   "metadata": {},
   "source": [
    "## **📚 Practice Problem:**  \n",
    "\n",
    "### **✅ Create a class Vehicle with a method start(). Create another class Bike that inherits from Vehicle.**"
   ]
  },
  {
   "cell_type": "code",
   "execution_count": 11,
   "id": "18312a70",
   "metadata": {},
   "outputs": [
    {
     "name": "stdout",
     "output_type": "stream",
     "text": [
      "Yamaha FZ is starting.\n",
      "Yamaha FZ is ringing the bell!\n"
     ]
    }
   ],
   "source": [
    "class Vehicle:\n",
    "    def __init__(self, make, model):\n",
    "        self.make = make\n",
    "        self.model = model\n",
    "\n",
    "    def start(self):\n",
    "        print(f\"{self.make} {self.model} is starting.\")\n",
    "\n",
    "class Bike(Vehicle):  # Bike inherits from Vehicle\n",
    "    def ring_bell(self):\n",
    "        print(f\"{self.make} {self.model} is ringing the bell!\")\n",
    "\n",
    "my_bike = Bike(\"Yamaha\", \"FZ\")\n",
    "my_bike.start()  # Yamaha FZ is starting.\n",
    "my_bike.ring_bell()  # Yamaha FZ is ringing the bell!"
   ]
  },
  {
   "cell_type": "markdown",
   "id": "83355d3f",
   "metadata": {},
   "source": [
    "## **Mini Project Suggestion (OOP)** \n",
    "\n",
    "### **✅ Mini Project:**\n",
    "#### **Student Management System**\n",
    "\n",
    "* Create a Student class with name, roll number, and grade.\n",
    "* Add methods to show student details.\n",
    "* Create a subclass CollegeStudent that inherits from Student and adds course name."
   ]
  },
  {
   "cell_type": "code",
   "execution_count": 16,
   "id": "5d3ace15",
   "metadata": {},
   "outputs": [
    {
     "name": "stdout",
     "output_type": "stream",
     "text": [
      "Name: Alice, Roll Number: 101, Grade: 95, Major: Computer Science\n"
     ]
    }
   ],
   "source": [
    "class Student:\n",
    "    def __init__(self, name, roll_number, grade):\n",
    "        self.name = name\n",
    "        self.roll_number = roll_number\n",
    "        self.grade = grade\n",
    "    \n",
    "    def get_details(self):\n",
    "        return f\"Name: {self.name}, Roll Number: {self.roll_number}, Grade: {self.grade}\"\n",
    "\n",
    "    def is_passing(self):\n",
    "        return self.grade >= 50\n",
    "    \n",
    "    def is_honors(self):\n",
    "        return self.grade >= 90\n",
    "\n",
    "    def is_failing(self):\n",
    "        return self.grade < 50\n",
    "\n",
    "\n",
    "class CollegeStudent(Student):\n",
    "    def __init__(self, name, roll_number, grade, major):\n",
    "        super().__init__(name, roll_number, grade)\n",
    "        self.major = major\n",
    "    \n",
    "    def get_details(self):\n",
    "        return f\"Name: {self.name}, Roll Number: {self.roll_number}, Grade: {self.grade}, Major: {self.major}\"\n",
    "\n",
    "    def is_honors(self):\n",
    "        return self.grade >= 85  # Different criteria for college honors\n",
    "\n",
    "# Example usage\n",
    "student1 = CollegeStudent(\"Alice\", 101, 95, \"Computer Science\")\n",
    "print(student1.get_details())  # Name: Alice, Roll Number: 101, Grade: 95\n",
    "\n",
    "\n",
    "\n",
    "\n"
   ]
  },
  {
   "cell_type": "markdown",
   "id": "6863f748",
   "metadata": {},
   "source": [
    "## **📚 Practice Problems**"
   ]
  },
  {
   "cell_type": "markdown",
   "id": "084ceb07",
   "metadata": {},
   "source": [
    "#### **Create a class Laptop with attributes brand, model, and price.**"
   ]
  },
  {
   "cell_type": "code",
   "execution_count": 17,
   "id": "4c1757c1",
   "metadata": {},
   "outputs": [
    {
     "name": "stdout",
     "output_type": "stream",
     "text": [
      "Dell\n",
      "XPS 13\n",
      "999.99\n"
     ]
    }
   ],
   "source": [
    "class Laptop:\n",
    "    def __init__(self, brand, model, price):\n",
    "        self.brand = brand\n",
    "        self.model = model\n",
    "        self.price = price\n",
    "\n",
    "\n",
    "my_laptop = Laptop(\"Dell\", \"XPS 13\", 999.99)\n",
    "print(my_laptop.brand)  # Output: Dell  \n",
    "print(my_laptop.model)  # Output: XPS 13\n",
    "print(my_laptop.price)  # Output: 999.99"
   ]
  },
  {
   "cell_type": "markdown",
   "id": "c13042ba",
   "metadata": {},
   "source": [
    "#### **Create a method show_details() in Laptop class.**"
   ]
  },
  {
   "cell_type": "code",
   "execution_count": 18,
   "id": "d97245e4",
   "metadata": {},
   "outputs": [
    {
     "name": "stdout",
     "output_type": "stream",
     "text": [
      "Brand: Apple, Model: MacBook Pro, Price: $1299.99\n"
     ]
    }
   ],
   "source": [
    "class Laptop:\n",
    "    def __init__(self, brand, model, price):\n",
    "        self.brand = brand\n",
    "        self.model = model\n",
    "        self.price = price\n",
    "\n",
    "    def show_details(self):\n",
    "        print(f\"Brand: {self.brand}, Model: {self.model}, Price: ${self.price}\")\n",
    "\n",
    "my_laptop = Laptop(\"Apple\", \"MacBook Pro\", 1299.99)\n",
    "my_laptop.show_details()  # Output: Brand: Apple, Model: MacBook Pro, Price: $1299.99\n"
   ]
  },
  {
   "cell_type": "markdown",
   "id": "d43510fb",
   "metadata": {},
   "source": [
    "#### **Create a parent class Shape and child classes Circle, Square with different area() methods.**"
   ]
  },
  {
   "cell_type": "code",
   "execution_count": 19,
   "id": "58197371",
   "metadata": {},
   "outputs": [
    {
     "name": "stdout",
     "output_type": "stream",
     "text": [
      "Circle Area: 78.5\n",
      "Square Area: 16\n"
     ]
    }
   ],
   "source": [
    "class Shape:\n",
    "    def __init__(self, color):\n",
    "        self.color = color\n",
    "\n",
    "    def area(self):\n",
    "        raise NotImplementedError(\"Subclasses must implement this method\")\n",
    "\n",
    "class Circle(Shape):\n",
    "    def __init__(self, radius, color):\n",
    "        super().__init__(color)\n",
    "        self.radius = radius\n",
    "\n",
    "    def area(self):\n",
    "        return 3.14 * self.radius ** 2\n",
    "\n",
    "class Square(Shape):\n",
    "    def __init__(self, side_length, color):\n",
    "        super().__init__(color)\n",
    "        self.side_length = side_length\n",
    "\n",
    "    def area(self):\n",
    "        return self.side_length ** 2\n",
    "\n",
    "circle = Circle(5, \"Red\")\n",
    "print(f\"Circle Area: {circle.area()}\")  # Output: Circle Area: 78.5\n",
    "square = Square(4, \"Blue\")\n",
    "print(f\"Square Area: {square.area()}\")  # Output: Square Area: 16"
   ]
  },
  {
   "cell_type": "markdown",
   "id": "2e6eaf86",
   "metadata": {},
   "source": [
    "#### **Create a class BankAccount with deposit and withdraw methods.**"
   ]
  },
  {
   "cell_type": "code",
   "execution_count": 20,
   "id": "7415d24d",
   "metadata": {},
   "outputs": [
    {
     "name": "stdout",
     "output_type": "stream",
     "text": [
      "Deposited $500. New balance: $1500\n",
      "Withdrew $200. New balance: $1300\n",
      "Insufficient balance.\n"
     ]
    }
   ],
   "source": [
    "class BankAccount:\n",
    "    def __init__(self, account_number, balance=0):\n",
    "        self.account_number = account_number\n",
    "        self.balance = balance\n",
    "\n",
    "    def deposit(self, amount):\n",
    "        self.balance += amount\n",
    "        print(f\"Deposited ${amount}. New balance: ${self.balance}\")\n",
    "\n",
    "    def withdraw(self, amount):\n",
    "        if amount > self.balance:\n",
    "            print(\"Insufficient balance.\")\n",
    "        else:\n",
    "            self.balance -= amount\n",
    "            print(f\"Withdrew ${amount}. New balance: ${self.balance}\")\n",
    "\n",
    "my_account = BankAccount(\"123456789\", 1000)\n",
    "my_account.deposit(500)  # Output: Deposited $500. New balance: $1500\n",
    "my_account.withdraw(200)  # Output: Withdrew $200. New balance: $1300\n",
    "my_account.withdraw(2000)  # Output: Insufficient balance."
   ]
  },
  {
   "cell_type": "markdown",
   "id": "484196bf",
   "metadata": {},
   "source": []
  }
 ],
 "metadata": {
  "kernelspec": {
   "display_name": "myenv",
   "language": "python",
   "name": "python3"
  },
  "language_info": {
   "codemirror_mode": {
    "name": "ipython",
    "version": 3
   },
   "file_extension": ".py",
   "mimetype": "text/x-python",
   "name": "python",
   "nbconvert_exporter": "python",
   "pygments_lexer": "ipython3",
   "version": "3.10.16"
  }
 },
 "nbformat": 4,
 "nbformat_minor": 5
}
