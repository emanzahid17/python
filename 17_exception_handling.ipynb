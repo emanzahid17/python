{
 "cells": [
  {
   "cell_type": "markdown",
   "id": "dbf4ea0b",
   "metadata": {},
   "source": [
    "# **Exception Handling in Python**  \n",
    "\n",
    "**Author of this Notebook: Eman Zahid**  \n",
    "**Contact: [LinkedIn](https://www.linkedin.com/in/eman-zahid-b384a6300/)**"
   ]
  },
  {
   "cell_type": "markdown",
   "id": "1dd89140",
   "metadata": {},
   "source": [
    "## **1. What is an Exception?**  \n",
    "\n",
    "🔹 Definition:\n",
    "An exception is an error that happens during the execution of a program.\n",
    "\n",
    "🔹 Example:\n",
    "\n",
    "* Dividing by zero\n",
    "* Accessing a file that doesn’t exist\n",
    "* Using a wrong data type\n",
    "\n",
    "🔹 Without handling, your program will stop immediately when an exception occurs!"
   ]
  },
  {
   "cell_type": "markdown",
   "id": "bda3c1dc",
   "metadata": {},
   "source": [
    "## **2. Why Handle Exceptions?**  \n",
    "\n",
    "✅ To stop the program from crashing when an error happens.\n",
    "\n",
    "✅ To show a friendly message to the user instead of a scary error.\n",
    "\n",
    "✅ To continue running the program even after an error."
   ]
  },
  {
   "cell_type": "markdown",
   "id": "1d31090b",
   "metadata": {},
   "source": [
    "## **3. How to Handle Exceptions? → try and except blocks**  \n",
    "\n",
    "### **🔵 Basic Structure:**"
   ]
  },
  {
   "cell_type": "code",
   "execution_count": null,
   "id": "ec721c92",
   "metadata": {},
   "outputs": [],
   "source": [
    "try:\n",
    "    # Code that might throw an error\n",
    "except:\n",
    "    # Code that runs if an error happens\n"
   ]
  },
  {
   "cell_type": "markdown",
   "id": "12799076",
   "metadata": {},
   "source": [
    "#### **Example 1:**"
   ]
  },
  {
   "cell_type": "code",
   "execution_count": 4,
   "id": "5daffa74",
   "metadata": {},
   "outputs": [
    {
     "name": "stdout",
     "output_type": "stream",
     "text": [
      "You can't divide by zero!\n"
     ]
    }
   ],
   "source": [
    "try:\n",
    "    num = int(input(\"Enter a number: \"))\n",
    "    print(10 / num)\n",
    "except ZeroDivisionError:\n",
    "    print(\"You can't divide by zero!\")\n",
    "    \n"
   ]
  },
  {
   "cell_type": "markdown",
   "id": "355d0ab2",
   "metadata": {},
   "source": [
    "#### **Example 2: Handling Multiple Errors**"
   ]
  },
  {
   "cell_type": "code",
   "execution_count": 5,
   "id": "c34f5f86",
   "metadata": {},
   "outputs": [
    {
     "name": "stdout",
     "output_type": "stream",
     "text": [
      "You must enter an integer!\n"
     ]
    }
   ],
   "source": [
    "try:\n",
    "    num = int(input(\"Enter a number: \"))\n",
    "    print(10 / num)\n",
    "except ZeroDivisionError:\n",
    "    print(\"You cannot divide by zero!\")\n",
    "except ValueError:\n",
    "    print(\"You must enter an integer!\")\n"
   ]
  },
  {
   "cell_type": "markdown",
   "id": "85e94151",
   "metadata": {},
   "source": [
    "### **Raising Your Own Exceptions**"
   ]
  },
  {
   "cell_type": "code",
   "execution_count": 9,
   "id": "0aab7f9c",
   "metadata": {},
   "outputs": [
    {
     "name": "stdout",
     "output_type": "stream",
     "text": [
      "Invalid input: Age cannot be negative.\n"
     ]
    }
   ],
   "source": [
    "try:\n",
    "    age = int(input(\"Enter your age: \"))\n",
    "    if age < 0:\n",
    "        raise ValueError(\"Age cannot be negative.\")\n",
    "    else:\n",
    "        print(f\"Your age is {age}.\")\n",
    "except ValueError as e:\n",
    "    print(f\"Invalid input: {e}\")\n"
   ]
  },
  {
   "cell_type": "markdown",
   "id": "daa013e8",
   "metadata": {},
   "source": [
    "### **Using Exception Object**  \n",
    "\n",
    "You can catch the actual error message using as:"
   ]
  },
  {
   "cell_type": "code",
   "execution_count": 11,
   "id": "1ccc7686",
   "metadata": {},
   "outputs": [
    {
     "name": "stdout",
     "output_type": "stream",
     "text": [
      "Error occurred: invalid literal for int() with base 10: '8.7'\n"
     ]
    }
   ],
   "source": [
    "try:\n",
    "    num = int(input(\"Enter a number: \"))\n",
    "    print(10 / num)\n",
    "except Exception as e:\n",
    "    print(\"Error occurred:\", e)\n"
   ]
  },
  {
   "cell_type": "markdown",
   "id": "a4764b55",
   "metadata": {},
   "source": [
    "## **Real-World Example**  \n",
    "\n",
    "Imagine you're building a calculator:"
   ]
  },
  {
   "cell_type": "code",
   "execution_count": 13,
   "id": "214e5651",
   "metadata": {},
   "outputs": [
    {
     "name": "stdout",
     "output_type": "stream",
     "text": [
      "Cannot divide by zero!\n"
     ]
    }
   ],
   "source": [
    "try:\n",
    "    num1 = int(input(\"Enter first number: \"))\n",
    "    num2 = int(input(\"Enter second number: \"))\n",
    "    operation = input(\"Enter operation (+, -, *, /): \")\n",
    "\n",
    "    if operation == \"+\":\n",
    "        print(num1 + num2)\n",
    "    elif operation == \"-\":\n",
    "        print(num1 - num2)\n",
    "    elif operation == \"*\":\n",
    "        print(num1 * num2)\n",
    "    elif operation == \"/\":\n",
    "        print(num1 / num2)\n",
    "    else:\n",
    "        print(\"Invalid operation!\")\n",
    "except ZeroDivisionError:\n",
    "    print(\"Cannot divide by zero!\")\n",
    "except ValueError:\n",
    "    print(\"Invalid input! Please enter numbers only.\")\n"
   ]
  },
  {
   "cell_type": "markdown",
   "id": "6a4986d6",
   "metadata": {},
   "source": [
    "## **📚 Important Points to Remember**  \n",
    "\n",
    "* try → Write the code that may cause error.\n",
    "* except → Write the code to handle error.\n",
    "* else → (Optional) Runs if no error happens.\n",
    "* finally → (Optional) Always runs whether error happens or not (used to close files, free resources)."
   ]
  },
  {
   "cell_type": "markdown",
   "id": "0bc5badf",
   "metadata": {},
   "source": [
    "## **Practice Problems**"
   ]
  },
  {
   "cell_type": "markdown",
   "id": "60560b68",
   "metadata": {},
   "source": [
    "#### **1. Divide two numbers entered by user. Handle ZeroDivisionError.**"
   ]
  },
  {
   "cell_type": "code",
   "execution_count": 14,
   "id": "3b36a989",
   "metadata": {},
   "outputs": [
    {
     "name": "stdout",
     "output_type": "stream",
     "text": [
      "You can't divide by zero!\n"
     ]
    }
   ],
   "source": [
    "try:\n",
    "    a = int(input(\"Enter first number: \"))\n",
    "    b = int(input(\"Enter second number: \"))\n",
    "    print(\"Result:\", a / b)\n",
    "except ZeroDivisionError:\n",
    "    print(\"You can't divide by zero!\")\n",
    "except ValueError:\n",
    "    print(\"Please enter valid numbers.\")\n"
   ]
  },
  {
   "cell_type": "markdown",
   "id": "9fa4e2e8",
   "metadata": {},
   "source": [
    "#### **2. Ask user for age. Raise ValueError if age is less than 0.**"
   ]
  },
  {
   "cell_type": "code",
   "execution_count": 15,
   "id": "07d03ea2",
   "metadata": {},
   "outputs": [
    {
     "name": "stdout",
     "output_type": "stream",
     "text": [
      "Error: Age cannot be negative!\n"
     ]
    }
   ],
   "source": [
    "try:\n",
    "    age = int(input(\"Enter your age: \"))\n",
    "    if age < 0:\n",
    "        raise ValueError(\"Age cannot be negative!\")\n",
    "    print(\"Your age is:\", age)\n",
    "except ValueError as e:\n",
    "    print(\"Error:\", e)\n"
   ]
  },
  {
   "cell_type": "markdown",
   "id": "4118caee",
   "metadata": {},
   "source": [
    "#### **3. Open a file entered by user. Handle file not found error.**"
   ]
  },
  {
   "cell_type": "code",
   "execution_count": 16,
   "id": "b571300b",
   "metadata": {},
   "outputs": [
    {
     "name": "stdout",
     "output_type": "stream",
     "text": [
      "File not found! Please check the filename.\n"
     ]
    }
   ],
   "source": [
    "try:\n",
    "    filename = input(\"Enter filename: \")\n",
    "    file = open(filename, 'r')\n",
    "    content = file.read()\n",
    "    print(content)\n",
    "    file.close()\n",
    "except FileNotFoundError:\n",
    "    print(\"File not found! Please check the filename.\")\n"
   ]
  },
  {
   "cell_type": "markdown",
   "id": "0193502c",
   "metadata": {},
   "source": [
    "#### **4. Build a login system that raises an exception if username/password is empty.**"
   ]
  },
  {
   "cell_type": "code",
   "execution_count": 17,
   "id": "faa27f50",
   "metadata": {},
   "outputs": [
    {
     "name": "stdout",
     "output_type": "stream",
     "text": [
      "Error: Username or password cannot be empty!\n"
     ]
    }
   ],
   "source": [
    "try:\n",
    "    username = input(\"Enter username: \")\n",
    "    password = input(\"Enter password: \")\n",
    "\n",
    "    if not username or not password:\n",
    "        raise ValueError(\"Username or password cannot be empty!\")\n",
    "\n",
    "    print(\"Login Successful!\")\n",
    "except ValueError as e:\n",
    "    print(\"Error:\", e)\n"
   ]
  },
  {
   "cell_type": "markdown",
   "id": "cfb979cb",
   "metadata": {},
   "source": [
    "#### **5. Program that converts a string to int. Handle ValueError.**"
   ]
  },
  {
   "cell_type": "code",
   "execution_count": 19,
   "id": "9e94a048",
   "metadata": {},
   "outputs": [
    {
     "name": "stdout",
     "output_type": "stream",
     "text": [
      "That was not a valid number!\n"
     ]
    }
   ],
   "source": [
    "try:\n",
    "    s = input(\"Enter a number: \")\n",
    "    n = int(s)\n",
    "    print(\"Integer value:\", n)\n",
    "except ValueError:\n",
    "    print(\"That was not a valid number!\")\n"
   ]
  },
  {
   "cell_type": "markdown",
   "id": "44ed2f8c",
   "metadata": {},
   "source": [
    "#### **6. Bank withdrawal: Raise exception if withdraw amount > balance.**"
   ]
  },
  {
   "cell_type": "code",
   "execution_count": 20,
   "id": "89b76964",
   "metadata": {},
   "outputs": [
    {
     "name": "stdout",
     "output_type": "stream",
     "text": [
      "Withdrawal successful! Remaining balance: 3000\n"
     ]
    }
   ],
   "source": [
    "try:\n",
    "    balance = 5000\n",
    "    withdraw = int(input(\"Enter amount to withdraw: \"))\n",
    "    \n",
    "    if withdraw > balance:\n",
    "        raise Exception(\"Insufficient balance.\")\n",
    "    else:\n",
    "        balance -= withdraw\n",
    "        print(\"Withdrawal successful! Remaining balance:\", balance)\n",
    "except Exception as e:\n",
    "    print(\"Error:\", e)\n"
   ]
  },
  {
   "cell_type": "markdown",
   "id": "a2311a23",
   "metadata": {},
   "source": [
    "#### **7. Read JSON file. Handle if file doesn’t exist or wrong format.**"
   ]
  },
  {
   "cell_type": "code",
   "execution_count": 21,
   "id": "58089cc7",
   "metadata": {},
   "outputs": [
    {
     "name": "stdout",
     "output_type": "stream",
     "text": [
      "JSON Data: {'name': 'Eman', 'age': 24, 'city': 'Lahore'}\n"
     ]
    }
   ],
   "source": [
    "import json\n",
    "\n",
    "try:\n",
    "    filename = input(\"Enter JSON filename: \")\n",
    "    with open(filename, 'r') as file:\n",
    "        data = json.load(file)\n",
    "    print(\"JSON Data:\", data)\n",
    "except FileNotFoundError:\n",
    "    print(\"File not found!\")\n",
    "except json.JSONDecodeError:\n",
    "    print(\"Invalid JSON format!\")\n"
   ]
  },
  {
   "cell_type": "markdown",
   "id": "a4fb8241",
   "metadata": {},
   "source": [
    "#### **8. Ask for a number. If odd, raise an exception.**"
   ]
  },
  {
   "cell_type": "code",
   "execution_count": 23,
   "id": "30de722c",
   "metadata": {},
   "outputs": [
    {
     "name": "stdout",
     "output_type": "stream",
     "text": [
      "Error: You entered an odd number!\n"
     ]
    }
   ],
   "source": [
    "try:\n",
    "    num = int(input(\"Enter a number: \"))\n",
    "    if num % 2 != 0:\n",
    "        raise Exception(\"You entered an odd number!\")\n",
    "    else:\n",
    "        print(\"Good! It's an even number.\")\n",
    "except Exception as e:\n",
    "    print(\"Error:\", e)\n",
    "except ValueError:\n",
    "    print(\"Please enter a valid number!\")\n"
   ]
  },
  {
   "cell_type": "markdown",
   "id": "21817841",
   "metadata": {},
   "source": [
    "# **Mini Project: Simple Bank Management System (With Exception Handling)**\n"
   ]
  },
  {
   "cell_type": "markdown",
   "id": "61af5c1b",
   "metadata": {},
   "source": [
    "💻 Project Idea:\n",
    "A simple CLI (Command Line Interface) Bank System where a user can:\n",
    "\n",
    "* Check balance\n",
    "* Deposit money\n",
    "* Withdraw money  \n",
    "And the program handles all errors safely!"
   ]
  },
  {
   "cell_type": "code",
   "execution_count": 24,
   "id": "aa130b54",
   "metadata": {},
   "outputs": [
    {
     "name": "stdout",
     "output_type": "stream",
     "text": [
      "\n",
      "Welcome to My Bank\n",
      "1. Check Balance\n",
      "2. Deposit Money\n",
      "3. Withdraw Money\n",
      "4. Exit\n",
      "Your current balance is: $1000\n",
      "\n",
      "Welcome to My Bank\n",
      "1. Check Balance\n",
      "2. Deposit Money\n",
      "3. Withdraw Money\n",
      "4. Exit\n",
      "$66.0 deposited successfully.\n",
      "\n",
      "Welcome to My Bank\n",
      "1. Check Balance\n",
      "2. Deposit Money\n",
      "3. Withdraw Money\n",
      "4. Exit\n",
      "Your current balance is: $1066.0\n",
      "\n",
      "Welcome to My Bank\n",
      "1. Check Balance\n",
      "2. Deposit Money\n",
      "3. Withdraw Money\n",
      "4. Exit\n",
      "Your current balance is: $1066.0\n",
      "\n",
      "Welcome to My Bank\n",
      "1. Check Balance\n",
      "2. Deposit Money\n",
      "3. Withdraw Money\n",
      "4. Exit\n",
      "$45.0 withdrawn successfully.\n",
      "\n",
      "Welcome to My Bank\n",
      "1. Check Balance\n",
      "2. Deposit Money\n",
      "3. Withdraw Money\n",
      "4. Exit\n",
      "$76.0 withdrawn successfully.\n",
      "\n",
      "Welcome to My Bank\n",
      "1. Check Balance\n",
      "2. Deposit Money\n",
      "3. Withdraw Money\n",
      "4. Exit\n",
      "Your current balance is: $945.0\n",
      "\n",
      "Welcome to My Bank\n",
      "1. Check Balance\n",
      "2. Deposit Money\n",
      "3. Withdraw Money\n",
      "4. Exit\n",
      "Thank you for using My Bank. Goodbye!\n"
     ]
    }
   ],
   "source": [
    "balance = 1000  # Starting balance\n",
    "\n",
    "def check_balance():\n",
    "    print(f\"Your current balance is: ${balance}\")\n",
    "\n",
    "def deposit_money():\n",
    "    global balance\n",
    "    try:\n",
    "        amount = float(input(\"Enter amount to deposit: \"))\n",
    "        if amount <= 0:\n",
    "            raise ValueError(\"Deposit amount must be positive!\")\n",
    "        balance += amount\n",
    "        print(f\"${amount} deposited successfully.\")\n",
    "    except ValueError as e:\n",
    "        print(\"Error:\", e)\n",
    "\n",
    "def withdraw_money():\n",
    "    global balance\n",
    "    try:\n",
    "        amount = float(input(\"Enter amount to withdraw: \"))\n",
    "        if amount <= 0:\n",
    "            raise ValueError(\"Withdrawal amount must be positive!\")\n",
    "        if amount > balance:\n",
    "            raise Exception(\"Insufficient balance!\")\n",
    "        balance -= amount\n",
    "        print(f\"${amount} withdrawn successfully.\")\n",
    "    except (ValueError, Exception) as e:\n",
    "        print(\"Error:\", e)\n",
    "\n",
    "while True:\n",
    "    print(\"\\nWelcome to My Bank\")\n",
    "    print(\"1. Check Balance\")\n",
    "    print(\"2. Deposit Money\")\n",
    "    print(\"3. Withdraw Money\")\n",
    "    print(\"4. Exit\")\n",
    "\n",
    "    choice = input(\"Enter your choice (1-4): \")\n",
    "\n",
    "    if choice == '1':\n",
    "        check_balance()\n",
    "    elif choice == '2':\n",
    "        deposit_money()\n",
    "    elif choice == '3':\n",
    "        withdraw_money()\n",
    "    elif choice == '4':\n",
    "        print(\"Thank you for using My Bank. Goodbye!\")\n",
    "        break\n",
    "    else:\n",
    "        print(\"Invalid choice! Please select from 1-4.\")\n"
   ]
  }
 ],
 "metadata": {
  "kernelspec": {
   "display_name": "myenv",
   "language": "python",
   "name": "python3"
  },
  "language_info": {
   "codemirror_mode": {
    "name": "ipython",
    "version": 3
   },
   "file_extension": ".py",
   "mimetype": "text/x-python",
   "name": "python",
   "nbconvert_exporter": "python",
   "pygments_lexer": "ipython3",
   "version": "3.10.16"
  }
 },
 "nbformat": 4,
 "nbformat_minor": 5
}
