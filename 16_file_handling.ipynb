{
 "cells": [
  {
   "cell_type": "markdown",
   "metadata": {},
   "source": [
    "# **📂 File Handling in Python**  \n",
    "\n",
    "**Author of this Notebook: Eman Zahid**  \n",
    "**Contact: [LinkedIn](https://www.linkedin.com/in/eman-zahid-b384a6300/)**"
   ]
  },
  {
   "cell_type": "markdown",
   "metadata": {},
   "source": [
    "File handling in Python allows us to create, read, update, and delete files. It is a crucial skill when working with data storage, logs, configuration files, or reports."
   ]
  },
  {
   "cell_type": "markdown",
   "metadata": {},
   "source": [
    "## **📌 1. Opening and Closing Files (open(), close())**  \n",
    "\n",
    "Before working with a file, you must open it using the open() function. Once done, you must close it using the close() method."
   ]
  },
  {
   "cell_type": "markdown",
   "metadata": {},
   "source": [
    "### **Syntax of open()**"
   ]
  },
  {
   "cell_type": "markdown",
   "metadata": {},
   "source": [
    "file = open(\"filename.txt\", mode)\n",
    "\n",
    "* \"filename.txt\" → Name of the file (with extension).\n",
    "\n",
    "* mode → Specifies how the file is opened (read, write, append, etc.)."
   ]
  },
  {
   "cell_type": "markdown",
   "metadata": {},
   "source": [
    "| Mode  | Description |\n",
    "|-------|------------|\n",
    "| `\"r\"` | Read mode (default). File must exist. |\n",
    "| `\"w\"` | Write mode. Creates a new file or overwrites existing content. |\n",
    "| `\"a\"` | Append mode. Adds content at the end of an existing file. |\n",
    "| `\"x\"` | Create mode. Creates a file but gives an error if the file exists. |\n",
    "| `\"t\"` | Text mode (default). Reads text data. |\n",
    "| `\"b\"` | Binary mode. Reads non-text files (e.g., images, audio). |\n",
    "| `\"r+\"`| Read and Write mode |\n"
   ]
  },
  {
   "cell_type": "markdown",
   "metadata": {},
   "source": [
    "#### **Example: Opening and Closing a File**"
   ]
  },
  {
   "cell_type": "code",
   "execution_count": 6,
   "metadata": {},
   "outputs": [
    {
     "name": "stdout",
     "output_type": "stream",
     "text": [
      "# Learning Python with Eman \n",
      "\n",
      "Welcome to **Learning Python with Eman!** This repository is designed to take you from a complete beginner to an advanced Python programmer. Whether you are just starting out or looking to sharpen your skills, this series provides structured, hands-on learning through **Jupyter Notebooks** covering various Python topics.\n",
      "\n",
      "## 📌 About This Series\n",
      "This series consists of **Jupyter Notebooks** that systematically introduce Python, progressing from basic to advanced levels. Each notebook is standalone, making it easy to follow along and practice at your own pace.\n",
      "\n",
      "### 🔥 What You'll Learn\n",
      "- **Python Basics**: Introduction to Python, syntax, variables, data types, and operators.\n",
      "- **Control Flow**: Conditional statements, loops, and functions.\n",
      "- **Data Structures**: Lists, tuples, dictionaries, sets, and strings.\n",
      "- **Object-Oriented Programming (OOP)**: Classes, objects, inheritance, and polymorphism.\n",
      "- **Intermediate Concepts**: File handling, error handling, modules, and libraries.\n",
      "- **Advanced Topics**: Decorators, generators, multithreading, databases, and APIs.\n",
      "- **Problem-Solving Challenges**: A collection of Python problems categorized into **Basic, Intermediate, and Advanced** levels to strengthen your coding skills.\n",
      "\n",
      "## 📂 Repository Structure\n",
      "```\n",
      "Learning-Python-with-Eman/\n",
      "│-- notebooks/\n",
      "│   ├── 01_introduction_to_python.ipynb\n",
      "│   ├── 02_operators.ipynb\n",
      "│   ├── 03_control_flow.ipynb\n",
      "│   ├── ...\n",
      "│   ├── advanced/\n",
      "│   │   ├── 01_oop_in_python.ipynb\n",
      "│   │   ├── 02_multithreading.ipynb\n",
      "│-- problems/\n",
      "│   ├── basic_problems.ipynb\n",
      "│   ├── intermediate_problems.ipynb\n",
      "│   ├── advanced_problems.ipynb\n",
      "│-- README.md\n",
      "```\n",
      "\n",
      "## 🎯 Who Is This For?\n",
      "✅ Beginners who want to learn Python from scratch.  \n",
      "\n",
      "✅ Intermediate learners looking to deepen their understanding.  \n",
      "\n",
      "✅ Advanced users seeking to tackle challenging Python problems.  \n",
      "\n",
      "✅ Data Science, AI, and Web Development enthusiasts. \n",
      "\n",
      "\n",
      "## ⚡ How to Use\n",
      "1. Clone the repository:\n",
      "   ```bash\n",
      "   git clone https://github.com/emanzahid17/python.git\n",
      "   ```\n",
      "2. Install dependencies (if any):\n",
      "   ```bash\n",
      "   pip install -r requirements.txt\n",
      "   ```\n",
      "3. Open Jupyter Notebook:\n",
      "   ```bash\n",
      "   jupyter notebook\n",
      "   ```\n",
      "4. Navigate through the notebooks and start learning! 🚀\n",
      "\n",
      "## 🤝 Contribute\n",
      "If you have suggestions, improvements, or additional Python problems to add, feel free to open a **Pull Request** or create an **Issue**.\n",
      "\n",
      "## 📢 Connect with Me\n",
      "📌 YouTube: [Eman Zahid](https://www.youtube.com/@emanzahid17)\n",
      "\n",
      "📌 LinkedIn: [Eman Zahid](https://linkedin.com/in/eman-zahid-b384a6300)\n",
      "\n",
      "Happy Coding! 🚀🐍\n",
      "\n",
      "\n",
      "\n",
      "\n"
     ]
    }
   ],
   "source": [
    "file = open(\"README.md\", \"r\")  # Opens the file in read mode\n",
    "content = file.read()  # Reads file content\n",
    "print(content)\n",
    "file.close()  # Always close the file after use\n"
   ]
  },
  {
   "cell_type": "markdown",
   "metadata": {},
   "source": [
    "#### **🔴 Problem:** \n",
    "Forgetting to close the file can cause memory issues or prevent other programs from accessing it.\n",
    "\n",
    "#### **✅ Solution: Use the with statement.**"
   ]
  },
  {
   "cell_type": "markdown",
   "metadata": {},
   "source": [
    "## **📌 2. Reading a File (read(), readline(), readlines())**  \n",
    "\n",
    "Once a file is opened in read mode (\"r\"), you can extract its content.\n",
    "\n",
    "### **1️⃣ read() - Reads the entire file**"
   ]
  },
  {
   "cell_type": "code",
   "execution_count": 3,
   "metadata": {},
   "outputs": [
    {
     "name": "stdout",
     "output_type": "stream",
     "text": [
      "The file does not exist\n"
     ]
    }
   ],
   "source": [
    "#if file does not exist\n",
    "try:\n",
    "    with open('python.txt','r') as file:\n",
    "        data = file.read()\n",
    "        print(data)\n",
    "\n",
    "except FileNotFoundError:\n",
    "    print('The file does not exist')"
   ]
  },
  {
   "cell_type": "code",
   "execution_count": 7,
   "metadata": {},
   "outputs": [
    {
     "name": "stdout",
     "output_type": "stream",
     "text": [
      "# Learning Python with Eman \n",
      "\n",
      "Welcome to **Learning Python with Eman!** This repository is designed to take you from a complete beginner to an advanced Python programmer. Whether you are just starting out or looking to sharpen your skills, this series provides structured, hands-on learning through **Jupyter Notebooks** covering various Python topics.\n",
      "\n",
      "## 📌 About This Series\n",
      "This series consists of **Jupyter Notebooks** that systematically introduce Python, progressing from basic to advanced levels. Each notebook is standalone, making it easy to follow along and practice at your own pace.\n",
      "\n",
      "### 🔥 What You'll Learn\n",
      "- **Python Basics**: Introduction to Python, syntax, variables, data types, and operators.\n",
      "- **Control Flow**: Conditional statements, loops, and functions.\n",
      "- **Data Structures**: Lists, tuples, dictionaries, sets, and strings.\n",
      "- **Object-Oriented Programming (OOP)**: Classes, objects, inheritance, and polymorphism.\n",
      "- **Intermediate Concepts**: File handling, error handling, modules, and libraries.\n",
      "- **Advanced Topics**: Decorators, generators, multithreading, databases, and APIs.\n",
      "- **Problem-Solving Challenges**: A collection of Python problems categorized into **Basic, Intermediate, and Advanced** levels to strengthen your coding skills.\n",
      "\n",
      "## 📂 Repository Structure\n",
      "```\n",
      "Learning-Python-with-Eman/\n",
      "│-- notebooks/\n",
      "│   ├── 01_introduction_to_python.ipynb\n",
      "│   ├── 02_operators.ipynb\n",
      "│   ├── 03_control_flow.ipynb\n",
      "│   ├── ...\n",
      "│   ├── advanced/\n",
      "│   │   ├── 01_oop_in_python.ipynb\n",
      "│   │   ├── 02_multithreading.ipynb\n",
      "│-- problems/\n",
      "│   ├── basic_problems.ipynb\n",
      "│   ├── intermediate_problems.ipynb\n",
      "│   ├── advanced_problems.ipynb\n",
      "│-- README.md\n",
      "```\n",
      "\n",
      "## 🎯 Who Is This For?\n",
      "✅ Beginners who want to learn Python from scratch.  \n",
      "\n",
      "✅ Intermediate learners looking to deepen their understanding.  \n",
      "\n",
      "✅ Advanced users seeking to tackle challenging Python problems.  \n",
      "\n",
      "✅ Data Science, AI, and Web Development enthusiasts. \n",
      "\n",
      "\n",
      "## ⚡ How to Use\n",
      "1. Clone the repository:\n",
      "   ```bash\n",
      "   git clone https://github.com/emanzahid17/python.git\n",
      "   ```\n",
      "2. Install dependencies (if any):\n",
      "   ```bash\n",
      "   pip install -r requirements.txt\n",
      "   ```\n",
      "3. Open Jupyter Notebook:\n",
      "   ```bash\n",
      "   jupyter notebook\n",
      "   ```\n",
      "4. Navigate through the notebooks and start learning! 🚀\n",
      "\n",
      "## 🤝 Contribute\n",
      "If you have suggestions, improvements, or additional Python problems to add, feel free to open a **Pull Request** or create an **Issue**.\n",
      "\n",
      "## 📢 Connect with Me\n",
      "📌 YouTube: [Eman Zahid](https://www.youtube.com/@emanzahid17)\n",
      "\n",
      "📌 LinkedIn: [Eman Zahid](https://linkedin.com/in/eman-zahid-b384a6300)\n",
      "\n",
      "Happy Coding! 🚀🐍\n",
      "\n",
      "\n",
      "\n",
      "\n"
     ]
    }
   ],
   "source": [
    "with open(\"README.md\", \"r\") as file:\n",
    "    text = file.read()\n",
    "    print(text)"
   ]
  },
  {
   "cell_type": "markdown",
   "metadata": {},
   "source": [
    "### **2️⃣ readline() - Reads one line at a time**"
   ]
  },
  {
   "cell_type": "code",
   "execution_count": 2,
   "metadata": {},
   "outputs": [
    {
     "name": "stdout",
     "output_type": "stream",
     "text": [
      "# Learning Python with Eman \n",
      "\n"
     ]
    }
   ],
   "source": [
    "with open(\"README.md\", \"r\") as file:\n",
    "    line1 = file.readline() # Read the first line\n",
    "    line2 = file.readline() # Read the second line\n",
    "    print(line1) # Print the first line"
   ]
  },
  {
   "cell_type": "markdown",
   "metadata": {},
   "source": [
    "### **3️⃣ readlines() - Reads all lines into a list**"
   ]
  },
  {
   "cell_type": "code",
   "execution_count": 10,
   "metadata": {},
   "outputs": [
    {
     "name": "stdout",
     "output_type": "stream",
     "text": [
      "['# Learning Python with Eman \\n', '\\n', 'Welcome to **Learning Python with Eman!** This repository is designed to take you from a complete beginner to an advanced Python programmer. Whether you are just starting out or looking to sharpen your skills, this series provides structured, hands-on learning through **Jupyter Notebooks** covering various Python topics.\\n', '\\n', '## 📌 About This Series\\n', 'This series consists of **Jupyter Notebooks** that systematically introduce Python, progressing from basic to advanced levels. Each notebook is standalone, making it easy to follow along and practice at your own pace.\\n', '\\n', \"### 🔥 What You'll Learn\\n\", '- **Python Basics**: Introduction to Python, syntax, variables, data types, and operators.\\n', '- **Control Flow**: Conditional statements, loops, and functions.\\n', '- **Data Structures**: Lists, tuples, dictionaries, sets, and strings.\\n', '- **Object-Oriented Programming (OOP)**: Classes, objects, inheritance, and polymorphism.\\n', '- **Intermediate Concepts**: File handling, error handling, modules, and libraries.\\n', '- **Advanced Topics**: Decorators, generators, multithreading, databases, and APIs.\\n', '- **Problem-Solving Challenges**: A collection of Python problems categorized into **Basic, Intermediate, and Advanced** levels to strengthen your coding skills.\\n', '\\n', '## 📂 Repository Structure\\n', '```\\n', 'Learning-Python-with-Eman/\\n', '│-- notebooks/\\n', '│   ├── 01_introduction_to_python.ipynb\\n', '│   ├── 02_operators.ipynb\\n', '│   ├── 03_control_flow.ipynb\\n', '│   ├── ...\\n', '│   ├── advanced/\\n', '│   │   ├── 01_oop_in_python.ipynb\\n', '│   │   ├── 02_multithreading.ipynb\\n', '│-- problems/\\n', '│   ├── basic_problems.ipynb\\n', '│   ├── intermediate_problems.ipynb\\n', '│   ├── advanced_problems.ipynb\\n', '│-- README.md\\n', '```\\n', '\\n', '## 🎯 Who Is This For?\\n', '✅ Beginners who want to learn Python from scratch.  \\n', '\\n', '✅ Intermediate learners looking to deepen their understanding.  \\n', '\\n', '✅ Advanced users seeking to tackle challenging Python problems.  \\n', '\\n', '✅ Data Science, AI, and Web Development enthusiasts. \\n', '\\n', '\\n', '## ⚡ How to Use\\n', '1. Clone the repository:\\n', '   ```bash\\n', '   git clone https://github.com/emanzahid17/python.git\\n', '   ```\\n', '2. Install dependencies (if any):\\n', '   ```bash\\n', '   pip install -r requirements.txt\\n', '   ```\\n', '3. Open Jupyter Notebook:\\n', '   ```bash\\n', '   jupyter notebook\\n', '   ```\\n', '4. Navigate through the notebooks and start learning! 🚀\\n', '\\n', '## 🤝 Contribute\\n', 'If you have suggestions, improvements, or additional Python problems to add, feel free to open a **Pull Request** or create an **Issue**.\\n', '\\n', '## 📢 Connect with Me\\n', '📌 YouTube: [Eman Zahid](https://www.youtube.com/@emanzahid17)\\n', '\\n', '📌 LinkedIn: [Eman Zahid](https://linkedin.com/in/eman-zahid-b384a6300)\\n', '\\n', 'Happy Coding! 🚀🐍\\n', '\\n', '\\n', '\\n']\n"
     ]
    }
   ],
   "source": [
    "with open(\"README.md\", \"r\") as file:\n",
    "    lines = file.readlines()\n",
    "    print(lines)"
   ]
  },
  {
   "cell_type": "markdown",
   "metadata": {},
   "source": [
    "## **📌 3. Writing to a File (write(), writelines())**  \n",
    "\n",
    "To write data into a file, open it in write (\"w\") or append (\"a\") mode.\n",
    "\n",
    "### **1️⃣ write() - Writing a single string**"
   ]
  },
  {
   "cell_type": "code",
   "execution_count": 4,
   "metadata": {},
   "outputs": [],
   "source": [
    "with open(\"example.txt\", \"w\") as file:\n",
    "    file.write(\"Hello, this is a new file.\\n\")\n",
    "    file.write(\"It contains multiple lines.\\n\")\n"
   ]
  },
  {
   "cell_type": "markdown",
   "metadata": {},
   "source": [
    "#### **🔴 Warning: \"w\" mode overwrites the file if it already exists.**"
   ]
  },
  {
   "cell_type": "markdown",
   "metadata": {},
   "source": [
    "### **2️⃣ writelines() - Writing multiple lines**"
   ]
  },
  {
   "cell_type": "code",
   "execution_count": 5,
   "metadata": {},
   "outputs": [],
   "source": [
    "lines = [\"First line\\n\", \"Second line\\n\", \"Third line\\n\"]\n",
    "with open(\"example.txt\", \"w\") as file:\n",
    "    file.writelines(lines)  # Writes multiple lines at once\n"
   ]
  },
  {
   "cell_type": "markdown",
   "metadata": {},
   "source": [
    "## **📌 4. Appending to a File (\"a\")**"
   ]
  },
  {
   "cell_type": "markdown",
   "metadata": {},
   "source": [
    "* \"a\" mode does not overwrite existing content.\n",
    "\n",
    "* It adds new data at the end of the file."
   ]
  },
  {
   "cell_type": "code",
   "execution_count": 6,
   "metadata": {},
   "outputs": [],
   "source": [
    "with open(\"example.txt\", \"a\") as file:\n",
    "    file.write(\"This is an additional line.\\n\")\n"
   ]
  },
  {
   "cell_type": "markdown",
   "metadata": {},
   "source": [
    "## **📌 5. Read + Write (\"r+\")**"
   ]
  },
  {
   "cell_type": "code",
   "execution_count": 14,
   "metadata": {},
   "outputs": [
    {
     "name": "stdout",
     "output_type": "stream",
     "text": [
      "--------------------------\n",
      "Current Content: First line\n",
      "Second line\n",
      "Third line\n",
      "\n",
      "This is a new line adding in the file.\n",
      "Content updated successfully\n"
     ]
    }
   ],
   "source": [
    "with open(\"example.txt\", \"r+\") as file:\n",
    "    content = file.read()\n",
    "    print(\"--------------------------\")\n",
    "    print(\"Current Content:\", content)\n",
    "    file.write('\\nThis is a new line adding in the file.')\n",
    "print(\"Content updated successfully\")"
   ]
  },
  {
   "cell_type": "markdown",
   "metadata": {},
   "source": [
    "## **📌 6. Deleting a File**"
   ]
  },
  {
   "cell_type": "code",
   "execution_count": 16,
   "metadata": {},
   "outputs": [
    {
     "name": "stdout",
     "output_type": "stream",
     "text": [
      "File deleted successfully!\n"
     ]
    }
   ],
   "source": [
    "import os\n",
    "\n",
    "if os.path.exists(\"example.txt\"):\n",
    "    os.remove(\"example.txt\")\n",
    "    print(\"File deleted successfully!\")\n",
    "else:\n",
    "    print(\"File not found!\")\n"
   ]
  },
  {
   "cell_type": "markdown",
   "metadata": {},
   "source": [
    "## **📌 7. Working with CSV files in Python**"
   ]
  },
  {
   "cell_type": "markdown",
   "metadata": {},
   "source": [
    "\n",
    "CSV = Comma Separated Values  \n",
    "Used for data like spreadsheets.\n",
    "\n",
    "### **Reading a CSV File**"
   ]
  },
  {
   "cell_type": "code",
   "execution_count": 15,
   "metadata": {},
   "outputs": [
    {
     "name": "stdout",
     "output_type": "stream",
     "text": [
      "File does not found.\n"
     ]
    }
   ],
   "source": [
    "import csv\n",
    "try: \n",
    "    with open(\"data.csv\", \"r\") as file:\n",
    "        reader = csv.reader(file)\n",
    "        for row in reader:\n",
    "            print(row)\n",
    "\n",
    "except FileNotFoundError:\n",
    "    print(\"File does not found.\")\n"
   ]
  },
  {
   "cell_type": "markdown",
   "metadata": {},
   "source": [
    "### **Writing to a CSV File**"
   ]
  },
  {
   "cell_type": "code",
   "execution_count": null,
   "metadata": {},
   "outputs": [],
   "source": [
    "import csv\n",
    "\n",
    "with open(\"data.csv\", \"w\", newline='') as file: #newline='' prevents extra blank lines on Windows.\n",
    "    writer = csv.writer(file)\n",
    "    writer.writerow([\"Name\", \"Age\"])\n",
    "    writer.writerow([\"Ali\", 22])\n",
    "    writer.writerow([\"Sara\", 25])\n"
   ]
  },
  {
   "cell_type": "markdown",
   "metadata": {},
   "source": [
    "## **📌 8. Working with JSON files in Python**\n",
    "\n",
    "JSON = JavaScript Object Notation  \n",
    "Used to store data in key-value format (like Python dictionaries).\n",
    "\n",
    "### **Writing JSON Data**"
   ]
  },
  {
   "cell_type": "code",
   "execution_count": 17,
   "metadata": {},
   "outputs": [],
   "source": [
    "import json\n",
    "\n",
    "data = {\n",
    "    \"name\": \"Eman\",\n",
    "    \"age\": 24,\n",
    "    \"city\": \"Lahore\"\n",
    "}\n",
    "\n",
    "with open(\"data.json\", \"w\") as file:\n",
    "    json.dump(data, file)\n"
   ]
  },
  {
   "cell_type": "markdown",
   "metadata": {},
   "source": [
    "### **Reading JSON Data**"
   ]
  },
  {
   "cell_type": "code",
   "execution_count": 18,
   "metadata": {},
   "outputs": [
    {
     "name": "stdout",
     "output_type": "stream",
     "text": [
      "{'name': 'Eman', 'age': 24, 'city': 'Lahore'}\n"
     ]
    }
   ],
   "source": [
    "import json\n",
    "\n",
    "with open(\"data.json\", \"r\") as file:\n",
    "    result = json.load(file)\n",
    "    print(result)\n"
   ]
  },
  {
   "cell_type": "markdown",
   "metadata": {},
   "source": [
    "## **🧠 Practice Problems**"
   ]
  },
  {
   "cell_type": "markdown",
   "metadata": {},
   "source": [
    "### **Create a file and write your bio in it.**"
   ]
  },
  {
   "cell_type": "code",
   "execution_count": 26,
   "metadata": {},
   "outputs": [],
   "source": [
    "with open('bio.txt','w') as file:\n",
    "    bio = file.write( \"AI Prompt Engineer | A Senior Copywriter\")\n",
    "    "
   ]
  },
  {
   "cell_type": "markdown",
   "metadata": {},
   "source": [
    "### **Read and print the content of a text file.**"
   ]
  },
  {
   "cell_type": "code",
   "execution_count": 27,
   "metadata": {},
   "outputs": [
    {
     "name": "stdout",
     "output_type": "stream",
     "text": [
      "AI Prompt Engineer | A Senior Copywriter\n"
     ]
    }
   ],
   "source": [
    "with open('bio.txt','r') as file:\n",
    "    content = file.read()\n",
    "    print(content)"
   ]
  },
  {
   "cell_type": "markdown",
   "metadata": {},
   "source": [
    "### **Append new lines to an existing file.**"
   ]
  },
  {
   "cell_type": "code",
   "execution_count": 28,
   "metadata": {},
   "outputs": [],
   "source": [
    "with open('bio.txt','a') as file:\n",
    "    new_content = file.write(\"\\nData Science Enthusiast\\n\")"
   ]
  },
  {
   "cell_type": "markdown",
   "metadata": {},
   "source": [
    "### **Write a Python list of numbers into a CSV file.**"
   ]
  },
  {
   "cell_type": "code",
   "execution_count": 49,
   "metadata": {},
   "outputs": [],
   "source": [
    "import csv\n",
    "\n",
    "# List of rows to write\n",
    "students = [\n",
    "    ['Name', 'Marks'],        # Header\n",
    "    ['Eman', '50'],\n",
    "    ['Fatima', '48'],\n",
    "    ['Daniyal', '34']\n",
    "]\n",
    "\n",
    "# Open CSV file in write mode\n",
    "with open('students.csv', mode='w', newline='') as file:\n",
    "    writer = csv.writer(file)\n",
    "    \n",
    "    # Write all rows at once\n",
    "    writer.writerows(students)\n"
   ]
  },
  {
   "cell_type": "markdown",
   "metadata": {},
   "source": [
    "### **Read student records from a CSV file and print each student name.**\n"
   ]
  },
  {
   "cell_type": "code",
   "execution_count": 50,
   "metadata": {},
   "outputs": [
    {
     "name": "stdout",
     "output_type": "stream",
     "text": [
      "['Name', 'Marks']\n",
      "['Eman', '50']\n",
      "['Fatima', '48']\n",
      "['Daniyal', '34']\n"
     ]
    }
   ],
   "source": [
    "with open(\"students.csv\", \"r\") as file:\n",
    "    records = csv.reader(file)\n",
    "    #print(records)      --------> Output: <_csv.reader object at 0x0000019E19CA5E40>\n",
    "    for row in records:\n",
    "        print(row)"
   ]
  },
  {
   "cell_type": "markdown",
   "metadata": {},
   "source": [
    "### **Save your daily to-do list in a JSON file.**"
   ]
  },
  {
   "cell_type": "code",
   "execution_count": 46,
   "metadata": {},
   "outputs": [],
   "source": [
    "to_do = {\n",
    "    \"learning\" : \"python\",\n",
    "    \"company_tasks\": [\"creating social media posts\",\"updating web pages content\"]\n",
    "}\n",
    "\n",
    "with open('todolist.json', 'w') as file:\n",
    "    todolist = json.dump(to_do, file)"
   ]
  },
  {
   "cell_type": "markdown",
   "metadata": {},
   "source": [
    "### **Read a JSON file and show your full name and email from it.**"
   ]
  },
  {
   "cell_type": "code",
   "execution_count": 48,
   "metadata": {},
   "outputs": [
    {
     "name": "stdout",
     "output_type": "stream",
     "text": [
      "Full Name: Eman Zahid\n",
      "Email: eman.zahid@example.com\n"
     ]
    }
   ],
   "source": [
    "info = {\n",
    "  \"first_name\": \"Eman\",\n",
    "  \"last_name\": \"Zahid\",\n",
    "  \"email\": \"eman.zahid@example.com\",\n",
    "  \"age\": 25,\n",
    "  \"country\": \"Pakistan\",\n",
    "  \"skills\": [\"Python\", \"SQL\", \"Marketing\"]\n",
    "}\n",
    "\n",
    "with open(\"myinfo.json\", \"w\") as file:\n",
    "    content = json.dump(info,file)\n",
    "\n",
    "with open(\"myinfo.json\", \"r\") as file:\n",
    "    data = json.load(file)\n",
    "\n",
    "# Extract only the required fields\n",
    "full_name = f\"{data['first_name']} {data['last_name']}\"\n",
    "email = data['email']\n",
    "\n",
    "# Output\n",
    "print(\"Full Name:\", full_name)\n",
    "print(\"Email:\", email)"
   ]
  }
 ],
 "metadata": {
  "kernelspec": {
   "display_name": "myenv",
   "language": "python",
   "name": "python3"
  },
  "language_info": {
   "codemirror_mode": {
    "name": "ipython",
    "version": 3
   },
   "file_extension": ".py",
   "mimetype": "text/x-python",
   "name": "python",
   "nbconvert_exporter": "python",
   "pygments_lexer": "ipython3",
   "version": "3.10.16"
  }
 },
 "nbformat": 4,
 "nbformat_minor": 2
}
