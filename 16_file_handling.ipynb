{
 "cells": [
  {
   "cell_type": "markdown",
   "metadata": {},
   "source": [
    "# **📂 File Handling in Python**  \n",
    "\n",
    "**Author of this Notebook: Eman Zahid**  \n",
    "**Contact: [LinkedIn](https://www.linkedin.com/in/eman-zahid-b384a6300/)**"
   ]
  },
  {
   "cell_type": "markdown",
   "metadata": {},
   "source": [
    "File handling in Python allows us to create, read, update, and delete files. It is a crucial skill when working with data storage, logs, configuration files, or reports."
   ]
  },
  {
   "cell_type": "markdown",
   "metadata": {},
   "source": [
    "## **📌 1. Opening and Closing Files (open(), close())**  \n",
    "\n",
    "Before working with a file, you must open it using the open() function. Once done, you must close it using the close() method."
   ]
  },
  {
   "cell_type": "markdown",
   "metadata": {},
   "source": [
    "### **Syntax of open()**"
   ]
  },
  {
   "cell_type": "markdown",
   "metadata": {},
   "source": [
    "file = open(\"filename.txt\", mode)\n",
    "\n",
    "* \"filename.txt\" → Name of the file (with extension).\n",
    "\n",
    "* mode → Specifies how the file is opened (read, write, append, etc.)."
   ]
  },
  {
   "cell_type": "markdown",
   "metadata": {},
   "source": [
    "| Mode  | Description |\n",
    "|-------|------------|\n",
    "| `\"r\"` | Read mode (default). File must exist. |\n",
    "| `\"w\"` | Write mode. Creates a new file or overwrites existing content. |\n",
    "| `\"a\"` | Append mode. Adds content at the end of an existing file. |\n",
    "| `\"x\"` | Create mode. Creates a file but gives an error if the file exists. |\n",
    "| `\"t\"` | Text mode (default). Reads text data. |\n",
    "| `\"b\"` | Binary mode. Reads non-text files (e.g., images, audio). |\n"
   ]
  },
  {
   "cell_type": "markdown",
   "metadata": {},
   "source": [
    "#### **Example: Opening and Closing a File**"
   ]
  },
  {
   "cell_type": "code",
   "execution_count": 6,
   "metadata": {},
   "outputs": [
    {
     "name": "stdout",
     "output_type": "stream",
     "text": [
      "# Learning Python with Eman \n",
      "\n",
      "Welcome to **Learning Python with Eman!** This repository is designed to take you from a complete beginner to an advanced Python programmer. Whether you are just starting out or looking to sharpen your skills, this series provides structured, hands-on learning through **Jupyter Notebooks** covering various Python topics.\n",
      "\n",
      "## 📌 About This Series\n",
      "This series consists of **Jupyter Notebooks** that systematically introduce Python, progressing from basic to advanced levels. Each notebook is standalone, making it easy to follow along and practice at your own pace.\n",
      "\n",
      "### 🔥 What You'll Learn\n",
      "- **Python Basics**: Introduction to Python, syntax, variables, data types, and operators.\n",
      "- **Control Flow**: Conditional statements, loops, and functions.\n",
      "- **Data Structures**: Lists, tuples, dictionaries, sets, and strings.\n",
      "- **Object-Oriented Programming (OOP)**: Classes, objects, inheritance, and polymorphism.\n",
      "- **Intermediate Concepts**: File handling, error handling, modules, and libraries.\n",
      "- **Advanced Topics**: Decorators, generators, multithreading, databases, and APIs.\n",
      "- **Problem-Solving Challenges**: A collection of Python problems categorized into **Basic, Intermediate, and Advanced** levels to strengthen your coding skills.\n",
      "\n",
      "## 📂 Repository Structure\n",
      "```\n",
      "Learning-Python-with-Eman/\n",
      "│-- notebooks/\n",
      "│   ├── 01_introduction_to_python.ipynb\n",
      "│   ├── 02_operators.ipynb\n",
      "│   ├── 03_control_flow.ipynb\n",
      "│   ├── ...\n",
      "│   ├── advanced/\n",
      "│   │   ├── 01_oop_in_python.ipynb\n",
      "│   │   ├── 02_multithreading.ipynb\n",
      "│-- problems/\n",
      "│   ├── basic_problems.ipynb\n",
      "│   ├── intermediate_problems.ipynb\n",
      "│   ├── advanced_problems.ipynb\n",
      "│-- README.md\n",
      "```\n",
      "\n",
      "## 🎯 Who Is This For?\n",
      "✅ Beginners who want to learn Python from scratch.  \n",
      "\n",
      "✅ Intermediate learners looking to deepen their understanding.  \n",
      "\n",
      "✅ Advanced users seeking to tackle challenging Python problems.  \n",
      "\n",
      "✅ Data Science, AI, and Web Development enthusiasts. \n",
      "\n",
      "\n",
      "## ⚡ How to Use\n",
      "1. Clone the repository:\n",
      "   ```bash\n",
      "   git clone https://github.com/emanzahid17/python.git\n",
      "   ```\n",
      "2. Install dependencies (if any):\n",
      "   ```bash\n",
      "   pip install -r requirements.txt\n",
      "   ```\n",
      "3. Open Jupyter Notebook:\n",
      "   ```bash\n",
      "   jupyter notebook\n",
      "   ```\n",
      "4. Navigate through the notebooks and start learning! 🚀\n",
      "\n",
      "## 🤝 Contribute\n",
      "If you have suggestions, improvements, or additional Python problems to add, feel free to open a **Pull Request** or create an **Issue**.\n",
      "\n",
      "## 📢 Connect with Me\n",
      "📌 YouTube: [Eman Zahid](https://www.youtube.com/@emanzahid17)\n",
      "\n",
      "📌 LinkedIn: [Eman Zahid](https://linkedin.com/in/eman-zahid-b384a6300)\n",
      "\n",
      "Happy Coding! 🚀🐍\n",
      "\n",
      "\n",
      "\n",
      "\n"
     ]
    }
   ],
   "source": [
    "file = open(\"README.md\", \"r\")  # Opens the file in read mode\n",
    "content = file.read()  # Reads file content\n",
    "print(content)\n",
    "file.close()  # Always close the file after use\n"
   ]
  },
  {
   "cell_type": "markdown",
   "metadata": {},
   "source": [
    "#### **🔴 Problem:** \n",
    "Forgetting to close the file can cause memory issues or prevent other programs from accessing it.\n",
    "\n",
    "#### **✅ Solution: Use the with statement.**"
   ]
  },
  {
   "cell_type": "markdown",
   "metadata": {},
   "source": [
    "## **📌 2. Reading a File (read(), readline(), readlines())**  \n",
    "\n",
    "Once a file is opened in read mode (\"r\"), you can extract its content.\n",
    "\n",
    "### **1️⃣ read() - Reads the entire file**"
   ]
  },
  {
   "cell_type": "code",
   "execution_count": 7,
   "metadata": {},
   "outputs": [
    {
     "name": "stdout",
     "output_type": "stream",
     "text": [
      "# Learning Python with Eman \n",
      "\n",
      "Welcome to **Learning Python with Eman!** This repository is designed to take you from a complete beginner to an advanced Python programmer. Whether you are just starting out or looking to sharpen your skills, this series provides structured, hands-on learning through **Jupyter Notebooks** covering various Python topics.\n",
      "\n",
      "## 📌 About This Series\n",
      "This series consists of **Jupyter Notebooks** that systematically introduce Python, progressing from basic to advanced levels. Each notebook is standalone, making it easy to follow along and practice at your own pace.\n",
      "\n",
      "### 🔥 What You'll Learn\n",
      "- **Python Basics**: Introduction to Python, syntax, variables, data types, and operators.\n",
      "- **Control Flow**: Conditional statements, loops, and functions.\n",
      "- **Data Structures**: Lists, tuples, dictionaries, sets, and strings.\n",
      "- **Object-Oriented Programming (OOP)**: Classes, objects, inheritance, and polymorphism.\n",
      "- **Intermediate Concepts**: File handling, error handling, modules, and libraries.\n",
      "- **Advanced Topics**: Decorators, generators, multithreading, databases, and APIs.\n",
      "- **Problem-Solving Challenges**: A collection of Python problems categorized into **Basic, Intermediate, and Advanced** levels to strengthen your coding skills.\n",
      "\n",
      "## 📂 Repository Structure\n",
      "```\n",
      "Learning-Python-with-Eman/\n",
      "│-- notebooks/\n",
      "│   ├── 01_introduction_to_python.ipynb\n",
      "│   ├── 02_operators.ipynb\n",
      "│   ├── 03_control_flow.ipynb\n",
      "│   ├── ...\n",
      "│   ├── advanced/\n",
      "│   │   ├── 01_oop_in_python.ipynb\n",
      "│   │   ├── 02_multithreading.ipynb\n",
      "│-- problems/\n",
      "│   ├── basic_problems.ipynb\n",
      "│   ├── intermediate_problems.ipynb\n",
      "│   ├── advanced_problems.ipynb\n",
      "│-- README.md\n",
      "```\n",
      "\n",
      "## 🎯 Who Is This For?\n",
      "✅ Beginners who want to learn Python from scratch.  \n",
      "\n",
      "✅ Intermediate learners looking to deepen their understanding.  \n",
      "\n",
      "✅ Advanced users seeking to tackle challenging Python problems.  \n",
      "\n",
      "✅ Data Science, AI, and Web Development enthusiasts. \n",
      "\n",
      "\n",
      "## ⚡ How to Use\n",
      "1. Clone the repository:\n",
      "   ```bash\n",
      "   git clone https://github.com/emanzahid17/python.git\n",
      "   ```\n",
      "2. Install dependencies (if any):\n",
      "   ```bash\n",
      "   pip install -r requirements.txt\n",
      "   ```\n",
      "3. Open Jupyter Notebook:\n",
      "   ```bash\n",
      "   jupyter notebook\n",
      "   ```\n",
      "4. Navigate through the notebooks and start learning! 🚀\n",
      "\n",
      "## 🤝 Contribute\n",
      "If you have suggestions, improvements, or additional Python problems to add, feel free to open a **Pull Request** or create an **Issue**.\n",
      "\n",
      "## 📢 Connect with Me\n",
      "📌 YouTube: [Eman Zahid](https://www.youtube.com/@emanzahid17)\n",
      "\n",
      "📌 LinkedIn: [Eman Zahid](https://linkedin.com/in/eman-zahid-b384a6300)\n",
      "\n",
      "Happy Coding! 🚀🐍\n",
      "\n",
      "\n",
      "\n",
      "\n"
     ]
    }
   ],
   "source": [
    "with open(\"README.md\", \"r\") as file:\n",
    "    text = file.read()\n",
    "    print(text)"
   ]
  },
  {
   "cell_type": "markdown",
   "metadata": {},
   "source": [
    "### **2️⃣ readline() - Reads one line at a time**"
   ]
  },
  {
   "cell_type": "code",
   "execution_count": null,
   "metadata": {},
   "outputs": [
    {
     "name": "stdout",
     "output_type": "stream",
     "text": [
      "# Learning Python with Eman \n",
      " \n",
      "\n"
     ]
    }
   ],
   "source": [
    "with open(\"README.md\", \"r\") as file:\n",
    "    line1 = file.readline() # Read the first line\n",
    "    line2 = file.readline() # Read the second line\n",
    "    print(line1) # Print the first line"
   ]
  },
  {
   "cell_type": "markdown",
   "metadata": {},
   "source": [
    "### **3️⃣ readlines() - Reads all lines into a list**"
   ]
  },
  {
   "cell_type": "code",
   "execution_count": 10,
   "metadata": {},
   "outputs": [
    {
     "name": "stdout",
     "output_type": "stream",
     "text": [
      "['# Learning Python with Eman \\n', '\\n', 'Welcome to **Learning Python with Eman!** This repository is designed to take you from a complete beginner to an advanced Python programmer. Whether you are just starting out or looking to sharpen your skills, this series provides structured, hands-on learning through **Jupyter Notebooks** covering various Python topics.\\n', '\\n', '## 📌 About This Series\\n', 'This series consists of **Jupyter Notebooks** that systematically introduce Python, progressing from basic to advanced levels. Each notebook is standalone, making it easy to follow along and practice at your own pace.\\n', '\\n', \"### 🔥 What You'll Learn\\n\", '- **Python Basics**: Introduction to Python, syntax, variables, data types, and operators.\\n', '- **Control Flow**: Conditional statements, loops, and functions.\\n', '- **Data Structures**: Lists, tuples, dictionaries, sets, and strings.\\n', '- **Object-Oriented Programming (OOP)**: Classes, objects, inheritance, and polymorphism.\\n', '- **Intermediate Concepts**: File handling, error handling, modules, and libraries.\\n', '- **Advanced Topics**: Decorators, generators, multithreading, databases, and APIs.\\n', '- **Problem-Solving Challenges**: A collection of Python problems categorized into **Basic, Intermediate, and Advanced** levels to strengthen your coding skills.\\n', '\\n', '## 📂 Repository Structure\\n', '```\\n', 'Learning-Python-with-Eman/\\n', '│-- notebooks/\\n', '│   ├── 01_introduction_to_python.ipynb\\n', '│   ├── 02_operators.ipynb\\n', '│   ├── 03_control_flow.ipynb\\n', '│   ├── ...\\n', '│   ├── advanced/\\n', '│   │   ├── 01_oop_in_python.ipynb\\n', '│   │   ├── 02_multithreading.ipynb\\n', '│-- problems/\\n', '│   ├── basic_problems.ipynb\\n', '│   ├── intermediate_problems.ipynb\\n', '│   ├── advanced_problems.ipynb\\n', '│-- README.md\\n', '```\\n', '\\n', '## 🎯 Who Is This For?\\n', '✅ Beginners who want to learn Python from scratch.  \\n', '\\n', '✅ Intermediate learners looking to deepen their understanding.  \\n', '\\n', '✅ Advanced users seeking to tackle challenging Python problems.  \\n', '\\n', '✅ Data Science, AI, and Web Development enthusiasts. \\n', '\\n', '\\n', '## ⚡ How to Use\\n', '1. Clone the repository:\\n', '   ```bash\\n', '   git clone https://github.com/emanzahid17/python.git\\n', '   ```\\n', '2. Install dependencies (if any):\\n', '   ```bash\\n', '   pip install -r requirements.txt\\n', '   ```\\n', '3. Open Jupyter Notebook:\\n', '   ```bash\\n', '   jupyter notebook\\n', '   ```\\n', '4. Navigate through the notebooks and start learning! 🚀\\n', '\\n', '## 🤝 Contribute\\n', 'If you have suggestions, improvements, or additional Python problems to add, feel free to open a **Pull Request** or create an **Issue**.\\n', '\\n', '## 📢 Connect with Me\\n', '📌 YouTube: [Eman Zahid](https://www.youtube.com/@emanzahid17)\\n', '\\n', '📌 LinkedIn: [Eman Zahid](https://linkedin.com/in/eman-zahid-b384a6300)\\n', '\\n', 'Happy Coding! 🚀🐍\\n', '\\n', '\\n', '\\n']\n"
     ]
    }
   ],
   "source": [
    "with open(\"README.md\", \"r\") as file:\n",
    "    lines = file.readlines()\n",
    "    print(lines)"
   ]
  },
  {
   "cell_type": "markdown",
   "metadata": {},
   "source": [
    "## **📌 3. Writing to a File (write(), writelines())**  \n",
    "\n",
    "To write data into a file, open it in write (\"w\") or append (\"a\") mode.\n",
    "\n",
    "### **1️⃣ write() - Writing a single string**"
   ]
  },
  {
   "cell_type": "code",
   "execution_count": 13,
   "metadata": {},
   "outputs": [],
   "source": [
    "with open(\"example.txt\", \"w\") as file:\n",
    "    file.write(\"Hello, this is a new file.\\n\")\n",
    "    file.write(\"It contains multiple lines.\\n\")\n"
   ]
  },
  {
   "cell_type": "markdown",
   "metadata": {},
   "source": [
    "#### **🔴 Warning: \"w\" mode overwrites the file if it already exists.**"
   ]
  },
  {
   "cell_type": "markdown",
   "metadata": {},
   "source": [
    "### **2️⃣ writelines() - Writing multiple lines**"
   ]
  },
  {
   "cell_type": "code",
   "execution_count": 14,
   "metadata": {},
   "outputs": [],
   "source": [
    "lines = [\"First line\\n\", \"Second line\\n\", \"Third line\\n\"]\n",
    "with open(\"example.txt\", \"w\") as file:\n",
    "    file.writelines(lines)  # Writes multiple lines at once\n"
   ]
  },
  {
   "cell_type": "markdown",
   "metadata": {},
   "source": [
    "## **📌 4. Appending to a File (\"a\")**"
   ]
  },
  {
   "cell_type": "markdown",
   "metadata": {},
   "source": [
    "* \"a\" mode does not overwrite existing content.\n",
    "\n",
    "* It adds new data at the end of the file."
   ]
  },
  {
   "cell_type": "code",
   "execution_count": 15,
   "metadata": {},
   "outputs": [],
   "source": [
    "with open(\"example.txt\", \"a\") as file:\n",
    "    file.write(\"This is an additional line.\\n\")\n"
   ]
  },
  {
   "cell_type": "markdown",
   "metadata": {},
   "source": [
    "## **📌 5. Deleting a File**"
   ]
  },
  {
   "cell_type": "code",
   "execution_count": 16,
   "metadata": {},
   "outputs": [
    {
     "name": "stdout",
     "output_type": "stream",
     "text": [
      "File deleted successfully!\n"
     ]
    }
   ],
   "source": [
    "import os\n",
    "\n",
    "if os.path.exists(\"example.txt\"):\n",
    "    os.remove(\"example.txt\")\n",
    "    print(\"File deleted successfully!\")\n",
    "else:\n",
    "    print(\"File not found!\")\n"
   ]
  }
 ],
 "metadata": {
  "kernelspec": {
   "display_name": "myenv",
   "language": "python",
   "name": "python3"
  },
  "language_info": {
   "codemirror_mode": {
    "name": "ipython",
    "version": 3
   },
   "file_extension": ".py",
   "mimetype": "text/x-python",
   "name": "python",
   "nbconvert_exporter": "python",
   "pygments_lexer": "ipython3",
   "version": "3.10.16"
  }
 },
 "nbformat": 4,
 "nbformat_minor": 2
}
