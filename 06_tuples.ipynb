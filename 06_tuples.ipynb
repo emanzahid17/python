{
 "cells": [
  {
   "cell_type": "markdown",
   "metadata": {},
   "source": [
    "# **Tuples in Python**  \n",
    "\n",
    "**Author of this Notebook: Eman Zahid**  \n",
    "**Contact: [LinkedIn](https://www.linkedin.com/in/eman-zahid-b384a6300/)**"
   ]
  },
  {
   "cell_type": "markdown",
   "metadata": {},
   "source": [
    "A tuple is a collection of ordered items, just like a list, but with one main difference:\n",
    "\n",
    "* Tuples are immutable, meaning you cannot change, add, or remove items after creating them.\n"
   ]
  },
  {
   "cell_type": "markdown",
   "metadata": {},
   "source": [
    "## **Characteristics of Tuples**  \n",
    "\n",
    "1. Ordered → The elements have a fixed order.\n",
    "2. Immutable → You cannot change, add, or delete elements.\n",
    "3. Allows Duplicates → A tuple can have repeated values.\n",
    "4. Can Store Different Data Types → Tuples can contain integers, strings, floats, etc.\n",
    "5. Faster than Lists → Tuples use less memory and are more efficient.\n"
   ]
  },
  {
   "cell_type": "markdown",
   "metadata": {},
   "source": [
    "## **Creating a Tuple**  \n",
    "\n",
    "You can create a tuple using parentheses ():\n",
    "\n"
   ]
  },
  {
   "cell_type": "code",
   "execution_count": 1,
   "metadata": {},
   "outputs": [
    {
     "name": "stdout",
     "output_type": "stream",
     "text": [
      "('apple', 'banana', 'cherry')\n"
     ]
    }
   ],
   "source": [
    "fruits = (\"apple\", \"banana\", \"cherry\")\n",
    "print(fruits)\n"
   ]
  },
  {
   "cell_type": "code",
   "execution_count": 2,
   "metadata": {},
   "outputs": [
    {
     "name": "stdout",
     "output_type": "stream",
     "text": [
      "<class 'tuple'>\n"
     ]
    }
   ],
   "source": [
    "#check type of this \n",
    "print(type(fruits))"
   ]
  },
  {
   "cell_type": "markdown",
   "metadata": {},
   "source": [
    "## **Accessing Tuple Elements**  \n",
    "\n",
    "You can access elements using indexing (just like lists):"
   ]
  },
  {
   "cell_type": "code",
   "execution_count": 3,
   "metadata": {},
   "outputs": [
    {
     "name": "stdout",
     "output_type": "stream",
     "text": [
      "10\n",
      "30\n"
     ]
    }
   ],
   "source": [
    "numbers = (10, 20, 30, 40)\n",
    "print(numbers[0])  # Output: 10\n",
    "print(numbers[2])  # Output: 30\n"
   ]
  },
  {
   "cell_type": "markdown",
   "metadata": {},
   "source": [
    "## **Tuple Unpacking**  \n",
    "\n",
    "You can assign tuple values to multiple variables:"
   ]
  },
  {
   "cell_type": "code",
   "execution_count": 4,
   "metadata": {},
   "outputs": [
    {
     "name": "stdout",
     "output_type": "stream",
     "text": [
      "Alice\n",
      "25\n",
      "Doctor\n"
     ]
    }
   ],
   "source": [
    "person = (\"Alice\", 25, \"Doctor\")\n",
    "name, age, profession = person\n",
    "print(name)       # Output: Alice\n",
    "print(age)        # Output: 25\n",
    "print(profession) # Output: Doctor\n"
   ]
  },
  {
   "cell_type": "markdown",
   "metadata": {},
   "source": [
    "## **Tuple Methods**  \n",
    "\n",
    "Since tuples are immutable, they have fewer methods than lists. The two most common methods are:\n",
    "\n",
    "* count(value) → Counts occurrences of a value\n",
    "* index(value) → Finds the index of a value"
   ]
  },
  {
   "cell_type": "code",
   "execution_count": 5,
   "metadata": {},
   "outputs": [
    {
     "data": {
      "text/plain": [
       "['__add__',\n",
       " '__class__',\n",
       " '__class_getitem__',\n",
       " '__contains__',\n",
       " '__delattr__',\n",
       " '__dir__',\n",
       " '__doc__',\n",
       " '__eq__',\n",
       " '__format__',\n",
       " '__ge__',\n",
       " '__getattribute__',\n",
       " '__getitem__',\n",
       " '__getnewargs__',\n",
       " '__gt__',\n",
       " '__hash__',\n",
       " '__init__',\n",
       " '__init_subclass__',\n",
       " '__iter__',\n",
       " '__le__',\n",
       " '__len__',\n",
       " '__lt__',\n",
       " '__mul__',\n",
       " '__ne__',\n",
       " '__new__',\n",
       " '__reduce__',\n",
       " '__reduce_ex__',\n",
       " '__repr__',\n",
       " '__rmul__',\n",
       " '__setattr__',\n",
       " '__sizeof__',\n",
       " '__str__',\n",
       " '__subclasshook__',\n",
       " 'count',\n",
       " 'index']"
      ]
     },
     "execution_count": 5,
     "metadata": {},
     "output_type": "execute_result"
    }
   ],
   "source": [
    "dir(tuple)"
   ]
  },
  {
   "cell_type": "code",
   "execution_count": 6,
   "metadata": {},
   "outputs": [
    {
     "name": "stdout",
     "output_type": "stream",
     "text": [
      "3\n",
      "4\n"
     ]
    }
   ],
   "source": [
    "numbers = (1, 2, 3, 2, 4, 2)\n",
    "print(numbers.count(2))  # Output: 3\n",
    "print(numbers.index(4))  # Output: 4\n"
   ]
  },
  {
   "cell_type": "markdown",
   "metadata": {},
   "source": [
    "## **Tuple Practice Problems**"
   ]
  },
  {
   "cell_type": "markdown",
   "metadata": {},
   "source": [
    "##### **Create a tuple with 5 colors and print them one by one.**"
   ]
  },
  {
   "cell_type": "code",
   "execution_count": 7,
   "metadata": {},
   "outputs": [
    {
     "name": "stdout",
     "output_type": "stream",
     "text": [
      "red\n",
      "purple\n",
      "orange\n",
      "yellow\n",
      "green\n"
     ]
    }
   ],
   "source": [
    "colors = (\"red\",\"purple\",\"orange\",\"yellow\",\"green\")\n",
    "\n",
    "for color in colors:\n",
    "    print(color)"
   ]
  },
  {
   "cell_type": "markdown",
   "metadata": {},
   "source": [
    "##### **Store your full name, age, and country in a tuple and print them.**\n"
   ]
  },
  {
   "cell_type": "code",
   "execution_count": 9,
   "metadata": {},
   "outputs": [
    {
     "name": "stdout",
     "output_type": "stream",
     "text": [
      "eman zahid\n",
      "20\n",
      "Pakistan\n"
     ]
    }
   ],
   "source": [
    "person = (\"eman zahid\",20,\"Pakistan\")\n",
    "\n",
    "name, age, country = person\n",
    "print(name)\n",
    "print(age)\n",
    "print(country)"
   ]
  },
  {
   "cell_type": "markdown",
   "metadata": {},
   "source": [
    "##### **Create a tuple with 3 numbers and find their sum.**"
   ]
  },
  {
   "cell_type": "code",
   "execution_count": 11,
   "metadata": {},
   "outputs": [
    {
     "name": "stdout",
     "output_type": "stream",
     "text": [
      "The sum of the numbers is:  15\n"
     ]
    }
   ],
   "source": [
    "numbers = (2,5,8)\n",
    "total_sum = sum(numbers)\n",
    "\n",
    "print(\"The sum of the numbers is: \", total_sum)"
   ]
  },
  {
   "cell_type": "markdown",
   "metadata": {},
   "source": [
    "##### **Ask the user to enter 3 favorite foods and store them in a tuple.**"
   ]
  },
  {
   "cell_type": "code",
   "execution_count": 14,
   "metadata": {},
   "outputs": [
    {
     "name": "stdout",
     "output_type": "stream",
     "text": [
      "('rice', 'burger', 'juice')\n",
      "<class 'tuple'>\n"
     ]
    }
   ],
   "source": [
    "fav_food1 = input(\"Enter your favorite food: \")\n",
    "fav_food2 = input(\"Enter your favorite food: \")\n",
    "fav_food3 = input(\"Enter your favorite food: \")\n",
    "\n",
    "fav_foods = (fav_food1, fav_food2, fav_food3)\n",
    "print(fav_foods)\n",
    "print(type(fav_foods))"
   ]
  },
  {
   "cell_type": "markdown",
   "metadata": {},
   "source": [
    "##### **Create a tuple with duplicate values and count how many times a value appears.**"
   ]
  },
  {
   "cell_type": "code",
   "execution_count": 18,
   "metadata": {},
   "outputs": [
    {
     "name": "stdout",
     "output_type": "stream",
     "text": [
      "Original list:  (2, 4, 6, 2, 7, 5, 9)\n",
      "The duplicate values are 2 times\n"
     ]
    }
   ],
   "source": [
    "values = (2,4,6,2,7,5,9)\n",
    "print(\"Original list: \", values)\n",
    "\n",
    "print(f\"The duplicate values are {values.count(2)} times\")"
   ]
  },
  {
   "cell_type": "markdown",
   "metadata": {},
   "source": [
    "##### **Convert a tuple to a list, add a new item, and convert it back to a tuple.**"
   ]
  },
  {
   "cell_type": "code",
   "execution_count": null,
   "metadata": {},
   "outputs": [
    {
     "name": "stdout",
     "output_type": "stream",
     "text": [
      "('eman', 'BBA', 20, 'Multan')\n",
      "<class 'tuple'>\n"
     ]
    }
   ],
   "source": [
    "my_tuple = (\"eman\",\"BBA\",20)\n",
    "#convert tuple to list\n",
    "my_list = list(my_tuple)\n",
    "#add new item\n",
    "my_list.append(\"Multan\")\n",
    "\n",
    "#convert it back to the tuple\n",
    "my_tuple = tuple(my_list)\n",
    "\n",
    "print(my_tuple)\n",
    "print(type(my_tuple))"
   ]
  },
  {
   "cell_type": "markdown",
   "metadata": {},
   "source": [
    "##### **Swap the first and last elements of a tuple.**"
   ]
  },
  {
   "cell_type": "code",
   "execution_count": 22,
   "metadata": {},
   "outputs": [
    {
     "name": "stdout",
     "output_type": "stream",
     "text": [
      "Original tuple: (1, 2, 3, 4, 5)\n",
      "Swapped tuple: (5, 2, 3, 4, 1)\n"
     ]
    }
   ],
   "source": [
    "my_tuple1 = (1, 2, 3, 4, 5)\n",
    "first, *middle, last = my_tuple1\n",
    "swapped_tuple = (last, *middle, first)\n",
    "print(\"Original tuple:\", my_tuple1)\n",
    "print(\"Swapped tuple:\", swapped_tuple)"
   ]
  },
  {
   "cell_type": "markdown",
   "metadata": {},
   "source": [
    "##### **Check if a specific item exists in a tuple.**"
   ]
  },
  {
   "cell_type": "code",
   "execution_count": 25,
   "metadata": {},
   "outputs": [
    {
     "data": {
      "text/plain": [
       "True"
      ]
     },
     "execution_count": 25,
     "metadata": {},
     "output_type": "execute_result"
    }
   ],
   "source": [
    "my_tuple = (\"eman\",\"BBA\",20)\n",
    "\"eman\" in my_tuple"
   ]
  },
  {
   "cell_type": "markdown",
   "metadata": {},
   "source": [
    "##### **Create a tuple of numbers and find the index of the maximum value.**"
   ]
  },
  {
   "cell_type": "code",
   "execution_count": 29,
   "metadata": {},
   "outputs": [
    {
     "name": "stdout",
     "output_type": "stream",
     "text": [
      "Tuple: (12, 45, 7, 23, 56, 89, 34)\n",
      "Maximum value: 89\n",
      "Index of maximum value: 5\n"
     ]
    }
   ],
   "source": [
    "numbers = (12, 45, 7, 23, 56, 89, 34)\n",
    "\n",
    "# Find the maximum value\n",
    "max_value = max(numbers)\n",
    "\n",
    "# Find the index of the maximum value\n",
    "max_index = numbers.index(max_value)\n",
    "\n",
    "print(\"Tuple:\", numbers)\n",
    "print(\"Maximum value:\", max_value)\n",
    "print(\"Index of maximum value:\", max_index)\n"
   ]
  },
  {
   "cell_type": "markdown",
   "metadata": {},
   "source": [
    "##### **Sort a tuple of numbers in ascending order.**"
   ]
  },
  {
   "cell_type": "code",
   "execution_count": 30,
   "metadata": {},
   "outputs": [
    {
     "name": "stdout",
     "output_type": "stream",
     "text": [
      "[7, 12, 23, 34, 45, 56, 89]\n"
     ]
    }
   ],
   "source": [
    "sorted_numbers = sorted(numbers)\n",
    "print(sorted_numbers)"
   ]
  },
  {
   "cell_type": "markdown",
   "metadata": {},
   "source": [
    "##### **Create a program that accepts product names and prices, stores them in a tuple, and displays them properly formatted.**"
   ]
  },
  {
   "cell_type": "code",
   "execution_count": 32,
   "metadata": {},
   "outputs": [
    {
     "name": "stdout",
     "output_type": "stream",
     "text": [
      "The product name is pizza and its price is $12.0\n"
     ]
    }
   ],
   "source": [
    "product_name = input(\"Enter product name: \")\n",
    "product_price = float(input(\"Enter product price: $\"))\n",
    "\n",
    "product_info = (product_name, product_price)\n",
    "\n",
    "print(f\"The product name is {product_info[0]} and its price is ${product_info[1]}\")"
   ]
  }
 ],
 "metadata": {
  "kernelspec": {
   "display_name": "base",
   "language": "python",
   "name": "python3"
  },
  "language_info": {
   "codemirror_mode": {
    "name": "ipython",
    "version": 3
   },
   "file_extension": ".py",
   "mimetype": "text/x-python",
   "name": "python",
   "nbconvert_exporter": "python",
   "pygments_lexer": "ipython3",
   "version": "3.12.9"
  }
 },
 "nbformat": 4,
 "nbformat_minor": 2
}
