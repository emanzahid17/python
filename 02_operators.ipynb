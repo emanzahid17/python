{
 "cells": [
  {
   "cell_type": "markdown",
   "metadata": {},
   "source": [
    "# **Operators and Expressions in Python**  \n",
    "\n",
    "**Author of this Notebook: Eman Zahid**  \n",
    "**Contact: [LinkedIn](https://www.linkedin.com/in/eman-zahid-b384a6300/)**\n"
   ]
  },
  {
   "cell_type": "markdown",
   "metadata": {},
   "source": [
    "Operators are symbols that perform operations on values and variables. Expressions are combinations of variables, values, and operators that produce a result.\n",
    "\n",
    "Let's go through the different types of operators in Python, one by one.\n",
    "\n",
    "## **1. Arithmetic Operators (Used for Math Operations)**  \n",
    "These operators perform mathematical calculations like addition, subtraction, multiplication, etc.\n",
    "\n",
    "\n"
   ]
  },
  {
   "cell_type": "code",
   "execution_count": 1,
   "metadata": {},
   "outputs": [
    {
     "name": "stdout",
     "output_type": "stream",
     "text": [
      "Arithmetic Operators:\n",
      "\n",
      "\n",
      "Addition: 13\n",
      "Subtraction: 7\n",
      "Multiplication: 30\n",
      "Division: 3.3333333333333335\n",
      "Modulus: 1\n",
      "Floor Division: 3\n",
      "Exponentiation: 1000\n",
      "\n",
      "\n"
     ]
    }
   ],
   "source": [
    "# Arithmetic Operators\n",
    "a = 10\n",
    "b = 3\n",
    "\n",
    "print(\"Arithmetic Operators:\")\n",
    "print(\"\\n\")\n",
    "print(\"Addition:\", a + b)       # 10 + 3 = 13\n",
    "print(\"Subtraction:\", a - b)    # 10 - 3 = 7\n",
    "print(\"Multiplication:\", a * b) # 10 * 3 = 30\n",
    "print(\"Division:\", a / b)       # 10 / 3 = 3.333\n",
    "print(\"Modulus:\", a % b)        # 10 % 3 = 1\n",
    "print(\"Floor Division:\", a // b)# 10 // 3 = 3\n",
    "print(\"Exponentiation:\", a ** b)# 10^3 = 1000\n",
    "print(\"\\n\")"
   ]
  },
  {
   "cell_type": "markdown",
   "metadata": {},
   "source": [
    "## **2. Comparison Operators (Used for Comparing Values)**  \n",
    "These operators compare two values and return True or False.\n",
    "\n"
   ]
  },
  {
   "cell_type": "code",
   "execution_count": 2,
   "metadata": {},
   "outputs": [
    {
     "name": "stdout",
     "output_type": "stream",
     "text": [
      "Comparison Operators:\n",
      "----------\n",
      "Equal: False\n",
      "Not Equal: True\n",
      "Greater Than: True\n",
      "Less Than: False\n",
      "Greater or Equal: True\n",
      "Less or Equal: False\n",
      "\n",
      "\n"
     ]
    }
   ],
   "source": [
    "# Comparison Operators\n",
    "print(\"Comparison Operators:\")\n",
    "print(\"-\" * 10)\n",
    "print(\"Equal:\", a == b)         # False\n",
    "print(\"Not Equal:\", a != b)     # True\n",
    "print(\"Greater Than:\", a > b)   # True\n",
    "print(\"Less Than:\", a < b)      # False\n",
    "print(\"Greater or Equal:\", a >= b) # True\n",
    "print(\"Less or Equal:\", a <= b) # False\n",
    "print(\"\\n\")"
   ]
  },
  {
   "cell_type": "markdown",
   "metadata": {},
   "source": [
    "## **3. Logical Operators (Used for Combining Conditions)**  \n",
    "\n",
    "These operators help combine multiple conditions and return True or False."
   ]
  },
  {
   "cell_type": "code",
   "execution_count": 3,
   "metadata": {},
   "outputs": [
    {
     "name": "stdout",
     "output_type": "stream",
     "text": [
      "Logical Operators:\n",
      "--------------------\n",
      "AND: False\n",
      "OR: True\n",
      "NOT: False\n",
      "\n",
      "\n"
     ]
    }
   ],
   "source": [
    "# Logical Operators\n",
    "x = True\n",
    "y = False\n",
    "print(\"Logical Operators:\")\n",
    "print(\"-\" * 20)\n",
    "print(\"AND:\", x and y)  # False (Both must be True)\n",
    "print(\"OR:\", x or y)    # True (At least one True)\n",
    "print(\"NOT:\", not x)    # False (Reverses True to False)\n",
    "print(\"\\n\")"
   ]
  },
  {
   "cell_type": "markdown",
   "metadata": {},
   "source": [
    "## **4. Assignment Operators (Used to Assign Values to Variables)**  \n"
   ]
  },
  {
   "cell_type": "code",
   "execution_count": 4,
   "metadata": {},
   "outputs": [
    {
     "name": "stdout",
     "output_type": "stream",
     "text": [
      "Assignment Operators:\n",
      "--------------------\n",
      "c += 2 -> 7\n",
      "--------------------\n",
      "c -= 1 -> 6\n",
      "--------------------\n",
      "c *= -> 3 18\n",
      "--------------------\n",
      "c /= 2 -> 9.0\n",
      "--------------------\n",
      "c %= 4 -> 1.0\n",
      "--------------------\n",
      "c //= 2 -> 0.0\n",
      "--------------------\n",
      "c **= 2 -> 0.0\n",
      "--------------------\n",
      "\n",
      "\n"
     ]
    }
   ],
   "source": [
    "# Assignment Operators\n",
    "print(\"Assignment Operators:\")\n",
    "print(\"-\" * 20)\n",
    "c = 5\n",
    "\n",
    "c += 2  # c = c + 2\n",
    "print(\"c += 2 ->\", c)   # 7\n",
    "print(\"-\" * 20)\n",
    "c -= 1  # c = c - 1\n",
    "print(\"c -= 1 ->\", c)   # 6\n",
    "print(\"-\" * 20)\n",
    "c *= 3  # c = c * 3\n",
    "print(\"c *= -> 3\", c)   # 18\n",
    "print(\"-\" * 20)\n",
    "c /= 2  # c = c / 2\n",
    "print(\"c /= 2 ->\", c)   # 9.0\n",
    "print(\"-\" * 20)\n",
    "c %= 4  # c = c % 4\n",
    "print(\"c %= 4 ->\", c)   # 1.0\n",
    "print(\"-\" * 20)\n",
    "c //= 2 # c = c // 2\n",
    "print(\"c //= 2 ->\", c)  # 0.0\n",
    "print(\"-\" * 20)\n",
    "c **= 2 # c = c ** 2\n",
    "print(\"c **= 2 ->\", c)  # 0.0\n",
    "print(\"-\" * 20)\n",
    "print(\"\\n\")"
   ]
  },
  {
   "cell_type": "markdown",
   "metadata": {},
   "source": [
    "## **5. Bitwise Operators (Used for Bit-Level Operations)**  \n",
    "\n",
    "Bitwise operators work with numbers at the binary level (0s and 1s). Every number in the computer is stored in binary form. These operators allow us to manipulate bits directly. Let’s understand them with simple examples.\n",
    "\n",
    "1. **AND (&)**  \n",
    "It compares each bit of two numbers.\n",
    "If both bits are 1, the result is 1, otherwise 0.\n",
    "\n",
    "2. **OR (|)**  \n",
    "If at least one bit is 1, the result is 1.\n",
    "\n",
    "3. **XOR (^)**  \n",
    "If the bits are different, the result is 1.  \n",
    "If the bits are the same, the result is 0.  \n",
    "\n",
    "4. **NOT (~)**  \n",
    "It flips all bits.  \n",
    "In Python, it is equivalent to -(n+1).\n",
    "\n",
    "5. **Left Shift (<<)**  \n",
    "Moves bits to the left, filling with 0s.  \n",
    "Equivalent to multiplying by 2^n. \n",
    "\n",
    "6. **Right Shift (>>)**  \n",
    "Moves bits to the right, removing bits from the right.  \n",
    "Equivalent to dividing by 2^n.\n",
    "\n"
   ]
  },
  {
   "cell_type": "code",
   "execution_count": 1,
   "metadata": {},
   "outputs": [
    {
     "name": "stdout",
     "output_type": "stream",
     "text": [
      "Bitwise Operators:\n",
      "--------------------\n",
      "AND: 1\n",
      "OR: 7\n",
      "XOR: 6\n",
      "NOT: -6\n",
      "Left Shift: 10\n",
      "Right Shift: 2\n",
      "\n",
      "\n"
     ]
    }
   ],
   "source": [
    "# Bitwise Operators\n",
    "p = 5  # 101 in binary\n",
    "q = 3  # 011 in binary\n",
    "\n",
    "print(\"Bitwise Operators:\")\n",
    "print(\"-\" * 20)\n",
    "print(\"AND:\", p & q)   # 1 (Both bits 1 → 001)\n",
    "print(\"OR:\", p | q)    # 7 (At least one bit 1 → 111)\n",
    "print(\"XOR:\", p ^ q)   # 6 (Different bits → 110)\n",
    "print(\"NOT:\", ~p)      # -6 (Flips bits)\n",
    "print(\"Left Shift:\", p << 1) # 10 (1010)\n",
    "print(\"Right Shift:\", p >> 1) # 2 (10)\n",
    "print(\"\\n\")"
   ]
  },
  {
   "cell_type": "markdown",
   "metadata": {},
   "source": [
    "## **Beginner Problem: Using Operators**  \n",
    "### **Problem Statement**  \n",
    "\n",
    "* Take two numbers from the user.\n",
    "* Perform and print the result of:\n",
    "  \n",
    "        * Addition\n",
    "        * Subtraction\n",
    "        * Multiplication\n",
    "        * Division\n",
    "        * Modulus\n",
    "        * Comparison (>)"
   ]
  },
  {
   "cell_type": "code",
   "execution_count": null,
   "metadata": {},
   "outputs": [
    {
     "name": "stdout",
     "output_type": "stream",
     "text": [
      "\n",
      "Perform Arithmetic Operations on the Given Numbers\n",
      "----------------------------------------\n",
      "Addition:  10\n",
      "Subtraction:  2\n",
      "Multiplication:  24\n",
      "Division:  1.5\n",
      "Modulus:  2\n",
      "6 is greater than 4:  True\n",
      "6 is equal to 4:  False\n"
     ]
    }
   ],
   "source": [
    "num_1 = int(input(\"Enter first number: \"))  \n",
    "num_2 = int(input(\"Enter second number: \")) \n",
    "\n",
    "print(\"\\nPerform Arithmetic Operations on the Given Numbers\")\n",
    "print(\"-\" * 40)\n",
    "print(\"Addition: \", num_1 + num_2)\n",
    "print(\"Subtraction: \", num_1 - num_2)\n",
    "print(\"Multiplication: \", num_1 * num_2)\n",
    "\n",
    "# Avoid division by zero\n",
    "if num_2 != 0:\n",
    "    print(\"Division: \", num_1 / num_2)\n",
    "    print(\"Modulus: \", num_1 % num_2)\n",
    "else:\n",
    "    print(\"Division and Modulus: Cannot divide by zero.\")\n",
    "\n",
    "# Comparison\n",
    "print(f\"{num_1} is greater than {num_2}: \", num_1 > num_2)\n",
    "print(f\"{num_1} is equal to {num_2}: \", num_1 == num_2)\n"
   ]
  },
  {
   "cell_type": "markdown",
   "metadata": {},
   "source": [
    "## **Problem 1: Splitting the Bill (Arithmetic Operators)**  \n",
    "\n",
    "*Scenario:*\n",
    "You and your 4 friends went to a restaurant. The total bill is $250, and you want to split it equally. How much should each person pay?\n",
    "\n",
    "*Solution:*\n",
    "Use the division (/) and floor division (//) operators."
   ]
  },
  {
   "cell_type": "code",
   "execution_count": 7,
   "metadata": {},
   "outputs": [
    {
     "name": "stdout",
     "output_type": "stream",
     "text": [
      "The bill for each person is $62.5\n",
      "The bill each person should pay is $62\n"
     ]
    }
   ],
   "source": [
    "total_bill = 250\n",
    "total_persons = 4\n",
    "\n",
    "amount_per_person = total_bill / total_persons\n",
    "print(f\"The bill for each person is ${amount_per_person}\")\n",
    "\n",
    "#rounded down amount\n",
    "rounded_amount = total_bill // total_persons\n",
    "print(f\"The bill each person should pay is ${rounded_amount}\")"
   ]
  },
  {
   "cell_type": "markdown",
   "metadata": {},
   "source": [
    "## **Problem 2: Checking Discount Eligibility (Comparison & Logical Operators)**  \n",
    "\n",
    "*Scenario:*\n",
    "A store offers a 10% discount if a customer spends more than $100 OR is a loyalty member. Write a program that checks if a customer gets a discount.  \n",
    "\n",
    "*Solution:*\n",
    "Use comparison (>) and logical (or) operators."
   ]
  },
  {
   "cell_type": "code",
   "execution_count": 8,
   "metadata": {},
   "outputs": [
    {
     "name": "stdout",
     "output_type": "stream",
     "text": [
      "Congratulations! You are eligible for discount.\n"
     ]
    }
   ],
   "source": [
    "amount_spent = 120\n",
    "is_loyal_customer = True\n",
    "\n",
    "if amount_spent > 100 or is_loyal_customer:\n",
    "    print(\"Congratulations! You are eligible for discount.\")\n",
    "else:\n",
    "    print(\"Unfortunately! You are not eligible for discount. Try to spend more than $100 to get exclusive offers.\")\n"
   ]
  },
  {
   "cell_type": "markdown",
   "metadata": {},
   "source": [
    "## **Problem 3: Securing a Wi-Fi Password (Bitwise Operators)**  \n",
    "\n",
    "*Scenario:*  \n",
    "You need to create a secure PIN code for your Wi-Fi router. Your phone number is 9876, and you want to hide it using bitwise XOR (^) with a secret number (1234).  \n",
    "\n",
    "*Solution:*\n",
    "Use XOR (^) for encryption and decryption."
   ]
  },
  {
   "cell_type": "code",
   "execution_count": 9,
   "metadata": {},
   "outputs": [
    {
     "name": "stdout",
     "output_type": "stream",
     "text": [
      "Encrypted PIN: 8774\n",
      "Decrypted PIN: 9876\n"
     ]
    }
   ],
   "source": [
    "phone_number = 9876\n",
    "secret_key = 1234\n",
    "\n",
    "# Encrypt PIN\n",
    "encrypted_pin = phone_number ^ secret_key\n",
    "print(\"Encrypted PIN:\", encrypted_pin)\n",
    "\n",
    "# Decrypt PIN\n",
    "decrypted_pin = encrypted_pin ^ secret_key\n",
    "print(\"Decrypted PIN:\", decrypted_pin)  # Should give back the original phone number\n"
   ]
  },
  {
   "cell_type": "markdown",
   "metadata": {},
   "source": [
    "## **Calculate Total Price (Arithmetic Operators)**  \n",
    "\n",
    "*Scenario:*  \n",
    "You bought 3 apples for $2 each and 2 bananas for $1 each. How much is the total cost?\n",
    "\n",
    "*Solution:*\n",
    "Use multiplication (*) and addition (+) operators."
   ]
  },
  {
   "cell_type": "code",
   "execution_count": 11,
   "metadata": {},
   "outputs": [
    {
     "name": "stdout",
     "output_type": "stream",
     "text": [
      "The total cost of apples and bananas is: $ 8\n"
     ]
    }
   ],
   "source": [
    "apple_price = 2\n",
    "banana_price = 1\n",
    "\n",
    "total_cost = (3 * apple_price) + (2 * banana_price)\n",
    "print(\"The total cost of apples and bananas is: $\", total_cost)"
   ]
  },
  {
   "cell_type": "markdown",
   "metadata": {},
   "source": [
    "## **Check if a Number is Even or Odd (Modulus Operator)**  \n",
    "\n",
    "*Scenario:*  \n",
    "You have a number, and you want to check if it is even or odd.\n",
    "\n",
    "*Solution:*  \n",
    "Use modulus (%) operator."
   ]
  },
  {
   "cell_type": "code",
   "execution_count": 12,
   "metadata": {},
   "outputs": [
    {
     "name": "stdout",
     "output_type": "stream",
     "text": [
      "3 is an odd number\n"
     ]
    }
   ],
   "source": [
    "num = 3\n",
    "#check if the number is odd\n",
    "if num % 2 != 0:\n",
    "    print(num, \"is an odd number\")\n",
    "else:\n",
    "    print(num, \"is an even number\")"
   ]
  },
  {
   "cell_type": "markdown",
   "metadata": {},
   "source": [
    "## **Compare Two Ages (Comparison Operators)**  \n",
    "\n",
    "*Scenario:*  \n",
    "John is 25 years old, and Sarah is 30 years old. Who is older?\n",
    "\n",
    "*Solution:*\n",
    "Use greater than (>) and less than (<) operators."
   ]
  },
  {
   "cell_type": "code",
   "execution_count": 13,
   "metadata": {},
   "outputs": [
    {
     "name": "stdout",
     "output_type": "stream",
     "text": [
      "Sara is older than John\n"
     ]
    }
   ],
   "source": [
    "john_age = 25\n",
    "sara_age = 30\n",
    "\n",
    "if sara_age > john_age:\n",
    "    print(\"Sara is older than John\")\n",
    "elif john_age > sara_age:\n",
    "    print(\"John is older than Sara\")\n",
    "else:\n",
    "    print(\"They are the same age\")"
   ]
  },
  {
   "cell_type": "markdown",
   "metadata": {},
   "source": [
    "## **Check if a Person Can Vote (Logical Operators)**  \n",
    "\n",
    "*Scenario:*  \n",
    "A person must be 18 or older to vote. Write a program that checks if a person can vote.\n",
    "\n",
    "*Solution:*\n",
    "Use comparison (>=) and logical (and) operators.\n"
   ]
  },
  {
   "cell_type": "code",
   "execution_count": 16,
   "metadata": {},
   "outputs": [
    {
     "name": "stdout",
     "output_type": "stream",
     "text": [
      "This person is eligible for vote casting.\n"
     ]
    }
   ],
   "source": [
    "person_age = 67\n",
    "if person_age >= 18:\n",
    "    print(\"This person is eligible for vote casting.\")\n",
    "else:\n",
    "    print(\"Age must be equal to or greater than 18.\")\n"
   ]
  },
  {
   "cell_type": "markdown",
   "metadata": {},
   "source": [
    "## **Double a Number Using Left Shift (Bitwise Operator)**  \n",
    "\n",
    "*Scenario:*  \n",
    "You want to double a number quickly.\n",
    "\n",
    "*Solution:*\n",
    "Use left shift (<<) operator, which multiplies by 2."
   ]
  },
  {
   "cell_type": "code",
   "execution_count": null,
   "metadata": {},
   "outputs": [
    {
     "name": "stdout",
     "output_type": "stream",
     "text": [
      "Doubled number: 8\n"
     ]
    }
   ],
   "source": [
    "num = 4\n",
    "doubled = num << 1  # Left shift by 1 (same as num * 2)\n",
    "print(\"Doubled number:\", doubled)\n",
    "\n",
    "#How Left Shift (<<) Works?\n",
    "#The left shift operator (<<) shifts the binary digits of a number to the left, doubling the number.\n",
    "\n",
    "#Example:\n",
    "#Let's take the number 4 and see what happens when we apply << 1 (left shift by 1 position).\n",
    "\n",
    "#Convert 4 to binary → 4 = 100 (binary)\n",
    "#Left shift by 1 (<< 1) → 100 becomes 1000 (binary)\n",
    "#Convert back to decimal → 1000 (binary) = 8 (decimal)\n",
    "#This means 4 << 1 = 8, which is the same as 4 × 2.\n",
    "\n",
    "\n"
   ]
  }
 ],
 "metadata": {
  "kernelspec": {
   "display_name": "learn_python",
   "language": "python",
   "name": "python3"
  },
  "language_info": {
   "codemirror_mode": {
    "name": "ipython",
    "version": 3
   },
   "file_extension": ".py",
   "mimetype": "text/x-python",
   "name": "python",
   "nbconvert_exporter": "python",
   "pygments_lexer": "ipython3",
   "version": "3.10.8"
  }
 },
 "nbformat": 4,
 "nbformat_minor": 2
}
