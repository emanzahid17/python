{
 "cells": [
  {
   "cell_type": "markdown",
   "id": "c58f11eb",
   "metadata": {},
   "source": [
    "# **High Order Functions**  \n",
    "\n",
    "\n",
    "**Author of this Notebook: Eman Zahid**  \n",
    "**Contact: [LinkedIn](https://www.linkedin.com/in/eman-zahid-b384a6300/)**"
   ]
  },
  {
   "cell_type": "markdown",
   "id": "aa420d3b",
   "metadata": {},
   "source": [
    "# **✅ What Are Higher-Order Functions?**\n",
    "\n",
    "A higher-order function is a function that:\n",
    "\n",
    "* Takes one or more functions as arguments\n",
    "\n",
    "OR \n",
    "\n",
    "* Returns a function as its result\n",
    "\n",
    "In short:\n",
    "🧠 “A function that works with other functions.”"
   ]
  },
  {
   "cell_type": "markdown",
   "id": "0d385706",
   "metadata": {},
   "source": [
    "## **✅ Why Use Higher-Order Functions?**  \n",
    "\n",
    "* Makes code shorter\n",
    "* Makes it more powerful\n",
    "* Helps in clean and organized programming"
   ]
  },
  {
   "cell_type": "markdown",
   "id": "8129fbe4",
   "metadata": {},
   "source": [
    "## **✅ Common Built-in Higher-Order Functions in Python:**  \n",
    "\n",
    "### **1. map()**\n",
    "Applies a function to every item in a list."
   ]
  },
  {
   "cell_type": "code",
   "execution_count": 2,
   "id": "3ddbd103",
   "metadata": {},
   "outputs": [
    {
     "name": "stdout",
     "output_type": "stream",
     "text": [
      "[1, 4, 9, 16]\n"
     ]
    }
   ],
   "source": [
    "numbers = [1, 2, 3, 4]\n",
    "squared = list(map(lambda x: x * x, numbers))\n",
    "print(squared)  # Output: [1, 4, 9, 16]\n"
   ]
  },
  {
   "cell_type": "markdown",
   "id": "d7c6a04d",
   "metadata": {},
   "source": [
    "### **2. filter()**  \n",
    "\n",
    "Filters items based on a condition (True or False)."
   ]
  },
  {
   "cell_type": "code",
   "execution_count": 3,
   "id": "103f6fcb",
   "metadata": {},
   "outputs": [
    {
     "name": "stdout",
     "output_type": "stream",
     "text": [
      "[2, 4]\n"
     ]
    }
   ],
   "source": [
    "numbers = [1, 2, 3, 4, 5]\n",
    "even = list(filter(lambda x: x % 2 == 0, numbers))\n",
    "print(even)  # Output: [2, 4]\n"
   ]
  },
  {
   "cell_type": "markdown",
   "id": "5725392a",
   "metadata": {},
   "source": [
    "### **3. reduce() (from functools)**  \n",
    "\n",
    "Performs a rolling calculation on a list."
   ]
  },
  {
   "cell_type": "code",
   "execution_count": 4,
   "id": "98f7c78c",
   "metadata": {},
   "outputs": [
    {
     "name": "stdout",
     "output_type": "stream",
     "text": [
      "24\n"
     ]
    }
   ],
   "source": [
    "from functools import reduce\n",
    "\n",
    "numbers = [1, 2, 3, 4]\n",
    "product = reduce(lambda x, y: x * y, numbers)\n",
    "print(product)  # Output: 24\n"
   ]
  },
  {
   "cell_type": "markdown",
   "id": "be3e2499",
   "metadata": {},
   "source": [
    "## **✅ Writing Your Own Higher-Order Function**  \n",
    "\n",
    "You can also write one yourself!"
   ]
  },
  {
   "cell_type": "code",
   "execution_count": 5,
   "id": "0afcdbd8",
   "metadata": {},
   "outputs": [
    {
     "name": "stdout",
     "output_type": "stream",
     "text": [
      "Hello, Eman\n"
     ]
    }
   ],
   "source": [
    "def greet(func):\n",
    "    return func(\"Eman\")\n",
    "\n",
    "def say_hello(name):\n",
    "    return \"Hello, \" + name\n",
    "\n",
    "print(greet(say_hello))  # Output: Hello, Eman\n"
   ]
  },
  {
   "cell_type": "markdown",
   "id": "534564b7",
   "metadata": {},
   "source": [
    "## **Practice Problems**"
   ]
  },
  {
   "cell_type": "markdown",
   "id": "2e7c2ec8",
   "metadata": {},
   "source": [
    "### **Use map() to convert a list of temperatures from Celsius to Fahrenheit.**"
   ]
  },
  {
   "cell_type": "code",
   "execution_count": 6,
   "id": "9e8b9365",
   "metadata": {},
   "outputs": [
    {
     "name": "stdout",
     "output_type": "stream",
     "text": [
      "[101.768, 113.0, 73.526]\n"
     ]
    }
   ],
   "source": [
    "temp_list = [38.76, 45, 23.07,]\n",
    "\n",
    "def celcius_to_fahrenheit(celcius):\n",
    "    return (celcius * 9/5) + 32\n",
    "\n",
    "fahrenheit_temp_list = list(map(celcius_to_fahrenheit, temp_list))\n",
    "print(fahrenheit_temp_list)"
   ]
  },
  {
   "cell_type": "markdown",
   "id": "4be3f5a8",
   "metadata": {},
   "source": [
    "### **Use filter() to remove words shorter than 5 letters from a list.**"
   ]
  },
  {
   "cell_type": "code",
   "execution_count": 12,
   "id": "0535b391",
   "metadata": {},
   "outputs": [
    {
     "name": "stdout",
     "output_type": "stream",
     "text": [
      "['apple', 'elephant', 'kangaroo', 'butterfly']\n"
     ]
    }
   ],
   "source": [
    "def filter_long_words(word_list):\n",
    "  \"\"\"Removes words shorter than 5 letters from a list.\"\"\"\n",
    "  return list(filter(lambda word: len(word) >= 5, word_list))\n",
    "\n",
    "# Example usage:\n",
    "words = [\"apple\", \"bat\", \"elephant\", \"dog\", \"kangaroo\", \"cat\", \"butterfly\"]\n",
    "filtered_words = filter_long_words(words)\n",
    "print(filtered_words)  # Output: ['apple', 'elephant', 'kangaroo', 'butterfly']"
   ]
  },
  {
   "cell_type": "markdown",
   "id": "0f74c0bc",
   "metadata": {},
   "source": [
    "### **Use map() to square every digit in a list.**"
   ]
  },
  {
   "cell_type": "code",
   "execution_count": 13,
   "id": "206a922d",
   "metadata": {},
   "outputs": [
    {
     "name": "stdout",
     "output_type": "stream",
     "text": [
      "[4, 16, 49, 36, 25, 9, 4, 81, 49, 36]\n"
     ]
    }
   ],
   "source": [
    "num = [2,4,7,6,5,3,2,9,7,6]\n",
    "\n",
    "def sq_num(number):\n",
    "    return number ** 2\n",
    "\n",
    "squared_num = list(map(sq_num, num))\n",
    "print(squared_num)"
   ]
  },
  {
   "cell_type": "markdown",
   "id": "521e6aaf",
   "metadata": {},
   "source": [
    "## 📋 Higher-Order Functions in Python\n",
    "\n",
    "| Function        | Description                                                                 | Syntax Example                                                | Sample Output                             |\n",
    "|----------------|-----------------------------------------------------------------------------|----------------------------------------------------------------|--------------------------------------------|\n",
    "| `map()`        | Applies a function to every item in an iterable                             | `map(lambda x: x*2, [1,2,3])`                                 | `[2, 4, 6]`                                 |\n",
    "| `filter()`     | Filters items based on a condition (returns only True items)                | `filter(lambda x: x>2, [1,2,3,4])`                            | `[3, 4]`                                    |\n",
    "| `reduce()`     | Applies a rolling computation to sequential pairs (needs `functools`)       | `reduce(lambda x,y: x+y, [1,2,3,4])`                          | `10`                                       |\n",
    "| `sorted()`     | Sorts iterable using a key function                                         | `sorted([\"a\", \"bb\", \"ccc\"], key=len)`                        | `[\"a\", \"bb\", \"ccc\"]`                        |\n",
    "| `zip()`        | Combines two iterables into a tuple using the same index                    | `zip([1,2], ['a','b'])`                                       | `[(1, 'a'), (2, 'b')]`                      |\n",
    "| `any()`        | Returns `True` if at least one element in iterable is True                  | `any([False, True, False])`                                  | `True`                                     |\n",
    "| `all()`        | Returns `True` if all elements in iterable are True                         | `all([True, True, True])`                                    | `True`                                     |\n",
    "| `max()`        | Returns the maximum value (can use key function)                            | `max(['a','bb','ccc'], key=len)`                             | `'ccc'`                                    |\n",
    "| `min()`        | Returns the minimum value (can use key function)                            | `min(['a','bb','ccc'], key=len)`                             | `'a'`                                      |\n",
    "| `enumerate()`  | Returns index and value as a tuple                                          | `for i, val in enumerate(['a','b']): print(i,val)`           | `0 a` <br> `1 b`                            |\n",
    "| `reversed()`   | Returns an iterator in reversed order                                       | `list(reversed([1,2,3]))`                                    | `[3, 2, 1]`                                 |\n",
    "| `input()`      | Can accept a function or modify input with casting                          | `int(input(\"Enter: \"))`                                      | Depends on user input                      |\n",
    "| `print()`      | Can take functions or expressions as arguments                              | `print(len(\"hello\"))`                                        | `5`                                        |\n",
    "\n",
    "---\n",
    "\n",
    "### ✅ Notes:\n",
    "- Use `from functools import reduce` before using `reduce()`.\n",
    "- Most of these are used with `lambda` for cleaner, inline logic.\n",
    "- These functions allow **powerful logic with fewer lines of code**.\n",
    "\n"
   ]
  }
 ],
 "metadata": {
  "kernelspec": {
   "display_name": "myenv",
   "language": "python",
   "name": "python3"
  },
  "language_info": {
   "codemirror_mode": {
    "name": "ipython",
    "version": 3
   },
   "file_extension": ".py",
   "mimetype": "text/x-python",
   "name": "python",
   "nbconvert_exporter": "python",
   "pygments_lexer": "ipython3",
   "version": "3.10.16"
  }
 },
 "nbformat": 4,
 "nbformat_minor": 5
}
