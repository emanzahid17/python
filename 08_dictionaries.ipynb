{
 "cells": [
  {
   "cell_type": "markdown",
   "metadata": {},
   "source": [
    "# **Dictionaries in Python**  \n",
    "\n",
    "**Author of this Notebook: Eman Zahid**  \n",
    "**Contact: [LinkedIn](https://www.linkedin.com/in/eman-zahid-b384a6300/)**"
   ]
  },
  {
   "cell_type": "markdown",
   "metadata": {},
   "source": [
    "A dictionary is a collection of key-value pairs. It is useful when you want to store data in pairs, like storing names and phone numbers or product names and prices.  \n",
    "\n",
    "\n",
    "## **Characteristics of a Dictionary**  \n",
    "\n",
    "* Unordered → The items in a dictionary do not have a fixed order.\n",
    "* Key-Value Pairs → Each item has a key (like a name) and a value (like a phone number).\n",
    "* Keys Must Be Unique → You cannot have duplicate keys.\n",
    "* Mutable (Changeable) → You can add, remove, and update items.\n",
    "* Fast Lookup → You can quickly find values using keys."
   ]
  },
  {
   "cell_type": "markdown",
   "metadata": {},
   "source": [
    "## **Creating a Dictionary**  \n",
    "\n",
    "You can create a dictionary using curly braces {} or the dict() function."
   ]
  },
  {
   "cell_type": "code",
   "execution_count": 16,
   "metadata": {},
   "outputs": [
    {
     "name": "stdout",
     "output_type": "stream",
     "text": [
      "{'name': 'Alice', 'age': 25, 'city': 'New York'}\n"
     ]
    }
   ],
   "source": [
    "# Creating a dictionary with key-value pairs\n",
    "person = {\n",
    "    \"name\": \"Alice\",\n",
    "    \"age\": 25,\n",
    "    \"city\": \"New York\"\n",
    "}\n",
    "print(person)  \n"
   ]
  },
  {
   "cell_type": "code",
   "execution_count": 17,
   "metadata": {},
   "outputs": [
    {
     "name": "stdout",
     "output_type": "stream",
     "text": [
      "{'name': 'Alice', 'age': 25, 'city': 'New York'}\n"
     ]
    }
   ],
   "source": [
    "# Using the dict() function\n",
    "person = dict(name=\"Alice\", age=25, city=\"New York\")\n",
    "print(person)\n"
   ]
  },
  {
   "cell_type": "markdown",
   "metadata": {},
   "source": [
    "## **Accessing Dictionary Values**  \n",
    "\n",
    "You can access a value using its key."
   ]
  },
  {
   "cell_type": "code",
   "execution_count": 18,
   "metadata": {},
   "outputs": [
    {
     "name": "stdout",
     "output_type": "stream",
     "text": [
      "Alice\n",
      "25\n"
     ]
    }
   ],
   "source": [
    "print(person[\"name\"])  # Output: Alice\n",
    "print(person[\"age\"])   # Output: 25\n"
   ]
  },
  {
   "cell_type": "markdown",
   "metadata": {},
   "source": [
    "✅ Note: If the key does not exist, it will give an error. To avoid errors, use .get()."
   ]
  },
  {
   "cell_type": "code",
   "execution_count": 19,
   "metadata": {},
   "outputs": [
    {
     "name": "stdout",
     "output_type": "stream",
     "text": [
      "None\n"
     ]
    }
   ],
   "source": [
    "print(person.get(\"country\"))  # Output: None\n"
   ]
  },
  {
   "cell_type": "markdown",
   "metadata": {},
   "source": [
    "## **Adding and Updating Values**  \n",
    "\n",
    "To add a new key-value pair or update an existing one:"
   ]
  },
  {
   "cell_type": "code",
   "execution_count": 20,
   "metadata": {},
   "outputs": [
    {
     "name": "stdout",
     "output_type": "stream",
     "text": [
      "{'name': 'Alice', 'age': 26, 'city': 'New York', 'email': 'alice@example.com'}\n"
     ]
    }
   ],
   "source": [
    "person[\"email\"] = \"alice@example.com\"  # Adding a new key-value pair\n",
    "person[\"age\"] = 26  # Updating an existing value\n",
    "print(person)\n"
   ]
  },
  {
   "cell_type": "markdown",
   "metadata": {},
   "source": [
    "## **Removing Items**  \n",
    "\n",
    "* pop(key) → Removes a key-value pair and returns its value.\n",
    "* del dictionary[key] → Deletes a key-value pair.\n",
    "* clear() → Empties the dictionary."
   ]
  },
  {
   "cell_type": "code",
   "execution_count": 21,
   "metadata": {},
   "outputs": [
    {
     "data": {
      "text/plain": [
       "'New York'"
      ]
     },
     "execution_count": 21,
     "metadata": {},
     "output_type": "execute_result"
    }
   ],
   "source": [
    "person.pop(\"city\")  # Removes \"city\""
   ]
  },
  {
   "cell_type": "code",
   "execution_count": 22,
   "metadata": {},
   "outputs": [
    {
     "name": "stdout",
     "output_type": "stream",
     "text": [
      "{'name': 'Alice', 'email': 'alice@example.com'}\n"
     ]
    }
   ],
   "source": [
    "\n",
    "del person[\"age\"]  # Deletes \"age\"\n",
    "print(person)\n"
   ]
  },
  {
   "cell_type": "markdown",
   "metadata": {},
   "source": [
    "## **Looping Through a Dictionary**  \n",
    "\n",
    "**1. Looping Through Keys**"
   ]
  },
  {
   "cell_type": "code",
   "execution_count": 8,
   "metadata": {},
   "outputs": [
    {
     "name": "stdout",
     "output_type": "stream",
     "text": [
      "name\n",
      "email\n"
     ]
    }
   ],
   "source": [
    "for key in person:\n",
    "    print(key)  # Prints all keys\n"
   ]
  },
  {
   "cell_type": "markdown",
   "metadata": {},
   "source": [
    "**2. Looping Through Values**"
   ]
  },
  {
   "cell_type": "code",
   "execution_count": 23,
   "metadata": {},
   "outputs": [
    {
     "name": "stdout",
     "output_type": "stream",
     "text": [
      "Alice\n",
      "alice@example.com\n"
     ]
    }
   ],
   "source": [
    "for value in person.values():\n",
    "    print(value)  # Prints all values\n"
   ]
  },
  {
   "cell_type": "code",
   "execution_count": null,
   "metadata": {},
   "outputs": [],
   "source": []
  },
  {
   "cell_type": "markdown",
   "metadata": {},
   "source": [
    "**3. Looping Through Key-Value Pairs**"
   ]
  },
  {
   "cell_type": "code",
   "execution_count": 24,
   "metadata": {},
   "outputs": [
    {
     "name": "stdout",
     "output_type": "stream",
     "text": [
      "name: Alice\n",
      "email: alice@example.com\n"
     ]
    }
   ],
   "source": [
    "for key, value in person.items():\n",
    "    print(f\"{key}: {value}\")\n"
   ]
  },
  {
   "cell_type": "markdown",
   "metadata": {},
   "source": [
    "## **Checking If a Key Exists**"
   ]
  },
  {
   "cell_type": "code",
   "execution_count": 25,
   "metadata": {},
   "outputs": [
    {
     "name": "stdout",
     "output_type": "stream",
     "text": [
      "Name exists in the dictionary.\n"
     ]
    }
   ],
   "source": [
    "if \"name\" in person:\n",
    "    print(\"Name exists in the dictionary.\")\n"
   ]
  },
  {
   "cell_type": "markdown",
   "metadata": {},
   "source": [
    "## **Dictionary Methods** \n",
    "\n",
    "* keys(): \tReturns a list of all keys\n",
    "* values(): Returns a list of all values\n",
    "* items(): \tReturns a list of key-value pairs\n",
    "* pop(key):\tRemoves and returns the value of the given key\n",
    "* update(dict2): \tMerges another dictionary into the current one"
   ]
  },
  {
   "cell_type": "code",
   "execution_count": 12,
   "metadata": {},
   "outputs": [
    {
     "data": {
      "text/plain": [
       "['__class__',\n",
       " '__class_getitem__',\n",
       " '__contains__',\n",
       " '__delattr__',\n",
       " '__delitem__',\n",
       " '__dir__',\n",
       " '__doc__',\n",
       " '__eq__',\n",
       " '__format__',\n",
       " '__ge__',\n",
       " '__getattribute__',\n",
       " '__getitem__',\n",
       " '__gt__',\n",
       " '__hash__',\n",
       " '__init__',\n",
       " '__init_subclass__',\n",
       " '__ior__',\n",
       " '__iter__',\n",
       " '__le__',\n",
       " '__len__',\n",
       " '__lt__',\n",
       " '__ne__',\n",
       " '__new__',\n",
       " '__or__',\n",
       " '__reduce__',\n",
       " '__reduce_ex__',\n",
       " '__repr__',\n",
       " '__reversed__',\n",
       " '__ror__',\n",
       " '__setattr__',\n",
       " '__setitem__',\n",
       " '__sizeof__',\n",
       " '__str__',\n",
       " '__subclasshook__',\n",
       " 'clear',\n",
       " 'copy',\n",
       " 'fromkeys',\n",
       " 'get',\n",
       " 'items',\n",
       " 'keys',\n",
       " 'pop',\n",
       " 'popitem',\n",
       " 'setdefault',\n",
       " 'update',\n",
       " 'values']"
      ]
     },
     "execution_count": 12,
     "metadata": {},
     "output_type": "execute_result"
    }
   ],
   "source": [
    "dir (dict)"
   ]
  },
  {
   "cell_type": "markdown",
   "metadata": {},
   "source": [
    "## **Practice Problems for Dictionaries**  \n"
   ]
  },
  {
   "cell_type": "markdown",
   "metadata": {},
   "source": [
    "##### **Create a dictionary with 3 people's names as keys and their ages as values. Print the dictionary.**\n"
   ]
  },
  {
   "cell_type": "code",
   "execution_count": 27,
   "metadata": {},
   "outputs": [
    {
     "name": "stdout",
     "output_type": "stream",
     "text": [
      "{'Alice': 25, 'Bob': 30, 'Charlie': 22}\n"
     ]
    }
   ],
   "source": [
    "# Creating a dictionary with names as keys and ages as values\n",
    "people_ages = {\n",
    "    \"Alice\": 25,\n",
    "    \"Bob\": 30,\n",
    "    \"Charlie\": 22\n",
    "}\n",
    "\n",
    "# Printing the dictionary\n",
    "print(people_ages)\n"
   ]
  },
  {
   "cell_type": "markdown",
   "metadata": {},
   "source": [
    "##### **Add a new person's age to the dictionary and print the updated dictionary.**  "
   ]
  },
  {
   "cell_type": "code",
   "execution_count": 28,
   "metadata": {},
   "outputs": [
    {
     "name": "stdout",
     "output_type": "stream",
     "text": [
      "{'Alice': 25, 'Bob': 30, 'Charlie': 22, 'Emma': 21}\n"
     ]
    }
   ],
   "source": [
    "people_ages[\"Emma\"] = 21\n",
    "print(people_ages)"
   ]
  },
  {
   "cell_type": "markdown",
   "metadata": {},
   "source": [
    "##### **Remove a person from the dictionary using pop().**  "
   ]
  },
  {
   "cell_type": "code",
   "execution_count": 29,
   "metadata": {},
   "outputs": [
    {
     "data": {
      "text/plain": [
       "25"
      ]
     },
     "execution_count": 29,
     "metadata": {},
     "output_type": "execute_result"
    }
   ],
   "source": [
    "people_ages.pop(\"Alice\")"
   ]
  },
  {
   "cell_type": "markdown",
   "metadata": {},
   "source": [
    "##### **Check if a specific name exists in the dictionary.**  \n"
   ]
  },
  {
   "cell_type": "code",
   "execution_count": 30,
   "metadata": {},
   "outputs": [
    {
     "name": "stdout",
     "output_type": "stream",
     "text": [
      "Yes , Emma is in the list of people's ages.\n"
     ]
    }
   ],
   "source": [
    "if \"Emma\" in people_ages:\n",
    "    print(\"Yes , Emma is in the list of people's ages.\")"
   ]
  },
  {
   "cell_type": "markdown",
   "metadata": {},
   "source": [
    "##### **Retrieve a value using .get() and provide a default value if the key is missing.**  "
   ]
  },
  {
   "cell_type": "code",
   "execution_count": 31,
   "metadata": {},
   "outputs": [
    {
     "data": {
      "text/plain": [
       "'Not Found'"
      ]
     },
     "execution_count": 31,
     "metadata": {},
     "output_type": "execute_result"
    }
   ],
   "source": [
    "people_ages.get(\"Daniel\", \"Not Found\")"
   ]
  },
  {
   "cell_type": "markdown",
   "metadata": {},
   "source": [
    "##### **Create a dictionary of 3 countries and their full form. Print each country with its full form.**\n"
   ]
  },
  {
   "cell_type": "code",
   "execution_count": 33,
   "metadata": {},
   "outputs": [
    {
     "name": "stdout",
     "output_type": "stream",
     "text": [
      "USA: United States of America\n",
      "CAD: Canada\n",
      "MEX: Mexico\n"
     ]
    }
   ],
   "source": [
    "countries = {\n",
    "    \"USA\": \"United States of America\",\n",
    "    \"CAD\": \"Canada\",\n",
    "    \"MEX\": \"Mexico\"\n",
    "    }\n",
    "\n",
    "for country , full_name in countries.items():\n",
    "    print(f\"{country}: {full_name}\")\n"
   ]
  },
  {
   "cell_type": "markdown",
   "metadata": {},
   "source": [
    "##### **Merge two dictionaries containing student scores**"
   ]
  },
  {
   "cell_type": "code",
   "execution_count": 37,
   "metadata": {},
   "outputs": [
    {
     "name": "stdout",
     "output_type": "stream",
     "text": [
      "{'business finance': 54, 'data science': 67, 'marketing': 43, 'accounting': 56, 'financial management': 62, 'business law': 48}\n"
     ]
    }
   ],
   "source": [
    "bba_scores = {\n",
    "    'business finance': 54,\n",
    "    'data science': 67,\n",
    "    'marketing': 43\n",
    "}\n",
    "\n",
    "bsaf_scores = {\n",
    "    'accounting': 56,\n",
    "    'financial management': 62,\n",
    "    'business law': 48\n",
    "}\n",
    "\n",
    "#merge both dictionaries\n",
    "bba_scores.update(bsaf_scores)\n",
    "print(bba_scores)"
   ]
  },
  {
   "cell_type": "markdown",
   "metadata": {},
   "source": [
    "##### **Ask a user for their name, age, and city and store the details in a dictionary.**"
   ]
  },
  {
   "cell_type": "code",
   "execution_count": 40,
   "metadata": {},
   "outputs": [
    {
     "name": "stdout",
     "output_type": "stream",
     "text": [
      "\n",
      "User Details: {'name': 'eman', 'age': 20, 'city': 'multan'}\n"
     ]
    }
   ],
   "source": [
    "# Ask for user input\n",
    "name = input(\"Enter your name: \").strip()\n",
    "age = input(\"Enter your age: \").strip()\n",
    "city = input(\"Enter your city: \").strip()\n",
    "\n",
    "# Store details in a dictionary\n",
    "user_data = {\"name\": name, \"age\": int(age) if age.isdigit() else age, \"city\": city}\n",
    "\n",
    "# Print the dictionary\n",
    "print(\"\\nUser Details:\", user_data)\n"
   ]
  },
  {
   "cell_type": "markdown",
   "metadata": {},
   "source": [
    "##### **Convert two lists into a dictionary (one list for keys, one for values).**"
   ]
  },
  {
   "cell_type": "code",
   "execution_count": 42,
   "metadata": {},
   "outputs": [
    {
     "name": "stdout",
     "output_type": "stream",
     "text": [
      "{'name': 'Alice', 'age': 25, 'city': 'New York'}\n"
     ]
    }
   ],
   "source": [
    "# Sample lists\n",
    "keys = [\"name\", \"age\", \"city\"]\n",
    "values = [\"Alice\", 25, \"New York\"]\n",
    "\n",
    "# Convert to dictionary\n",
    "user_data = dict(zip(keys,values))\n",
    "\n",
    "# Print the result\n",
    "print(user_data)\n",
    "\n"
   ]
  },
  {
   "cell_type": "markdown",
   "metadata": {},
   "source": [
    "##### **Given a dictionary of product prices, find the most expensive product.**"
   ]
  },
  {
   "cell_type": "code",
   "execution_count": 44,
   "metadata": {},
   "outputs": [
    {
     "name": "stdout",
     "output_type": "stream",
     "text": [
      "The most expensive product is Laptop with a price of $1200.\n"
     ]
    }
   ],
   "source": [
    "# Sample dictionary of product prices\n",
    "product_prices = {\n",
    "    \"Laptop\": 1200,\n",
    "    \"Smartphone\": 800,\n",
    "    \"Headphones\": 150,\n",
    "    \"Smartwatch\": 250,\n",
    "    \"Tablet\": 600\n",
    "}\n",
    "\n",
    "# Find the most expensive product\n",
    "most_expensive = max(product_prices, key=product_prices.get)\n",
    "\n",
    "# Print the result\n",
    "print(f\"The most expensive product is {most_expensive} with a price of ${product_prices[most_expensive]}.\")\n"
   ]
  },
  {
   "cell_type": "markdown",
   "metadata": {},
   "source": [
    "##### **Convert a Dictionary into Two Lists (Keys & Values Separately)**"
   ]
  },
  {
   "cell_type": "code",
   "execution_count": 45,
   "metadata": {},
   "outputs": [
    {
     "name": "stdout",
     "output_type": "stream",
     "text": [
      "Keys: ['Laptop', 'Smartphone', 'Tablet']\n",
      "Values: [1200, 800, 600]\n"
     ]
    }
   ],
   "source": [
    "# Sample dictionary\n",
    "product_prices = {\"Laptop\": 1200, \"Smartphone\": 800, \"Tablet\": 600}\n",
    "\n",
    "# Extract keys and values into separate lists\n",
    "keys = list(product_prices.keys())\n",
    "values = list(product_prices.values())\n",
    "\n",
    "print(\"Keys:\", keys)\n",
    "print(\"Values:\", values)\n"
   ]
  },
  {
   "cell_type": "markdown",
   "metadata": {},
   "source": [
    "##### **Reverse Key-Value Pairs in a Dictionary**"
   ]
  },
  {
   "cell_type": "code",
   "execution_count": 46,
   "metadata": {},
   "outputs": [
    {
     "name": "stdout",
     "output_type": "stream",
     "text": [
      "{25: 'Alice', 30: 'Bob', 35: 'Charlie'}\n"
     ]
    }
   ],
   "source": [
    "# Sample dictionary\n",
    "original_dict = {\"Alice\": 25, \"Bob\": 30, \"Charlie\": 35}\n",
    "\n",
    "# Reverse key-value pairs\n",
    "reversed_dict = {value: key for key, value in original_dict.items()}\n",
    "\n",
    "print(reversed_dict)\n"
   ]
  },
  {
   "cell_type": "markdown",
   "metadata": {},
   "source": [
    "##### **Find the Average Temperature from a Dictionary (Date as Key, Temperature as Value)**"
   ]
  },
  {
   "cell_type": "code",
   "execution_count": 47,
   "metadata": {},
   "outputs": [
    {
     "name": "stdout",
     "output_type": "stream",
     "text": [
      "Average Temperature: 20.00°C\n"
     ]
    }
   ],
   "source": [
    "# Sample dictionary with dates and temperatures\n",
    "temperature_data = {\n",
    "    \"2025-03-01\": 18,\n",
    "    \"2025-03-02\": 22,\n",
    "    \"2025-03-03\": 20,\n",
    "    \"2025-03-04\": 19,\n",
    "    \"2025-03-05\": 21\n",
    "}\n",
    "\n",
    "# Calculate average temperature\n",
    "average_temp = sum(temperature_data.values()) / len(temperature_data)\n",
    "\n",
    "print(f\"Average Temperature: {average_temp:.2f}°C\")\n"
   ]
  },
  {
   "cell_type": "markdown",
   "metadata": {},
   "source": [
    "##### **Find the Employee with the Highest Salary**"
   ]
  },
  {
   "cell_type": "code",
   "execution_count": 48,
   "metadata": {},
   "outputs": [
    {
     "name": "stdout",
     "output_type": "stream",
     "text": [
      "Highest paid employee: Bob, Salary: $72000\n"
     ]
    }
   ],
   "source": [
    "# Sample dictionary of employees and salaries\n",
    "employee_salaries = {\"Alice\": 55000, \"Bob\": 72000, \"Charlie\": 68000}\n",
    "\n",
    "highest_paid = max(employee_salaries, key=employee_salaries.get)\n",
    "\n",
    "print(f\"Highest paid employee: {highest_paid}, Salary: ${employee_salaries[highest_paid]}\")"
   ]
  },
  {
   "cell_type": "markdown",
   "metadata": {},
   "source": [
    "##### **Create a dictionary where names are keys and emails are values. Add a new contact and then print the updated dictionary.**"
   ]
  },
  {
   "cell_type": "code",
   "execution_count": 49,
   "metadata": {},
   "outputs": [
    {
     "name": "stdout",
     "output_type": "stream",
     "text": [
      "{'eman': 'emanzahid@gmail.com', 'mohammad': 'mohammad@gmail.com', 'ali': 'ali@gmail.com', 'daniyal': 'daniyal@gmail.com'}\n"
     ]
    }
   ],
   "source": [
    "contact = {\n",
    "    'eman' : 'emanzahid@gmail.com',\n",
    "    'mohammad' : 'mohammad@gmail.com',\n",
    "    'ali' : 'ali@gmail.com' \n",
    "    }\n",
    "\n",
    "contact ['daniyal'] = 'daniyal@gmail.com'\n",
    "\n",
    "print(contact)\n"
   ]
  },
  {
   "cell_type": "markdown",
   "metadata": {},
   "source": [
    "##### **Create a dictionary where the keys are month names and the values are the number of days in each month. Ask the user for a month name and print the number of days in that month.**"
   ]
  },
  {
   "cell_type": "code",
   "execution_count": 51,
   "metadata": {},
   "outputs": [
    {
     "name": "stdout",
     "output_type": "stream",
     "text": [
      "The number of days in mar is 31\n"
     ]
    }
   ],
   "source": [
    "months = {\n",
    "    'jan' : 31,\n",
    "    'feb' : 28,\n",
    "    'mar' : 31,\n",
    "    'apr' : 30,\n",
    "    'may' : 31,\n",
    "    'jun' : 30,\n",
    "    'jul' : 31,\n",
    "    'aug' : 31,\n",
    "    'sep' : 30,\n",
    "    'oct' : 31,\n",
    "    'nov' : 30,\n",
    "    'dec' : 31\n",
    "    \n",
    "    }\n",
    "\n",
    "\n",
    "user_input = input(\"Enter the month name (in 3 letters) : \").lower()\n",
    "\n",
    "for key in months:\n",
    "    if key == user_input:\n",
    "        print(f\"The number of days in {key} is {months[key]}\")"
   ]
  }
 ],
 "metadata": {
  "kernelspec": {
   "display_name": "base",
   "language": "python",
   "name": "python3"
  },
  "language_info": {
   "codemirror_mode": {
    "name": "ipython",
    "version": 3
   },
   "file_extension": ".py",
   "mimetype": "text/x-python",
   "name": "python",
   "nbconvert_exporter": "python",
   "pygments_lexer": "ipython3",
   "version": "3.12.9"
  }
 },
 "nbformat": 4,
 "nbformat_minor": 2
}
