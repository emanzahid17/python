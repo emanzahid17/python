{
 "cells": [
  {
   "cell_type": "markdown",
   "id": "c54aec07",
   "metadata": {},
   "source": [
    "# **Working with APIs and JSON**  \n",
    "\n",
    "**Author of this Notebook: Eman Zahid**  \n",
    "**Contact: [LinkedIn](https://www.linkedin.com/in/eman-zahid-b384a6300/)**"
   ]
  },
  {
   "cell_type": "markdown",
   "id": "c0ae0a76",
   "metadata": {},
   "source": [
    "## **1. What is JSON?**  \n",
    "\n",
    "JSON (JavaScript Object Notation) is a format used to store and exchange data. It looks like Python dictionaries!\n",
    "\n",
    "### **Example JSON:**"
   ]
  },
  {
   "cell_type": "code",
   "execution_count": 2,
   "id": "68a7a123",
   "metadata": {},
   "outputs": [
    {
     "data": {
      "text/plain": [
       "{'name': 'Ali', 'age': 25, 'is_student': True}"
      ]
     },
     "execution_count": 2,
     "metadata": {},
     "output_type": "execute_result"
    }
   ],
   "source": [
    "{\n",
    "  \"name\": \"Ali\",\n",
    "  \"age\": 25,\n",
    "  \"is_student\": True\n",
    "}\n"
   ]
  },
  {
   "cell_type": "markdown",
   "id": "a7688869",
   "metadata": {},
   "source": [
    "## **Parsing JSON Data in Python**  \n",
    "\n",
    "### **✅ Step 1: Import the json module**"
   ]
  },
  {
   "cell_type": "code",
   "execution_count": 3,
   "id": "0d6d7ed9",
   "metadata": {},
   "outputs": [],
   "source": [
    "import json\n"
   ]
  },
  {
   "cell_type": "markdown",
   "id": "9bdf788c",
   "metadata": {},
   "source": [
    "### **✅ Step 2: Convert JSON string → Python dictionary**"
   ]
  },
  {
   "cell_type": "code",
   "execution_count": 4,
   "id": "8a90db90",
   "metadata": {},
   "outputs": [
    {
     "name": "stdout",
     "output_type": "stream",
     "text": [
      "Ali\n"
     ]
    }
   ],
   "source": [
    "json_data = '{\"name\": \"Ali\", \"age\": 25, \"is_student\": true}'\n",
    "parsed_data = json.loads(json_data)\n",
    "\n",
    "print(parsed_data[\"name\"])  # Output: Ali\n"
   ]
  },
  {
   "cell_type": "markdown",
   "id": "e7309266",
   "metadata": {},
   "source": [
    "### **✅ Step 3: Convert Python dictionary → JSON string**"
   ]
  },
  {
   "cell_type": "code",
   "execution_count": 5,
   "id": "0c96c75b",
   "metadata": {},
   "outputs": [
    {
     "name": "stdout",
     "output_type": "stream",
     "text": [
      "{\"name\": \"Sara\", \"age\": 22, \"is_student\": false}\n"
     ]
    }
   ],
   "source": [
    "python_dict = {\"name\": \"Sara\", \"age\": 22, \"is_student\": False}\n",
    "json_string = json.dumps(python_dict)\n",
    "\n",
    "print(json_string)\n",
    "# Output: {\"name\": \"Sara\", \"age\": 22, \"is_student\": false}\n"
   ]
  },
  {
   "cell_type": "markdown",
   "id": "e56d0d47",
   "metadata": {},
   "source": [
    "## **2. Making API Calls using 'requests'**"
   ]
  },
  {
   "cell_type": "markdown",
   "id": "ef6927c6",
   "metadata": {},
   "source": [
    "### **✅ Step 1: Install requests (if not already installed)**"
   ]
  },
  {
   "cell_type": "code",
   "execution_count": 6,
   "id": "5e4f2d84",
   "metadata": {},
   "outputs": [
    {
     "name": "stdout",
     "output_type": "stream",
     "text": [
      "Collecting requests\n",
      "  Using cached requests-2.32.3-py3-none-any.whl.metadata (4.6 kB)\n",
      "Collecting charset-normalizer<4,>=2 (from requests)\n",
      "  Downloading charset_normalizer-3.4.2-cp310-cp310-win_amd64.whl.metadata (36 kB)\n",
      "Collecting idna<4,>=2.5 (from requests)\n",
      "  Using cached idna-3.10-py3-none-any.whl.metadata (10 kB)\n",
      "Collecting urllib3<3,>=1.21.1 (from requests)\n",
      "  Downloading urllib3-2.4.0-py3-none-any.whl.metadata (6.5 kB)\n",
      "Collecting certifi>=2017.4.17 (from requests)\n",
      "  Downloading certifi-2025.4.26-py3-none-any.whl.metadata (2.5 kB)\n",
      "Using cached requests-2.32.3-py3-none-any.whl (64 kB)\n",
      "Downloading certifi-2025.4.26-py3-none-any.whl (159 kB)\n",
      "Downloading charset_normalizer-3.4.2-cp310-cp310-win_amd64.whl (105 kB)\n",
      "Using cached idna-3.10-py3-none-any.whl (70 kB)\n",
      "Downloading urllib3-2.4.0-py3-none-any.whl (128 kB)\n",
      "Installing collected packages: urllib3, idna, charset-normalizer, certifi, requests\n",
      "Successfully installed certifi-2025.4.26 charset-normalizer-3.4.2 idna-3.10 requests-2.32.3 urllib3-2.4.0\n",
      "Note: you may need to restart the kernel to use updated packages.\n"
     ]
    }
   ],
   "source": [
    "pip install requests"
   ]
  },
  {
   "cell_type": "markdown",
   "id": "07837c6e",
   "metadata": {},
   "source": [
    "### **✅ Step 2: Make a GET Request**"
   ]
  },
  {
   "cell_type": "code",
   "execution_count": 8,
   "id": "ce3b73d2",
   "metadata": {},
   "outputs": [
    {
     "name": "stdout",
     "output_type": "stream",
     "text": [
      "200\n",
      "{'userId': 1, 'id': 1, 'title': 'sunt aut facere repellat provident occaecati excepturi optio reprehenderit', 'body': 'quia et suscipit\\nsuscipit recusandae consequuntur expedita et cum\\nreprehenderit molestiae ut ut quas totam\\nnostrum rerum est autem sunt rem eveniet architecto'}\n"
     ]
    }
   ],
   "source": [
    "import requests\n",
    "\n",
    "url = \"https://jsonplaceholder.typicode.com/posts/1\"\n",
    "response = requests.get(url)\n",
    "\n",
    "print(response.status_code)   # 200 means OK\n",
    "print(response.json())        # Convert response to JSON\n"
   ]
  },
  {
   "cell_type": "markdown",
   "id": "d79e4116",
   "metadata": {},
   "source": [
    "### **✅ Step 3: Make a POST Request**"
   ]
  },
  {
   "cell_type": "code",
   "execution_count": 10,
   "id": "3443d0a6",
   "metadata": {},
   "outputs": [
    {
     "name": "stdout",
     "output_type": "stream",
     "text": [
      "{'title': 'My Post', 'body': 'This is a test post', 'userId': 1, 'id': 101}\n",
      "201\n"
     ]
    }
   ],
   "source": [
    "data = {\n",
    "    \"title\": \"My Post\",\n",
    "    \"body\": \"This is a test post\",\n",
    "    \"userId\": 1\n",
    "}\n",
    "\n",
    "response = requests.post(\"https://jsonplaceholder.typicode.com/posts\", json=data)\n",
    "print(response.json())\n",
    "print(response.status_code)  # 201 means Created\n"
   ]
  },
  {
   "cell_type": "markdown",
   "id": "16331c00",
   "metadata": {},
   "source": [
    "### Explanation of `requests.get()` and `requests.post()`\n",
    "\n",
    "| Function        | Purpose                | Example                        |\n",
    "|----------------|------------------------|--------------------------------|\n",
    "| `get()`        | Fetch data from a server | `requests.get(url)`            |\n",
    "| `post()`       | Send data to server     | `requests.post(url, json=data)`|\n",
    "| `json()`       | Parse the JSON response | `response.json()`              |\n",
    "| `status_code`  | Shows HTTP status       | `response.status_code`         |\n"
   ]
  },
  {
   "cell_type": "markdown",
   "id": "9d8bd356",
   "metadata": {},
   "source": [
    "# **Mini Project Idea: Weather App (Using an API)**  \n",
    "\n",
    "## **Project: Simple Weather App**  \n",
    "\n",
    "1. Use the OpenWeatherMap API\n",
    "2. Input city name\n",
    "3. Fetch and display weather data (temperature, description, humidity)"
   ]
  },
  {
   "cell_type": "code",
   "execution_count": null,
   "id": "1ddec254",
   "metadata": {},
   "outputs": [],
   "source": [
    "import requests\n",
    "\n",
    "# Step 1: Add your OpenWeatherMap API key here\n",
    "API_KEY = \"your api key\"   # Replace with your actual API key\n",
    "# Note: You can get a free API key by signing up at https://openweathermap.org/api\n",
    "\n",
    "# Step 2: Ask the user for a city name\n",
    "city = input(\"🌍 Enter the city name to check weather: \")\n",
    "\n",
    "# Step 3: Construct the API URL\n",
    "url = f\"http://api.openweathermap.org/data/2.5/weather?q={city}&appid={API_KEY}&units=metric\"\n",
    "\n",
    "# Step 4: Make the API request\n",
    "response = requests.get(url)\n",
    "\n",
    "# Step 5: Handle the response\n",
    "if response.status_code == 200:\n",
    "    data = response.json()\n",
    "\n",
    "    # Step 6: Extract useful weather information\n",
    "    temperature = data['main']['temp']\n",
    "    condition = data['weather'][0]['description']\n",
    "    humidity = data['main']['humidity']\n",
    "    wind_speed = data['wind']['speed']\n",
    "\n",
    "    # Step 7: Print the results nicely\n",
    "    print(f\"\\n📍 Weather Report for {city.title()}\")\n",
    "    print(f\"🌡 Temperature   : {temperature}°C\")\n",
    "    print(f\"🌥 Condition     : {condition}\")\n",
    "    print(f\"💧 Humidity      : {humidity}%\")\n",
    "    print(f\"💨 Wind Speed    : {wind_speed} m/s\")\n",
    "\n",
    "else:\n",
    "    print(\"\\n⚠️ Error: City not found or API key is invalid.\")\n"
   ]
  }
 ],
 "metadata": {
  "kernelspec": {
   "display_name": "myenv",
   "language": "python",
   "name": "python3"
  },
  "language_info": {
   "codemirror_mode": {
    "name": "ipython",
    "version": 3
   },
   "file_extension": ".py",
   "mimetype": "text/x-python",
   "name": "python",
   "nbconvert_exporter": "python",
   "pygments_lexer": "ipython3",
   "version": "3.10.16"
  }
 },
 "nbformat": 4,
 "nbformat_minor": 5
}
