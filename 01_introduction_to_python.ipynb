{
 "cells": [
  {
   "cell_type": "markdown",
   "metadata": {},
   "source": [
    "# **Introduction to Python - Eman Zahid**  \n",
    "\n",
    "**Author of this Notebook: Eman Zahid**  \n",
    "**Contact: [LinkedIn](https://www.linkedin.com/in/eman-zahid-b384a6300/)**\n",
    "\n",
    "Python is a computer language that helps us talk to computers! Just like we use English to talk to people, we use Python to give instructions to a computer so it can do things for us—like solving math problems, drawing pictures, or even making games! \n",
    "\n",
    "Python is super easy because it uses words just like we do in real life. For example, if you want the computer to say \"Hello,\" you can write:\n",
    "\n",
    "*print(\"Hello!\")*\n",
    "\n",
    "See? It looks just like English! \n"
   ]
  },
  {
   "cell_type": "markdown",
   "metadata": {},
   "source": [
    "## **Why Learn Python?**\n",
    "Python is a versatile and widely used programming language that has numerous applications in various fields. \n",
    "\n",
    "✅ Easy to Read – It looks like simple English.\n",
    "\n",
    "✅ Used Everywhere – Websites, games, robots, and even self-driving cars use Python!\n",
    "\n",
    "✅ Great for Beginners – Even kids can learn Python easily!\n",
    "\n",
    "✅ You Can Build Anything – Games, apps, and even AI (like talking robots)."
   ]
  },
  {
   "cell_type": "markdown",
   "metadata": {},
   "source": [
    "## **Writing and Running Your First Python Program**\n",
    "\n",
    "Now, let’s write our first Python program!\n",
    "\n",
    "Step 1: Create Jupyter Notebook File with extension .ipynb\n",
    "\n",
    "Step 2: Install ipykernel package to run the python program in jupyter notebook.\n",
    "\n",
    "Step 3: Write this code:\n",
    "\n",
    "*print(\"Hello, World!\")*\n",
    "\n",
    "Step 4: Run It!\n",
    "If you're using Jupyter Notebook, press Shift + Enter\n"
   ]
  },
  {
   "cell_type": "code",
   "execution_count": 1,
   "metadata": {},
   "outputs": [
    {
     "name": "stdout",
     "output_type": "stream",
     "text": [
      "Hello, World!\n"
     ]
    }
   ],
   "source": [
    "print(\"Hello, World!\")"
   ]
  },
  {
   "cell_type": "code",
   "execution_count": 1,
   "metadata": {},
   "outputs": [
    {
     "name": "stdout",
     "output_type": "stream",
     "text": [
      "I am learning Python\n"
     ]
    }
   ],
   "source": [
    "print (\"I am learning Python\")"
   ]
  },
  {
   "cell_type": "markdown",
   "metadata": {},
   "source": [
    "You did it! You just wrote your first Python program! "
   ]
  },
  {
   "cell_type": "markdown",
   "metadata": {},
   "source": [
    "## **What is a Variable?**\n",
    "A variable is like a box where we store information. This information can be a number, a word, or even a list of things. When we need that information later, we can use the variable instead of writing the value again.\n",
    "\n",
    "Example:\n",
    "Imagine you want to store your age. Instead of writing the number everywhere, you can put it in a variable like this:"
   ]
  },
  {
   "cell_type": "code",
   "execution_count": 2,
   "metadata": {},
   "outputs": [
    {
     "name": "stdout",
     "output_type": "stream",
     "text": [
      "20\n"
     ]
    }
   ],
   "source": [
    "my_age = 20\n",
    "print(my_age) #This will print 20"
   ]
  },
  {
   "cell_type": "markdown",
   "metadata": {},
   "source": [
    "### **Why Do We Use Variables?**\n",
    "\n",
    "* To store values like numbers, text, or lists.\n",
    "* To reuse data without writing it again and again.\n",
    "* To make programs easy to read and change."
   ]
  },
  {
   "cell_type": "markdown",
   "metadata": {},
   "source": [
    "### **Types of Variable Naming Cases**\n",
    "\n",
    "When we create a variable, we must name it properly so it’s easy to understand. There are different ways to name variables, called naming conventions.\n",
    "\n",
    "1. **Snake Case (Recommended for Python)**\n",
    "Words are written in lowercase. Underscores _ separate the words.\n",
    "\n",
    "my_age = 20\n",
    "\n",
    "2. **Camel Case**\n",
    "The first word is in lowercase, and each new word starts with uppercase. No underscores are used. This is commonly used in Java and JavaScript.\n",
    "\n",
    "myAge = 20\n",
    "\n",
    "3. **Pascal Case**\n",
    "Each word starts with an uppercase letter. No underscores are used. This is commonly used for class names in Python.\n",
    "\n",
    "MyAge = 20"
   ]
  },
  {
   "cell_type": "markdown",
   "metadata": {},
   "source": [
    "### **Naming Rules for Variables**\n",
    "\n",
    "When naming a variable in Python, you must follow certain rules to avoid errors.\n",
    "\n",
    "**1. A Variable Name Must Start with a Letter or an Underscore _**\n",
    "\n",
    "✅ Allowed:\n",
    "\n",
    "name = \"Alice\"\n",
    "\n",
    "_age = 25\n",
    "\n",
    "❌ Not Allowed:\n",
    "\n",
    "1name = \"Bob\"  # Starts with a number (Error)\n",
    "\n",
    "**2. A Variable Name Can Only Contain Letters, Numbers, and Underscores (_)**\n",
    "\n",
    "✅ Allowed:\n",
    "\n",
    "student_name = \"John\"\n",
    "\n",
    "marks_2024 = 90\n",
    "\n",
    "❌ Not Allowed:\n",
    "\n",
    "student-name = \"Emma\"  # Hyphen (-) is not allowed (Error)\n",
    "\n",
    "marks@school = 85      # Special character (@) is not allowed (Error)\n",
    "\n",
    "**3. Variable Names Are Case-Sensitive**\n",
    "\n",
    "Python treats uppercase and lowercase letters as different.\n",
    "\n",
    "Name = \"Alice\"\n",
    "\n",
    "name = \"Bob\"\n",
    "\n",
    "print(Name)  # Alice\n",
    "\n",
    "print(name)  # Bob\n",
    "\n",
    "Even though both names look similar, they are different variables in Python.\n",
    "\n",
    "**4. You Cannot Use Python's Reserved Words (Keywords) as Variable Names**\n",
    "\n",
    "Python has certain words that have special meanings and cannot be used as variable names.\n",
    "\n",
    "❌ Not Allowed:\n",
    "\n",
    "if = 5         # \"if\" is a keyword (Error)\n",
    "\n",
    "class = \"Math\" # \"class\" is a keyword (Error)\n",
    "\n",
    "✅ Allowed (by adding an underscore):\n",
    "\n",
    "if_value = 5\n",
    "\n",
    "class_name = \"Math\""
   ]
  },
  {
   "cell_type": "markdown",
   "metadata": {},
   "source": [
    "### **Assigning Values to Variables**\n",
    "\n",
    "In Python, assigning a value to a variable is simple. We use the = sign to store a value in a variable.\n",
    "\n",
    "**1. Assigning a Single Value to a Variable**\n",
    "\n",
    "*name = \"Alice\"* \n",
    "*age = 25*  \n",
    "*height = 5.7*\n",
    "\n",
    "**2. Assigning Multiple Values to Multiple Variables (In One Line)**\n",
    "\n",
    "*a, b, c = 10, 20, 30*  \n",
    "*print(a)  # 10*  \n",
    "*print(b)  # 20*  \n",
    "*print(c)  # 30*\n",
    "\n",
    "**3. Assigning the Same Value to Multiple Variables**\n",
    "\n",
    "*x = y = z = 100*  \n",
    "*print(x, y, z)  # 100 100 100*\n",
    "\n",
    "**4. Assigning Different Data Types to Variables**\n",
    "\n",
    "Python allows variables to hold different types of values:\n",
    "\n",
    "*text = \"Hello\"     # String*  \n",
    "*number = 100       # Integer*  \n",
    "*price = 99.99      # Float*  \n",
    "*is_python = True   # Boolean*\n",
    "\n",
    "Python automatically understands the type of value assigned, so you don’t need to mention it separately."
   ]
  },
  {
   "cell_type": "markdown",
   "metadata": {},
   "source": [
    "## **Data Types**\n",
    "\n",
    "A data type tells Python what kind of value is stored in a variable. Python has different data types, and each one is used for a specific kind of data.\n",
    "\n",
    "Here are the most common data types in Python:\n",
    "\n",
    "**1. Integer (int)**\n",
    "\n",
    "Whole numbers (positive or negative)\n",
    "Example:\n",
    "\n",
    "age = 25  \n",
    "temperature = -10\n",
    "\n",
    "**2. Floating Point (float)**\n",
    "\n",
    "Numbers with a decimal point\n",
    "Example:\n",
    "\n",
    "price = 10.99  \n",
    "pi = 3.14159\n",
    "\n",
    "**3. String (str)**\n",
    "\n",
    "Text values (written inside quotes)\n",
    "Example:\n",
    "\n",
    "name = \"Alice\"  \n",
    "greeting = 'Hello, World!'\n",
    "\n",
    "**4. Boolean (bool)**\n",
    "\n",
    "True or False values\n",
    "Example:\n",
    "\n",
    "is_sunny = True  \n",
    "is_raining = False"
   ]
  },
  {
   "cell_type": "markdown",
   "metadata": {},
   "source": [
    "### **Type Conversion (Casting)**\n",
    "\n",
    "Sometimes, you need to change a value from one data type to another. This is called type conversion or casting.\n",
    "\n",
    "Python provides functions to do this:\n",
    "\n",
    "* int() → Converts to an integer\n",
    "* float() → Converts to a floating number\n",
    "* str() → Converts to a string\n",
    "* bool() → Converts to a boolean value (True or False)"
   ]
  },
  {
   "cell_type": "code",
   "execution_count": 3,
   "metadata": {},
   "outputs": [
    {
     "name": "stdout",
     "output_type": "stream",
     "text": [
      "new_num: 10\n",
      "age_float: 25.0\n",
      "price_str: 99\n",
      "text_number: 50\n",
      "x: False\n",
      "y: True\n"
     ]
    }
   ],
   "source": [
    "# Convert float to int\n",
    "num = 10.5\n",
    "new_num = int(num)  \n",
    "print(\"new_num:\" , new_num)  # Output: new_num: 10\n",
    "\n",
    "# Convert int to float\n",
    "age = 25\n",
    "age_float = float(age)  \n",
    "print(\"age_float:\", age_float)  # Output: age_float: 25.0\n",
    "\n",
    "# Convert number to string\n",
    "price = 99\n",
    "price_str = str(price)  \n",
    "print(\"price_str:\", price_str)  # Output: price_str: 99\n",
    "\n",
    "# Convert string to number\n",
    "text = \"50\"\n",
    "text_number = int(text)  \n",
    "print(\"text_number:\", text_number)  # Output: text_number: 50\n",
    "\n",
    "# Convert to boolean\n",
    "x = 0\n",
    "y = 10\n",
    "print(\"x:\", bool(x))  # False (because 0 is considered False)\n",
    "print(\"y:\", bool(y))  # True (because any non-zero number is True)\n"
   ]
  },
  {
   "cell_type": "markdown",
   "metadata": {},
   "source": [
    "#### Creating Variables and Print Their Data Types Uisng Type()"
   ]
  },
  {
   "cell_type": "code",
   "execution_count": 3,
   "metadata": {},
   "outputs": [
    {
     "name": "stdout",
     "output_type": "stream",
     "text": [
      "Value: 25 , Type: <class 'int'>\n",
      "Value: 3.14 , Type: <class 'float'>\n",
      "Value: Hello , Type: <class 'str'>\n",
      "Value: True , Type: <class 'bool'>\n"
     ]
    }
   ],
   "source": [
    "# Creating variables with different data types\n",
    "num = 25          # Integer\n",
    "decimal = 3.14    # Float\n",
    "text = \"Hello\"    # String\n",
    "status = True     # Boolean\n",
    "\n",
    "# Printing values and their types\n",
    "print(\"Value:\", num, \", Type:\", type(num))\n",
    "print(\"Value:\", decimal, \", Type:\", type(decimal))\n",
    "print(\"Value:\", text, \", Type:\", type(text))\n",
    "print(\"Value:\", status, \", Type:\", type(status))\n"
   ]
  }
 ],
 "metadata": {
  "kernelspec": {
   "display_name": "myenv",
   "language": "python",
   "name": "python3"
  },
  "language_info": {
   "codemirror_mode": {
    "name": "ipython",
    "version": 3
   },
   "file_extension": ".py",
   "mimetype": "text/x-python",
   "name": "python",
   "nbconvert_exporter": "python",
   "pygments_lexer": "ipython3",
   "version": "3.10.16"
  }
 },
 "nbformat": 4,
 "nbformat_minor": 2
}
