{
 "cells": [
  {
   "cell_type": "markdown",
   "metadata": {},
   "source": [
    "# **Local vs Global Variable** \n",
    "\n",
    "**Author of this Notebook: Eman Zahid**  \n",
    "**Contact: [LinkedIn](https://www.linkedin.com/in/eman-zahid-b384a6300/)**"
   ]
  },
  {
   "cell_type": "markdown",
   "metadata": {},
   "source": [
    "In Python, variables can have different scopes, meaning they are accessible in different parts of the code.\n",
    "\n",
    "## **1. Global Variables**  \n",
    "\n",
    "A global variable is defined outside a function.\n",
    "\n",
    "It can be used inside and outside of functions.\n",
    "\n",
    "You can modify a global variable inside a function using the global keyword.\n",
    "\n",
    "### **Example of a Global Variable:**  "
   ]
  },
  {
   "cell_type": "code",
   "execution_count": 3,
   "metadata": {},
   "outputs": [
    {
     "name": "stdout",
     "output_type": "stream",
     "text": [
      "Value of x inside function: 10\n",
      "Value of x outside function: 10\n"
     ]
    }
   ],
   "source": [
    "x = 10  # Global variable\n",
    "\n",
    "def display():\n",
    "    print(\"Value of x inside function:\", x)  # Can access x\n",
    "    \n",
    "\n",
    "display()\n",
    "print(\"Value of x outside function:\", x)\n"
   ]
  },
  {
   "cell_type": "markdown",
   "metadata": {},
   "source": [
    "## **2. Local Variables**  \n",
    "\n",
    "A local variable is defined inside a function.\n",
    "\n",
    "It can only be used within that function.\n",
    "\n",
    "It cannot be accessed outside the function.\n",
    "\n",
    "### **Example of a Local Variable:**"
   ]
  },
  {
   "cell_type": "code",
   "execution_count": 4,
   "metadata": {},
   "outputs": [
    {
     "name": "stdout",
     "output_type": "stream",
     "text": [
      "Value of y inside function: 5\n"
     ]
    }
   ],
   "source": [
    "def show():\n",
    "    y = 5  # Local variable\n",
    "    print(\"Value of y inside function:\", y)\n",
    "\n",
    "show()\n",
    "# print(y)  # This would cause an error because y is local\n"
   ]
  },
  {
   "cell_type": "markdown",
   "metadata": {},
   "source": [
    "## **3. Modifying Global Variables inside a Function**  \n",
    "\n",
    "To modify a global variable inside a function, use the global keyword.\n",
    "\n",
    "### **Example:**"
   ]
  },
  {
   "cell_type": "code",
   "execution_count": 6,
   "metadata": {},
   "outputs": [
    {
     "name": "stdout",
     "output_type": "stream",
     "text": [
      "Inside function x = 20\n",
      "Outside function x = 20\n"
     ]
    }
   ],
   "source": [
    "x = 10  # Global variable\n",
    "\n",
    "def change_x():\n",
    "    global x  # Allows modification of global x\n",
    "    x = 20\n",
    "    print(\"Inside function x =\", x)\n",
    "\n",
    "change_x()\n",
    "print(\"Outside function x =\", x)\n"
   ]
  },
  {
   "cell_type": "markdown",
   "metadata": {},
   "source": [
    "## **4. Nonlocal Variables (for Nested Functions)**  \n",
    "\n",
    "* nonlocal is used inside nested functions.\n",
    "\n",
    "It allows modifying variables from the outer function (but not global variables).\n",
    "\n",
    "### **Example:**"
   ]
  },
  {
   "cell_type": "code",
   "execution_count": 7,
   "metadata": {},
   "outputs": [
    {
     "name": "stdout",
     "output_type": "stream",
     "text": [
      "Inner function, a = 15\n",
      "Outer function, a = 15\n"
     ]
    }
   ],
   "source": [
    "def outer():\n",
    "    a = 10  # Outer function variable\n",
    "\n",
    "    def inner():\n",
    "        nonlocal a  # Refers to outer function's variable\n",
    "        a += 5\n",
    "        print(\"Inner function, a =\", a)\n",
    "\n",
    "    inner()\n",
    "    print(\"Outer function, a =\", a)\n",
    "\n",
    "outer()\n"
   ]
  },
  {
   "cell_type": "markdown",
   "metadata": {},
   "source": [
    "## **Practice Problems**  \n",
    "\n",
    "##### **1. Write a program where a global variable is used inside a function, and a local variable is defined inside another function.**"
   ]
  },
  {
   "cell_type": "code",
   "execution_count": 11,
   "metadata": {},
   "outputs": [
    {
     "name": "stdout",
     "output_type": "stream",
     "text": [
      "Inside use_global_variable(): I am a global variable\n",
      "Inside use_local_variable(): I am a local variable\n"
     ]
    }
   ],
   "source": [
    "# Global variable\n",
    "global_var = \"I am a global variable\"\n",
    "\n",
    "def use_global_variable():\n",
    "    # Accessing the global variable inside a function\n",
    "    print(\"Inside use_global_variable():\", global_var)\n",
    "\n",
    "def use_local_variable():\n",
    "    # Local variable\n",
    "    local_var = \"I am a local variable\"\n",
    "    print(\"Inside use_local_variable():\", local_var)\n",
    "\n",
    "# Calling functions\n",
    "use_global_variable()\n",
    "use_local_variable()\n",
    "\n",
    "# Trying to access the local variable outside its function will cause an error\n",
    "# Uncommenting the line below will result in a NameError\n",
    "# print(local_var)\n"
   ]
  },
  {
   "cell_type": "markdown",
   "metadata": {},
   "source": [
    "##### **2. Create a function that modifies a global variable using the global keyword.**"
   ]
  },
  {
   "cell_type": "code",
   "execution_count": 10,
   "metadata": {},
   "outputs": [
    {
     "name": "stdout",
     "output_type": "stream",
     "text": [
      "The value of x is 30\n",
      "The outside value of x is 30\n"
     ]
    }
   ],
   "source": [
    "x = 20\n",
    "\n",
    "def my_func():\n",
    "    global x\n",
    "    x = 30\n",
    "    print(f\"The value of x is {x}\")\n",
    "\n",
    "my_func()\n",
    "print(f\"The outside value of x is {x}\")"
   ]
  },
  {
   "cell_type": "markdown",
   "metadata": {},
   "source": [
    "##### **Write a function that defines a local variable and tries to access it outside the function (observe the error).**"
   ]
  },
  {
   "cell_type": "code",
   "execution_count": 13,
   "metadata": {},
   "outputs": [
    {
     "name": "stdout",
     "output_type": "stream",
     "text": [
      "The value of my local variable is 50\n"
     ]
    },
    {
     "ename": "NameError",
     "evalue": "name 'v' is not defined",
     "output_type": "error",
     "traceback": [
      "\u001b[1;31m---------------------------------------------------------------------------\u001b[0m",
      "\u001b[1;31mNameError\u001b[0m                                 Traceback (most recent call last)",
      "Cell \u001b[1;32mIn[13], line 6\u001b[0m\n\u001b[0;32m      3\u001b[0m     \u001b[38;5;28mprint\u001b[39m(\u001b[38;5;124mf\u001b[39m\u001b[38;5;124m\"\u001b[39m\u001b[38;5;124mThe value of my local variable is \u001b[39m\u001b[38;5;132;01m{\u001b[39;00mv\u001b[38;5;132;01m}\u001b[39;00m\u001b[38;5;124m\"\u001b[39m)\n\u001b[0;32m      5\u001b[0m my_local_var()\n\u001b[1;32m----> 6\u001b[0m \u001b[38;5;28mprint\u001b[39m(\u001b[43mv\u001b[49m)\n",
      "\u001b[1;31mNameError\u001b[0m: name 'v' is not defined"
     ]
    }
   ],
   "source": [
    "def my_local_var():\n",
    "    v = 50\n",
    "    print(f\"The value of my local variable is {v}\")\n",
    "\n",
    "my_local_var()\n",
    "print(v)"
   ]
  },
  {
   "cell_type": "markdown",
   "metadata": {},
   "source": [
    "##### **Create a nested function where the inner function modifies a variable from the outer function using nonlocal.**"
   ]
  },
  {
   "cell_type": "code",
   "execution_count": 14,
   "metadata": {},
   "outputs": [
    {
     "name": "stdout",
     "output_type": "stream",
     "text": [
      "Inner function, c is 25\n",
      "Outer function, c is 25\n"
     ]
    }
   ],
   "source": [
    "def out():\n",
    "    c = 30\n",
    "    def inn():\n",
    "        nonlocal c\n",
    "        c -= 5\n",
    "        print(f\"Inner function, c is {c}\")\n",
    "\n",
    "    inn()\n",
    "    print(f\"Outer function, c is {c}\")\n",
    "\n",
    "out()"
   ]
  },
  {
   "cell_type": "markdown",
   "metadata": {},
   "source": [
    "##### **Bank Account Balance:**\n",
    "\n",
    "* Create a global variable balance = 1000.\n",
    "\n",
    "* Define a function withdraw(amount) that reduces the balance.\n",
    "\n",
    "* Define another function deposit(amount) that increases the balance.\n",
    "\n",
    "* Use the global keyword to modify balance."
   ]
  },
  {
   "cell_type": "code",
   "execution_count": 15,
   "metadata": {},
   "outputs": [
    {
     "name": "stdout",
     "output_type": "stream",
     "text": [
      "Deposited: 500. New balance: 1500\n",
      "Withdrawn: 200. New balance: 1300\n",
      "Insufficient balance!\n"
     ]
    }
   ],
   "source": [
    "# Global variable\n",
    "balance = 1000\n",
    "\n",
    "def withdraw(amount):\n",
    "    global balance\n",
    "    if amount > balance:\n",
    "        print(\"Insufficient balance!\")\n",
    "    else:\n",
    "        balance -= amount\n",
    "        print(f\"Withdrawn: {amount}. New balance: {balance}\")\n",
    "\n",
    "def deposit(amount):\n",
    "    global balance\n",
    "    balance += amount\n",
    "    print(f\"Deposited: {amount}. New balance: {balance}\")\n",
    "\n",
    "# Testing the functions\n",
    "deposit(500)\n",
    "withdraw(200)\n",
    "withdraw(1500)\n",
    "\n"
   ]
  }
 ],
 "metadata": {
  "kernelspec": {
   "display_name": "base",
   "language": "python",
   "name": "python3"
  },
  "language_info": {
   "codemirror_mode": {
    "name": "ipython",
    "version": 3
   },
   "file_extension": ".py",
   "mimetype": "text/x-python",
   "name": "python",
   "nbconvert_exporter": "python",
   "pygments_lexer": "ipython3",
   "version": "3.12.9"
  }
 },
 "nbformat": 4,
 "nbformat_minor": 2
}
