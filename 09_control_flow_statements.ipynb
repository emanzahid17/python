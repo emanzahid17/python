{
 "cells": [
  {
   "cell_type": "markdown",
   "metadata": {},
   "source": [
    "# **Control Flow Statements (Decision Making) in Python**  \n",
    "\n",
    "**Author of this Notebook: Eman Zahid**  \n",
    "**Contact: [LinkedIn](https://www.linkedin.com/in/eman-zahid-b384a6300/)**"
   ]
  },
  {
   "cell_type": "markdown",
   "metadata": {},
   "source": [
    "Control flow statements allow a program to make decisions based on conditions. The most common decision-making statements in Python are:\n",
    "\n",
    "* if statement\n",
    "* if-else statement\n",
    "* if-elif-else statement\n",
    "* Nested if statements\n",
    "* Short-hand if (Ternary Operator)"
   ]
  },
  {
   "cell_type": "markdown",
   "metadata": {},
   "source": [
    "## **1. if Statement**  \n",
    "\n",
    "The if statement checks a condition. If the condition is True, the code inside the if block runs. If the condition is False, it skips the block."
   ]
  },
  {
   "cell_type": "code",
   "execution_count": 1,
   "metadata": {},
   "outputs": [
    {
     "name": "stdout",
     "output_type": "stream",
     "text": [
      "You are eligible to vote.\n"
     ]
    }
   ],
   "source": [
    "age = 18\n",
    "if age >= 18:\n",
    "    print(\"You are eligible to vote.\")\n",
    "\n"
   ]
  },
  {
   "cell_type": "markdown",
   "metadata": {},
   "source": [
    "Since age is 18, which is greater than or equal to 18, the condition is True, so \"You are eligible to vote.\" is printed."
   ]
  },
  {
   "cell_type": "markdown",
   "metadata": {},
   "source": [
    "## **2. if-else Statement**  \n",
    "\n",
    "The if-else statement provides an alternative action if the condition is False."
   ]
  },
  {
   "cell_type": "code",
   "execution_count": 2,
   "metadata": {},
   "outputs": [
    {
     "name": "stdout",
     "output_type": "stream",
     "text": [
      "You are eligible for participating in this tournament.\n"
     ]
    }
   ],
   "source": [
    "if age < 18:\n",
    "    print(\"You are not eligible for participating in this tournament.\")\n",
    "else:\n",
    "    print(\"You are eligible for participating in this tournament.\")"
   ]
  },
  {
   "cell_type": "markdown",
   "metadata": {},
   "source": [
    "### **Another Example**  "
   ]
  },
  {
   "cell_type": "code",
   "execution_count": 3,
   "metadata": {},
   "outputs": [
    {
     "name": "stdout",
     "output_type": "stream",
     "text": [
      "It's a hot day.\n"
     ]
    }
   ],
   "source": [
    "temperature = 30\n",
    "if temperature > 25:\n",
    "    print(\"It's a hot day.\")\n",
    "else:\n",
    "    print(\"It's a cool day.\")\n"
   ]
  },
  {
   "cell_type": "markdown",
   "metadata": {},
   "source": [
    "## **3. if-elif-else Statement**  \n",
    "\n",
    "The if-elif-else statement allows checking multiple conditions."
   ]
  },
  {
   "cell_type": "code",
   "execution_count": 4,
   "metadata": {},
   "outputs": [
    {
     "name": "stdout",
     "output_type": "stream",
     "text": [
      "Grade: B\n"
     ]
    }
   ],
   "source": [
    "marks = 85\n",
    "if marks >= 90:\n",
    "    print(\"Grade: A\")\n",
    "elif marks >= 80:\n",
    "    print(\"Grade: B\")\n",
    "elif marks >= 70:\n",
    "    print(\"Grade: C\")\n",
    "else:\n",
    "    print(\"Grade: F\")\n"
   ]
  },
  {
   "cell_type": "markdown",
   "metadata": {},
   "source": [
    "* If marks is 90 or more, it prints \"Grade: A\"\n",
    "* If marks is between 80 and 89, it prints \"Grade: B\"\n",
    "* If marks is between 70 and 79, it prints \"Grade: C\"\n",
    "* If marks is less than 70, it prints \"Grade: F\""
   ]
  },
  {
   "cell_type": "markdown",
   "metadata": {},
   "source": [
    "## **4. Nested if Statements**  \n",
    "\n",
    "You can put an if statement inside another if statement. This is called nesting."
   ]
  },
  {
   "cell_type": "code",
   "execution_count": null,
   "metadata": {},
   "outputs": [],
   "source": [
    "age = 20\n",
    "citizen = 'Yes'\n",
    "\n",
    "if age >= 18:\n",
    "    if citizen == 'Yes':\n",
    "        print('You are eligible to vote')\n",
    "    else:\n",
    "        print('You must have a citizenship of country to vote.')\n",
    "\n",
    "else:\n",
    "    print('You are too young to vote.')"
   ]
  },
  {
   "cell_type": "markdown",
   "metadata": {},
   "source": [
    "* First, it checks if age is 18 or more.\n",
    "* Then, it checks if citizen == \"yes\".\n",
    "* If both are True, it prints \"You can vote.\"\n",
    "* If citizen != \"yes\", it prints \"You need to be a citizen to vote.\"\n",
    "* If age < 18, it prints \"You are too young to vote.\"\n"
   ]
  },
  {
   "cell_type": "markdown",
   "metadata": {},
   "source": [
    "## **5. Short-Hand If (Ternary Operator)**  \n",
    "\n",
    "The ternary operator is a short way to write if-else in a single line."
   ]
  },
  {
   "cell_type": "markdown",
   "metadata": {},
   "source": [
    "### **Syntax:**  \n",
    "\n",
    "variable = value_if_true if condition else value_if_false\n"
   ]
  },
  {
   "cell_type": "code",
   "execution_count": 5,
   "metadata": {},
   "outputs": [
    {
     "name": "stdout",
     "output_type": "stream",
     "text": [
      "Minor\n"
     ]
    }
   ],
   "source": [
    "age = 17\n",
    "status = \"Adult\" if age >= 18 else \"Minor\"\n",
    "print(status)\n"
   ]
  },
  {
   "cell_type": "code",
   "execution_count": 6,
   "metadata": {},
   "outputs": [
    {
     "name": "stdout",
     "output_type": "stream",
     "text": [
      "islam\n"
     ]
    }
   ],
   "source": [
    "name = 'eman'\n",
    "religion = 'islam' if name==\"eman\" else \"non-islamic\"\n",
    "print(religion)"
   ]
  },
  {
   "cell_type": "markdown",
   "metadata": {},
   "source": [
    "## **Practice Problems**"
   ]
  },
  {
   "cell_type": "markdown",
   "metadata": {},
   "source": [
    "##### **Check Even or Odd: Ask the user to enter a number and print whether it is even or odd.**"
   ]
  },
  {
   "cell_type": "code",
   "execution_count": 8,
   "metadata": {},
   "outputs": [
    {
     "name": "stdout",
     "output_type": "stream",
     "text": [
      "The number is odd\n"
     ]
    }
   ],
   "source": [
    "user_input = int(input(\"Enter a number: \"))\n",
    "\n",
    "if user_input % 2 == 0:\n",
    "    print(\"The number is even\")\n",
    "else:\n",
    "    print(\"The number is odd\")"
   ]
  },
  {
   "cell_type": "markdown",
   "metadata": {},
   "source": [
    "##### **Voting Eligibility: Ask the user for their age and check if they can vote (18+).**"
   ]
  },
  {
   "cell_type": "code",
   "execution_count": 10,
   "metadata": {},
   "outputs": [
    {
     "name": "stdout",
     "output_type": "stream",
     "text": [
      "You are eligible for voting.\n"
     ]
    }
   ],
   "source": [
    "user_age = int(input(\"Enter your age: \"))\n",
    "\n",
    "if user_age >= 18:\n",
    "        print(\"You are eligible for voting.\")\n",
    "else:\n",
    "        print(\"You are not eligible for voting.\")\n",
    "\n"
   ]
  },
  {
   "cell_type": "markdown",
   "metadata": {},
   "source": [
    "##### **Positive, Negative, or Zero: Ask the user for a number and check if it is positive, negative, or zero.**"
   ]
  },
  {
   "cell_type": "code",
   "execution_count": 11,
   "metadata": {},
   "outputs": [
    {
     "name": "stdout",
     "output_type": "stream",
     "text": [
      "Number is positive\n"
     ]
    }
   ],
   "source": [
    "num = int(input(\"Enter a number: \")) #user input\n",
    "\n",
    "if num < 0:\n",
    "    print(\"Number is negative\")\n",
    "elif num == 0:\n",
    "    print(\"Number is zero\")\n",
    "else: \n",
    "    print(\"Number is positive\")\n"
   ]
  },
  {
   "cell_type": "markdown",
   "metadata": {},
   "source": [
    "##### **Pass or Fail: Ask the user for a score and print \"Pass\" if it's 40 or more, otherwise print \"Fail\".**"
   ]
  },
  {
   "cell_type": "code",
   "execution_count": 12,
   "metadata": {},
   "outputs": [
    {
     "name": "stdout",
     "output_type": "stream",
     "text": [
      "You passed the exam\n"
     ]
    }
   ],
   "source": [
    "score = int(input(\"Enter the score: \")) #user input\n",
    "\n",
    "#condition\n",
    "if score >= 40:\n",
    "    print(\"You passed the exam\") #if the score is greater than or equal to 40\n",
    "else:\n",
    "    print(\"You failed the exam\") #if the score is less than 40"
   ]
  },
  {
   "cell_type": "markdown",
   "metadata": {},
   "source": [
    "##### **Discount Calculator: Ask the user for a purchase amount. If it's above $100, apply a 10% discount.**"
   ]
  },
  {
   "cell_type": "code",
   "execution_count": 13,
   "metadata": {},
   "outputs": [
    {
     "name": "stdout",
     "output_type": "stream",
     "text": [
      "You get a 10% discount on 250. Your new amount is $225.0\n"
     ]
    }
   ],
   "source": [
    "purchase_amount = int(input(\"Enter your purchasing amount: $\")) #user input\n",
    "\n",
    "#condition\n",
    "if purchase_amount > 100:\n",
    "    discounted_amount = purchase_amount * 0.10\n",
    "    print(f\"You get a 10% discount on {purchase_amount}. Your new amount is ${purchase_amount - discounted_amount}\")"
   ]
  },
  {
   "cell_type": "markdown",
   "metadata": {},
   "source": [
    "##### **Traffic Light System: Ask the user for a color (red, yellow, green) and print what they should do.**"
   ]
  },
  {
   "cell_type": "code",
   "execution_count": 14,
   "metadata": {},
   "outputs": [
    {
     "name": "stdout",
     "output_type": "stream",
     "text": [
      "Caution\n"
     ]
    }
   ],
   "source": [
    "traffic_signal_color = input(\"Enter a color (red, green, yellow): \")\n",
    "\n",
    "if traffic_signal_color == 'red':\n",
    "    print(\"Stop\")\n",
    "elif traffic_signal_color == 'yellow':\n",
    "    print(\"Caution\")\n",
    "else:\n",
    "    print(\"Go\")"
   ]
  },
  {
   "cell_type": "markdown",
   "metadata": {},
   "source": [
    "##### **Odd or Even and Divisible by 5: Check if a number is even and divisible by 5.**"
   ]
  },
  {
   "cell_type": "code",
   "execution_count": 16,
   "metadata": {},
   "outputs": [
    {
     "name": "stdout",
     "output_type": "stream",
     "text": [
      "The number is even but not divisible by 5.\n"
     ]
    }
   ],
   "source": [
    "number = 8\n",
    "\n",
    "if number % 2 == 0: \n",
    "    if number % 5 == 0:\n",
    "        print(\"The number is even and divisible by 5.\")\n",
    "    else:\n",
    "        print(\"The number is even but not divisible by 5.\")\n",
    "\n",
    "else:\n",
    "    print(\"The number is not even.\")\n"
   ]
  },
  {
   "cell_type": "markdown",
   "metadata": {},
   "source": [
    "##### **Temperature Converter: Ask the user for a temperature in Celsius and categorize it as cold, mild, or hot.**"
   ]
  },
  {
   "cell_type": "code",
   "execution_count": 20,
   "metadata": {},
   "outputs": [
    {
     "name": "stdout",
     "output_type": "stream",
     "text": [
      "It's cold outside!\n"
     ]
    }
   ],
   "source": [
    "temp_in_celsius = float(input(\"Enter the temperature in Celsius: \"))\n",
    "\n",
    "if temp_in_celsius > 25:\n",
    "    print(\"It's hot outside!\")\n",
    "elif temp_in_celsius < 25 and temp_in_celsius >= 15:\n",
    "    print(\"It's mild outside!\")\n",
    "else:\n",
    "    print(\"It's cold outside!\")"
   ]
  },
  {
   "cell_type": "markdown",
   "metadata": {},
   "source": [
    "##### **Login System: Ask the user for a username and password and check if they match a stored value.**"
   ]
  },
  {
   "cell_type": "code",
   "execution_count": 21,
   "metadata": {},
   "outputs": [
    {
     "name": "stdout",
     "output_type": "stream",
     "text": [
      "Welcome, you are logged in!\n"
     ]
    }
   ],
   "source": [
    "\n",
    "  #stored in database (variable)\n",
    "name = 'john18'\n",
    "password = 'john18@2'\n",
    "\n",
    "#ask for user input\n",
    "user_name = input(\"Enter your username: \")\n",
    "user_password = input(\"Enter your password: \")\n",
    "\n",
    "#condition\n",
    "if user_name == name and user_password == password:\n",
    "    print(\"Welcome, you are logged in!\")\n",
    "\n",
    "else:\n",
    "    print(\"Invalid username or password\")"
   ]
  },
  {
   "cell_type": "markdown",
   "metadata": {},
   "source": [
    "##### **Restaurant Tip Calculator: Ask for the bill amount and apply a tip based on the service rating (excellent, good, bad).**"
   ]
  },
  {
   "cell_type": "code",
   "execution_count": 22,
   "metadata": {},
   "outputs": [
    {
     "name": "stdout",
     "output_type": "stream",
     "text": [
      "\n",
      "Bill Amount: $200.00\n",
      "Tip (Good Service): $20.00\n",
      "Total Amount to Pay: $220.00\n"
     ]
    }
   ],
   "source": [
    "bill = float(input(\"Enter the bill amount: $\"))\n",
    "service = input(\"Rate the service (excellent, good, bad): \").strip().lower()\n",
    "\n",
    "tip_rates = {\n",
    "            \"excellent\": 0.15,\n",
    "            \"good\": 0.10,\n",
    "            \"bad\": 0.00\n",
    "        }\n",
    "\n",
    "if service in tip_rates:\n",
    "    tip = bill * tip_rates[service]\n",
    "    total = bill + tip\n",
    "    print(f\"\\nBill Amount: ${bill:.2f}\")\n",
    "    print(f\"Tip ({service.capitalize()} Service): ${tip:.2f}\")\n",
    "    print(f\"Total Amount to Pay: ${total:.2f}\")\n",
    "else:\n",
    "    print(\"Invalid service rating. Please enter 'excellent', 'good', or 'bad'.\")\n"
   ]
  },
  {
   "cell_type": "markdown",
   "metadata": {},
   "source": [
    "##### **Grade Calculator: Ask for the marks and print the grade (A, B, C, D, F).**"
   ]
  },
  {
   "cell_type": "code",
   "execution_count": 25,
   "metadata": {},
   "outputs": [
    {
     "name": "stdout",
     "output_type": "stream",
     "text": [
      "Your Grade is A\n"
     ]
    }
   ],
   "source": [
    "marks = int(input(\"Enter your intermediate marks out of 1200: \"))\n",
    "\n",
    "if marks >= 1000:\n",
    "    print(\"Your Grade is A\")\n",
    "elif marks < 1000 and marks > 850:\n",
    "    print(\"Your Grade is B\")\n",
    "elif marks < 850 and marks > 600:\n",
    "    print(\"Your Grade is C\")\n",
    "elif marks < 600 and marks > 450:\n",
    "    print(\"Your Grade is D\")\n",
    "else:\n",
    "    print(\"Your Grade is F\")"
   ]
  },
  {
   "cell_type": "markdown",
   "metadata": {},
   "source": [
    "##### **Age Category: Classify a person into child, teenager, adult, or senior based on age.**"
   ]
  },
  {
   "cell_type": "code",
   "execution_count": 29,
   "metadata": {},
   "outputs": [
    {
     "name": "stdout",
     "output_type": "stream",
     "text": [
      "You are an adult\n"
     ]
    }
   ],
   "source": [
    "user_age = int(input('Enter your age: '))\n",
    "\n",
    "if 18 <= user_age <= 35:\n",
    "    print('You are an adult')\n",
    "elif 13 <= user_age < 18:\n",
    "    print('You are a teenager')\n",
    "elif 5 <= user_age < 13:\n",
    "    print('You are a child')\n",
    "elif user_age < 5:\n",
    "    print('You are a toddler')\n",
    "else:\n",
    "    print('You are a senior')\n"
   ]
  },
  {
   "cell_type": "markdown",
   "metadata": {},
   "source": [
    "##### **Number Comparison: Ask for three numbers and find the largest.**"
   ]
  },
  {
   "cell_type": "code",
   "execution_count": 32,
   "metadata": {},
   "outputs": [
    {
     "name": "stdout",
     "output_type": "stream",
     "text": [
      "You entered: [5, 10, 100]\n",
      "The largest number is 100\n"
     ]
    }
   ],
   "source": [
    "numbers = [int(input(f\"Enter {i + 1} number: \")) for i in range(3)]\n",
    "print(\"You entered:\", numbers)\n",
    "\n",
    "print(f\"The largest number is {max(numbers)}\")"
   ]
  },
  {
   "cell_type": "markdown",
   "metadata": {},
   "source": [
    "##### **Fitness Tracker Steps Goal** \n",
    "\n",
    "* Ask the user how many steps they walked today.\n",
    "* If they walked 10,000 or more steps, print \"Great job! You met your daily goal!\".\n",
    "* If they walked between 5,000 and 9,999 steps, print \"Good effort! Try to reach 10,000 steps tomorrow.\".\n",
    "* If they walked less than 5,000 steps, print \"You need to walk more for a healthy lifestyle!\"."
   ]
  },
  {
   "cell_type": "code",
   "execution_count": 34,
   "metadata": {},
   "outputs": [
    {
     "name": "stdout",
     "output_type": "stream",
     "text": [
      "You need to walk more for a healthy lifestyle.\n"
     ]
    }
   ],
   "source": [
    "walk_steps = int(input(\"How many steps you walked today? Your Ans:  \"))\n",
    "\n",
    "if walk_steps >= 10000:\n",
    "    print(\"Great job! You met your daily goal!\")\n",
    "elif 5000 <= walk_steps <= 9999:\n",
    "    print(\"Good effort! Try to reach 10,000 steps tomorrow.\")\n",
    "elif walk_steps < 5000:\n",
    "    print(\"You need to walk more for a healthy lifestyle.\")"
   ]
  },
  {
   "cell_type": "markdown",
   "metadata": {},
   "source": [
    "##### **Library Late Fee System** \n",
    "\n",
    "* Ask the user how many days they are late in returning a library book.\n",
    "* If 1-3 days late, charge $1 per day.\n",
    "* If 4-7 days late, charge $2 per day.\n",
    "* If more than 7 days late, charge a flat fine of $20 and print \"Your membership is at risk!\".\n",
    "* Print the total fine amount."
   ]
  },
  {
   "cell_type": "code",
   "execution_count": 35,
   "metadata": {},
   "outputs": [
    {
     "name": "stdout",
     "output_type": "stream",
     "text": [
      "Total fine: $8\n"
     ]
    }
   ],
   "source": [
    "days_late = int(input(\"Enter the number of days late: \"))\n",
    "\n",
    "if 1 <= days_late <= 3:\n",
    "    fine = days_late * 1  # $1 per day\n",
    "elif 4 <= days_late <= 7:\n",
    "    fine = days_late * 2  # $2 per day\n",
    "elif days_late > 7:\n",
    "    fine = 20  # Flat fine\n",
    "    print(\"Your membership is at risk!\")\n",
    "else:\n",
    "    fine = 0  # No fine for on-time returns\n",
    "\n",
    "print(f\"Total fine: ${fine}\")\n"
   ]
  }
 ],
 "metadata": {
  "kernelspec": {
   "display_name": "learn_python",
   "language": "python",
   "name": "python3"
  },
  "language_info": {
   "codemirror_mode": {
    "name": "ipython",
    "version": 3
   },
   "file_extension": ".py",
   "mimetype": "text/x-python",
   "name": "python",
   "nbconvert_exporter": "python",
   "pygments_lexer": "ipython3",
   "version": "3.10.8"
  }
 },
 "nbformat": 4,
 "nbformat_minor": 2
}
