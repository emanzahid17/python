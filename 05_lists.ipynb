{
 "cells": [
  {
   "cell_type": "markdown",
   "metadata": {},
   "source": [
    "# **Lists in Python**  \n",
    "\n",
    "**Author of this Notebook: Eman Zahid**  \n",
    "**Contact: [LinkedIn](https://www.linkedin.com/in/eman-zahid-b384a6300/)**"
   ]
  },
  {
   "cell_type": "markdown",
   "metadata": {},
   "source": [
    "A list in Python is like a container where you can store multiple values in a single variable. Imagine you have a shopping bag where you keep different items like milk, eggs, and bread. Similarly, a list holds multiple values inside square brackets [ ]. Here are its key characteristics:  \n",
    "\n",
    "1. Ordered Collection\n",
    "* Lists maintain the order of elements as they are inserted.\n",
    "* If you insert elements in a certain order, they will remain in the same order.  \n",
    "\n",
    "2. Mutable (Can be Changed)\n",
    "* Lists allow modification of elements after creation.\n",
    "* You can add, remove, or change elements.  \n",
    "\n",
    "3. Can Store Multiple Data Types\n",
    "* A list can store different types of data together, such as integers, strings, booleans, and even other lists.  \n",
    "\n",
    "4. Allows Duplicates\n",
    "* A list can contain duplicate values.  \n",
    "\n",
    "5. Supports Indexing and Slicing\n",
    "* Lists support indexing (accessing elements by position).\n",
    "* The first index is 0, and the last index is -1 (negative indexing).  \n",
    "\n",
    "6. Dynamic in Size\n",
    "* Lists do not have a fixed size. You can add or remove elements anytime.  \n",
    "\n",
    "7. Supports List Comprehension\n",
    "* You can create lists in a compact way using list comprehensions.  \n",
    "\n",
    "8. Can Contain Nested Lists\n",
    "* Lists can hold other lists inside them.  \n",
    "\n",
    "9. Various Built-in Methods\n",
    "* Python provides many built-in methods to work with lists.  \n",
    "\n",
    "10. Can be Iterated Using Loops\n",
    "* You can loop through lists using for loops.  \n",
    "\n",
    "11. Memory Efficient (Stores References)\n",
    "* Lists do not store values directly but store references to the actual data.\n",
    "* This makes them more memory efficient.  \n",
    "\n",
    "12. Lists vs. Tuples\n",
    "* Lists are mutable (changeable), while tuples are immutable (cannot be changed).\n",
    "* Lists are defined using [ ], while tuples use ( ).\n",
    "\n"
   ]
  },
  {
   "cell_type": "markdown",
   "metadata": {},
   "source": [
    "## **Creating a List**\n",
    "You can create a list by placing values inside [ ] separated by commas."
   ]
  },
  {
   "cell_type": "code",
   "execution_count": 1,
   "metadata": {},
   "outputs": [],
   "source": [
    "# A list of fruits\n",
    "fruits = [\"apple\", \"banana\", \"cherry\"]\n",
    "\n",
    "# A list of numbers\n",
    "numbers = [10, 20, 30, 40, 50]\n",
    "\n",
    "# A mixed list (different types of data)\n",
    "mixed_list = [\"hello\", 100, True]\n"
   ]
  },
  {
   "cell_type": "markdown",
   "metadata": {},
   "source": [
    "## **Accessing Items from a List**  \n",
    "We can get a specific item using index numbers. Indexing starts from 0 (not 1)"
   ]
  },
  {
   "cell_type": "code",
   "execution_count": 2,
   "metadata": {},
   "outputs": [
    {
     "name": "stdout",
     "output_type": "stream",
     "text": [
      "apple\n",
      "banana\n",
      "cherry\n"
     ]
    }
   ],
   "source": [
    "fruits = [\"apple\", \"banana\", \"cherry\"]\n",
    "\n",
    "print(fruits[0])  # Output: apple\n",
    "print(fruits[1])  # Output: banana\n",
    "print(fruits[2])  # Output: cherry\n"
   ]
  },
  {
   "cell_type": "markdown",
   "metadata": {},
   "source": [
    "## **Changing Items in a List**  \n",
    "Lists are mutable, which means we can change their values."
   ]
  },
  {
   "cell_type": "code",
   "execution_count": 3,
   "metadata": {},
   "outputs": [
    {
     "name": "stdout",
     "output_type": "stream",
     "text": [
      "['apple', 'orange', 'cherry']\n"
     ]
    }
   ],
   "source": [
    "fruits = [\"apple\", \"banana\", \"cherry\"]\n",
    "\n",
    "fruits[1] = \"orange\"  # Changing \"banana\" to \"orange\"\n",
    "\n",
    "print(fruits)  # Output: ['apple', 'orange', 'cherry']\n"
   ]
  },
  {
   "cell_type": "markdown",
   "metadata": {},
   "source": [
    "## **Check various methods in list**"
   ]
  },
  {
   "cell_type": "code",
   "execution_count": 7,
   "metadata": {},
   "outputs": [
    {
     "data": {
      "text/plain": [
       "['__add__',\n",
       " '__class__',\n",
       " '__class_getitem__',\n",
       " '__contains__',\n",
       " '__delattr__',\n",
       " '__delitem__',\n",
       " '__dir__',\n",
       " '__doc__',\n",
       " '__eq__',\n",
       " '__format__',\n",
       " '__ge__',\n",
       " '__getattribute__',\n",
       " '__getitem__',\n",
       " '__gt__',\n",
       " '__hash__',\n",
       " '__iadd__',\n",
       " '__imul__',\n",
       " '__init__',\n",
       " '__init_subclass__',\n",
       " '__iter__',\n",
       " '__le__',\n",
       " '__len__',\n",
       " '__lt__',\n",
       " '__mul__',\n",
       " '__ne__',\n",
       " '__new__',\n",
       " '__reduce__',\n",
       " '__reduce_ex__',\n",
       " '__repr__',\n",
       " '__reversed__',\n",
       " '__rmul__',\n",
       " '__setattr__',\n",
       " '__setitem__',\n",
       " '__sizeof__',\n",
       " '__str__',\n",
       " '__subclasshook__',\n",
       " 'append',\n",
       " 'clear',\n",
       " 'copy',\n",
       " 'count',\n",
       " 'extend',\n",
       " 'index',\n",
       " 'insert',\n",
       " 'pop',\n",
       " 'remove',\n",
       " 'reverse',\n",
       " 'sort']"
      ]
     },
     "execution_count": 7,
     "metadata": {},
     "output_type": "execute_result"
    }
   ],
   "source": [
    "dir (list)"
   ]
  },
  {
   "cell_type": "markdown",
   "metadata": {},
   "source": [
    "## **Adding Items to a List**  \n",
    "\n",
    "* Append → Add an item at the end\n",
    "* Insert → Add an item at a specific position\n"
   ]
  },
  {
   "cell_type": "code",
   "execution_count": 6,
   "metadata": {},
   "outputs": [
    {
     "name": "stdout",
     "output_type": "stream",
     "text": [
      "['apple', 'banana', 'cherry']\n",
      "['apple', 'mango', 'banana', 'cherry']\n"
     ]
    }
   ],
   "source": [
    "fruits = [\"apple\", \"banana\"]\n",
    "\n",
    "fruits.append(\"cherry\")  # Adds \"cherry\" at the end\n",
    "print(fruits)  # Output: ['apple', 'banana', 'cherry']\n",
    "\n",
    "fruits.insert(1, \"mango\")  # Adds \"mango\" at index 1\n",
    "print(fruits)  # Output: ['apple', 'mango', 'banana', 'cherry']\n"
   ]
  },
  {
   "cell_type": "markdown",
   "metadata": {},
   "source": [
    "## **Removing Items from a List**  \n",
    "\n",
    "* Remove by value\n",
    "* Remove by index"
   ]
  },
  {
   "cell_type": "code",
   "execution_count": 8,
   "metadata": {},
   "outputs": [
    {
     "name": "stdout",
     "output_type": "stream",
     "text": [
      "['apple', 'cherry']\n",
      "['cherry']\n"
     ]
    }
   ],
   "source": [
    "fruits = [\"apple\", \"banana\", \"cherry\"]\n",
    "\n",
    "fruits.remove(\"banana\")  # Removes \"banana\" by value\n",
    "print(fruits)  # Output: ['apple', 'cherry']\n",
    "\n",
    "fruits.pop(0)  # Removes item at index 0\n",
    "print(fruits)  # Output: ['cherry']\n"
   ]
  },
  {
   "cell_type": "markdown",
   "metadata": {},
   "source": [
    "## **Looping Through a List**  \n",
    "\n",
    "To print each item in a list, we use a loop."
   ]
  },
  {
   "cell_type": "code",
   "execution_count": 11,
   "metadata": {},
   "outputs": [
    {
     "name": "stdout",
     "output_type": "stream",
     "text": [
      "apple\n",
      "banana\n",
      "mango\n",
      "grapes\n"
     ]
    }
   ],
   "source": [
    "fruits = ['apple','banana','mango','grapes']\n",
    "\n",
    "for fruit in fruits:\n",
    "    print(fruit)"
   ]
  },
  {
   "cell_type": "markdown",
   "metadata": {},
   "source": [
    "## **Practice Problems for Lists**"
   ]
  },
  {
   "cell_type": "markdown",
   "metadata": {},
   "source": [
    "#### **Store the names of your 5 favorite foods in a list and print them one by one.**"
   ]
  },
  {
   "cell_type": "code",
   "execution_count": 12,
   "metadata": {},
   "outputs": [
    {
     "name": "stdout",
     "output_type": "stream",
     "text": [
      "My favorite foods are:\n",
      "biryani\n",
      "golgappy\n",
      "juice\n",
      "sandwich\n",
      "pizza\n"
     ]
    }
   ],
   "source": [
    "fav_foods = ['biryani','golgappy','juice','sandwich','pizza']\n",
    "print(\"My favorite foods are:\")\n",
    "\n",
    "for food in fav_foods:\n",
    "    print(food)"
   ]
  },
  {
   "cell_type": "markdown",
   "metadata": {},
   "source": [
    "#### **Create a list of numbers from 1 to 10 and print only the even numbers.**"
   ]
  },
  {
   "cell_type": "code",
   "execution_count": 13,
   "metadata": {},
   "outputs": [
    {
     "name": "stdout",
     "output_type": "stream",
     "text": [
      "The even numbers in the list are: \n",
      "2\n",
      "4\n",
      "6\n",
      "8\n",
      "10\n"
     ]
    }
   ],
   "source": [
    "list_num = [1,2,3,4,5,6,7,8,9,10]\n",
    "\n",
    "print(\"The even numbers in the list are: \")\n",
    "\n",
    "for num in list_num:\n",
    "    if num % 2 == 0:\n",
    "        print(num)\n",
    "    else:\n",
    "        continue"
   ]
  },
  {
   "cell_type": "markdown",
   "metadata": {},
   "source": [
    "#### **Take a list of your friends’ names and replace one name with a new name.**"
   ]
  },
  {
   "cell_type": "code",
   "execution_count": 14,
   "metadata": {},
   "outputs": [
    {
     "name": "stdout",
     "output_type": "stream",
     "text": [
      "['maryam', 'saida', 'fatima', 'mahnoor']\n"
     ]
    }
   ],
   "source": [
    "friends = ['maryam','fatima','fatima','mahnoor']\n",
    "\n",
    "#replace the duplicate name with a new name\n",
    "friends[1] = 'saida'\n",
    "\n",
    "print(friends)"
   ]
  },
  {
   "cell_type": "markdown",
   "metadata": {},
   "source": [
    "#### **Write a program that asks a user for 3 things to buy and stores them in a list. Print the list.**"
   ]
  },
  {
   "cell_type": "code",
   "execution_count": 2,
   "metadata": {},
   "outputs": [
    {
     "name": "stdout",
     "output_type": "stream",
     "text": [
      "\n",
      "Your shopping list: ['bread', 'milk', 'juice']\n"
     ]
    }
   ],
   "source": [
    "# Asking the user for three items\n",
    "item1 = input(\"Enter the first item to buy: \")\n",
    "item2 = input(\"Enter the second item to buy: \")\n",
    "item3 = input(\"Enter the third item to buy: \")\n",
    "\n",
    "# Storing items in a list\n",
    "shopping_list = [item1, item2, item3]\n",
    "\n",
    "# Printing the list\n",
    "print(\"\\nYour shopping list:\", shopping_list)\n"
   ]
  },
  {
   "cell_type": "markdown",
   "metadata": {},
   "source": [
    "#### **Create a list with 5 random numbers and find their sum.**"
   ]
  },
  {
   "cell_type": "code",
   "execution_count": 8,
   "metadata": {},
   "outputs": [
    {
     "name": "stdout",
     "output_type": "stream",
     "text": [
      "Random numbers: [25, 70, 97, 19, 2]\n",
      "Sum of numbers: 213\n"
     ]
    }
   ],
   "source": [
    "import random  # Importing the random module\n",
    "\n",
    "# Creating a list with 5 random numbers between 1 and 100\n",
    "random_numbers = [random.randint(1, 100) for _ in range(5)]\n",
    "\n",
    "# Calculating the sum of the numbers in the list\n",
    "total_sum = sum(random_numbers)\n",
    "\n",
    "# Printing the list and the sum\n",
    "print(\"Random numbers:\", random_numbers)\n",
    "print(\"Sum of numbers:\", total_sum)\n"
   ]
  },
  {
   "cell_type": "markdown",
   "metadata": {},
   "source": [
    "#### **Take a list of 5 numbers and find the largest number.**"
   ]
  },
  {
   "cell_type": "markdown",
   "metadata": {},
   "source": [
    "##### **Method 1: Using max() Function (Easiest Way)**\n",
    "Python provides a built-in max() function that directly returns the largest number in a list."
   ]
  },
  {
   "cell_type": "code",
   "execution_count": 11,
   "metadata": {},
   "outputs": [
    {
     "name": "stdout",
     "output_type": "stream",
     "text": [
      "The largest number is: 90\n"
     ]
    }
   ],
   "source": [
    "numbers = [10, 25, 8, 90, 45]\n",
    "\n",
    "# Finding the largest number using max()\n",
    "largest = max(numbers)\n",
    "\n",
    "print(\"The largest number is:\", largest)\n"
   ]
  },
  {
   "cell_type": "markdown",
   "metadata": {},
   "source": [
    "##### **Method 2: Using a Loop (Manual Method)**\n",
    "\n",
    "We can manually find the largest number by comparing each number in the list."
   ]
  },
  {
   "cell_type": "code",
   "execution_count": null,
   "metadata": {},
   "outputs": [
    {
     "name": "stdout",
     "output_type": "stream",
     "text": [
      "The largest number is: 90\n"
     ]
    }
   ],
   "source": [
    "numbers = [10, 25, 8, 90, 45]\n",
    "\n",
    "# Assume the first number is the largest\n",
    "largest = numbers[0]\n",
    "\n",
    "# Loop through the list and update largest if a bigger number is found\n",
    "for num in numbers:\n",
    "    if num > largest:\n",
    "        largest = num\n",
    "\n",
    "print(\"The largest number is:\", largest)"
   ]
  },
  {
   "cell_type": "markdown",
   "metadata": {},
   "source": [
    "#### **Write a program to check if \"mango\" is in a list of fruits.**"
   ]
  },
  {
   "cell_type": "code",
   "execution_count": 13,
   "metadata": {},
   "outputs": [
    {
     "data": {
      "text/plain": [
       "True"
      ]
     },
     "execution_count": 13,
     "metadata": {},
     "output_type": "execute_result"
    }
   ],
   "source": [
    "fruits = ['mango','banana','apple','grapes','cherry']\n",
    "\n",
    "\"mango\" in fruits"
   ]
  },
  {
   "cell_type": "markdown",
   "metadata": {},
   "source": [
    "#### **Take a list of numbers and remove any duplicate numbers from it.**"
   ]
  },
  {
   "cell_type": "markdown",
   "metadata": {},
   "source": [
    "##### **Method 1: Using set() (Easiest Way)**\n",
    "\n",
    "A set in Python automatically removes duplicates because sets do not allow duplicate values."
   ]
  },
  {
   "cell_type": "code",
   "execution_count": null,
   "metadata": {},
   "outputs": [
    {
     "name": "stdout",
     "output_type": "stream",
     "text": [
      "{1, 2, 3, 4, 5, 6, 7, 8, 9}\n"
     ]
    }
   ],
   "source": [
    "numbers = [1,2,2,3,4,5,6,7,6,7,8,9]\n",
    "\n",
    "unique_list = set(numbers) #using set function to remove duplicates\n",
    "\n",
    "print(unique_list)"
   ]
  },
  {
   "cell_type": "markdown",
   "metadata": {},
   "source": [
    "##### **Method 2: Using a Loop (Preserves Order)**\n",
    "If we want to keep the original order, we can use a loop and a new list."
   ]
  },
  {
   "cell_type": "code",
   "execution_count": 20,
   "metadata": {},
   "outputs": [
    {
     "name": "stdout",
     "output_type": "stream",
     "text": [
      "List without duplicates: [10, 25, 8, 45, 90]\n"
     ]
    }
   ],
   "source": [
    "numbers = [10, 25, 8, 25, 45, 10, 90, 8]\n",
    "\n",
    "# Create an empty list to store unique numbers\n",
    "unique_numbers = []\n",
    "\n",
    "# Loop through the original list\n",
    "for num in numbers:\n",
    "    if num not in unique_numbers:\n",
    "        unique_numbers.append(num)  # Add only if it's not already in the list\n",
    "\n",
    "print(\"List without duplicates:\", unique_numbers)\n"
   ]
  },
  {
   "cell_type": "markdown",
   "metadata": {},
   "source": [
    "#### **Write a program to count how many times \"apple\" appears in a list.**"
   ]
  },
  {
   "cell_type": "code",
   "execution_count": null,
   "metadata": {},
   "outputs": [
    {
     "data": {
      "text/plain": [
       "3"
      ]
     },
     "execution_count": 23,
     "metadata": {},
     "output_type": "execute_result"
    }
   ],
   "source": [
    "fruits = ['apple','banana','cherry','mango','apple','grapes','apple']\n",
    "\n",
    "fruits.count('apple') #using coutn function"
   ]
  },
  {
   "cell_type": "markdown",
   "metadata": {},
   "source": [
    "#### **Reverse the order of a list without using the .reverse() function.**"
   ]
  },
  {
   "cell_type": "code",
   "execution_count": null,
   "metadata": {},
   "outputs": [
    {
     "name": "stdout",
     "output_type": "stream",
     "text": [
      "['apple', 'grapes', 'apple', 'mango', 'cherry', 'banana', 'apple']\n"
     ]
    }
   ],
   "source": [
    "fruits = ['apple','banana','cherry','mango','apple','grapes','apple']\n",
    "\n",
    "reversed_fruits = fruits[::-1] #through slicing\n",
    " \n",
    "print(reversed_fruits)"
   ]
  },
  {
   "cell_type": "markdown",
   "metadata": {},
   "source": [
    "#### **Sort a list of numbers in ascending order.**"
   ]
  },
  {
   "cell_type": "code",
   "execution_count": null,
   "metadata": {},
   "outputs": [
    {
     "name": "stdout",
     "output_type": "stream",
     "text": [
      "[1, 1, 2, 3, 4, 5, 7, 9, 9, 34, 45, 56]\n"
     ]
    }
   ],
   "source": [
    "numbers  = [1,45,2,3,5,7,9,4,1,56,34,9]\n",
    "\n",
    "sorted_numbers = sorted(numbers)\n",
    "print(sorted_numbers)  "
   ]
  },
  {
   "cell_type": "markdown",
   "metadata": {},
   "source": [
    "#### **Write a program to merge two lists and remove duplicate items.**"
   ]
  },
  {
   "cell_type": "code",
   "execution_count": 31,
   "metadata": {},
   "outputs": [
    {
     "name": "stdout",
     "output_type": "stream",
     "text": [
      "Merged List: [1, 2, 3, 4, 5, 4, 5, 6, 7, 8]\n",
      "Merged List without Duplicates: [1, 2, 3, 4, 5, 6, 7, 8]\n"
     ]
    }
   ],
   "source": [
    "# Define two lists\n",
    "list1 = [1, 2, 3, 4, 5]\n",
    "list2 = [4, 5, 6, 7, 8]\n",
    "\n",
    "# Merge the two lists\n",
    "merged_list = list1 + list2\n",
    "\n",
    "# Remove duplicate items using set\n",
    "merged_list_without_duplicates = list(set(merged_list))\n",
    "\n",
    "# Print the result\n",
    "print(\"Merged List:\", merged_list)\n",
    "print(\"Merged List without Duplicates:\", merged_list_without_duplicates)"
   ]
  },
  {
   "cell_type": "markdown",
   "metadata": {},
   "source": [
    "#### **Find the average of all numbers in a list.**"
   ]
  },
  {
   "cell_type": "code",
   "execution_count": 32,
   "metadata": {},
   "outputs": [
    {
     "name": "stdout",
     "output_type": "stream",
     "text": [
      "Average: 3.0\n"
     ]
    }
   ],
   "source": [
    "numbers = [1, 2, 3, 4, 5]\n",
    "average = sum(numbers) / len(numbers)\n",
    "print(\"Average:\", average)\n",
    "\n"
   ]
  },
  {
   "cell_type": "markdown",
   "metadata": {},
   "source": [
    "#### **Take a list of people's ages and count how many are above 18.**"
   ]
  },
  {
   "cell_type": "code",
   "execution_count": 38,
   "metadata": {},
   "outputs": [
    {
     "name": "stdout",
     "output_type": "stream",
     "text": [
      "The number of people above 18 is 2\n"
     ]
    }
   ],
   "source": [
    "people_ages  = [18,53,12,34,12,14]\n",
    "count = 0\n",
    "\n",
    "for age in people_ages:\n",
    "    if age > 18:\n",
    "        count += 1\n",
    "\n",
    "print(f\"The number of people above 18 is {count}\")\n",
    "\n",
    "    \n",
    "    \n"
   ]
  },
  {
   "cell_type": "markdown",
   "metadata": {},
   "source": [
    "#### **Find the second largest number in a list.**"
   ]
  },
  {
   "cell_type": "code",
   "execution_count": 40,
   "metadata": {},
   "outputs": [
    {
     "name": "stdout",
     "output_type": "stream",
     "text": [
      "The second greatest number is 56.\n"
     ]
    }
   ],
   "source": [
    "numbers = [12, 45, 7, 23, 56, 89, 34]\n",
    "numbers.sort()\n",
    "\n",
    "second_greatest_num = numbers[-2]\n",
    "print(f\"The second greatest number is {second_greatest_num}.\")  "
   ]
  },
  {
   "cell_type": "markdown",
   "metadata": {},
   "source": [
    "#### **Write a program that asks the user to enter 5 numbers and store them in a list. Then remove the smallest number.**"
   ]
  },
  {
   "cell_type": "code",
   "execution_count": 42,
   "metadata": {},
   "outputs": [
    {
     "name": "stdout",
     "output_type": "stream",
     "text": [
      "[2, 3, 6, 9]\n"
     ]
    }
   ],
   "source": [
    "num1 = int(input(\"enter first number: \"))\n",
    "num2 = int(input(\"enter second number: \"))\n",
    "num3 = int(input(\"enter third number: \"))\n",
    "num4 = int(input(\"enter fourth number: \"))\n",
    "num5 = int(input(\"enter fifth number: \"))\n",
    "\n",
    "new_list = [num1, num2, num3, num4, num5]\n",
    "new_list.sort()\n",
    "new_list.pop(0)\n",
    "\n",
    "print(new_list)\n"
   ]
  }
 ],
 "metadata": {
  "kernelspec": {
   "display_name": "learn_python",
   "language": "python",
   "name": "python3"
  },
  "language_info": {
   "codemirror_mode": {
    "name": "ipython",
    "version": 3
   },
   "file_extension": ".py",
   "mimetype": "text/x-python",
   "name": "python",
   "nbconvert_exporter": "python",
   "pygments_lexer": "ipython3",
   "version": "3.10.8"
  }
 },
 "nbformat": 4,
 "nbformat_minor": 2
}
