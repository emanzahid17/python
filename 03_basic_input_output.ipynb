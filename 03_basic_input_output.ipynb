{
 "cells": [
  {
   "cell_type": "markdown",
   "metadata": {},
   "source": [
    "# **Basic Input and Output in Python**  \n",
    "\n",
    "\n",
    "**Author of this Notebook: Eman Zahid**  \n",
    "**Contact: [LinkedIn](https://www.linkedin.com/in/eman-zahid-b384a6300/)**\n",
    "\n",
    "## **What is Input and Output?**\n",
    "\n",
    "*Input:* When a program takes data from a user (e.g., typing your name).  \n",
    "*Output:* When a program displays information on the screen (e.g., printing a greeting message).  \n",
    "Python provides simple ways to handle input and output using:\n",
    "\n",
    "*print() → For displaying output.*  \n",
    "*input() → For taking user input.*  \n",
    "*Formatting Output → For displaying data in a structured way using*\n",
    " * f-strings\n",
    " * format() method\n",
    " * % formatting"
   ]
  },
  {
   "cell_type": "markdown",
   "metadata": {},
   "source": [
    "## **1️⃣ Printing Output (print())**  \n",
    "\n",
    "The print() function is used to show messages or results on the screen."
   ]
  },
  {
   "cell_type": "code",
   "execution_count": 1,
   "metadata": {},
   "outputs": [
    {
     "name": "stdout",
     "output_type": "stream",
     "text": [
      "Hello! My Name is Eman Zahid.\n"
     ]
    }
   ],
   "source": [
    "print(\"Hello! My Name is Eman Zahid.\")"
   ]
  },
  {
   "cell_type": "code",
   "execution_count": 2,
   "metadata": {},
   "outputs": [
    {
     "name": "stdout",
     "output_type": "stream",
     "text": [
      "I am learning Python from Awfera. Our instructor's teaching style is very good.\n"
     ]
    }
   ],
   "source": [
    "print(\"I am learning Python from Awfera. Our instructor's teaching style is very good.\")"
   ]
  },
  {
   "cell_type": "markdown",
   "metadata": {},
   "source": [
    "## **2️⃣ Taking User Input (input())**  \n",
    "\n",
    "The input() function allows users to enter data. It always returns input as a string."
   ]
  },
  {
   "cell_type": "code",
   "execution_count": 4,
   "metadata": {},
   "outputs": [
    {
     "name": "stdout",
     "output_type": "stream",
     "text": [
      "eman zahid\n"
     ]
    }
   ],
   "source": [
    "first_name = input(\"Enter first name: \")\n",
    "last_name = input(\"Enter last name: \")\n",
    "\n",
    "print(first_name + \" \" + last_name)\n"
   ]
  },
  {
   "cell_type": "code",
   "execution_count": 5,
   "metadata": {},
   "outputs": [
    {
     "name": "stdout",
     "output_type": "stream",
     "text": [
      "The addition of 5 and 5 is 10\n"
     ]
    }
   ],
   "source": [
    "#if you want digit (int/float) in input, then write:\n",
    "num_1 = int(input(\"Enter first number: \"))\n",
    "num_2 = int(input(\"Enter second number: \"))\n",
    "\n",
    "total_sum = num_1 + num_2\n",
    "\n",
    "print (\"The addition of\", num_1, \"and\", num_2, \"is\", total_sum)"
   ]
  },
  {
   "cell_type": "markdown",
   "metadata": {},
   "source": [
    "## **3️⃣ Formatting Output**  \n",
    "\n",
    "Sometimes, we want to format text nicely when displaying it.\n",
    "\n",
    "### **Method 1: f-strings (Best & Recommended)**"
   ]
  },
  {
   "cell_type": "code",
   "execution_count": 6,
   "metadata": {},
   "outputs": [
    {
     "name": "stdout",
     "output_type": "stream",
     "text": [
      "My name is eman and I am 20 years old.\n"
     ]
    }
   ],
   "source": [
    "name = \"eman\"\n",
    "age = 20\n",
    "\n",
    "print(f\"My name is {name} and I am {age} years old.\")"
   ]
  },
  {
   "cell_type": "markdown",
   "metadata": {},
   "source": [
    "### **Method 2: format() Method**"
   ]
  },
  {
   "cell_type": "code",
   "execution_count": 7,
   "metadata": {},
   "outputs": [
    {
     "name": "stdout",
     "output_type": "stream",
     "text": [
      "My name is eman and I am 20 years old.\n"
     ]
    }
   ],
   "source": [
    "print(\"My name is {} and I am {} years old.\".format(name, age))"
   ]
  },
  {
   "cell_type": "markdown",
   "metadata": {},
   "source": [
    "### **Method 3: % Formatting (Old Method)**"
   ]
  },
  {
   "cell_type": "code",
   "execution_count": null,
   "metadata": {},
   "outputs": [
    {
     "name": "stdout",
     "output_type": "stream",
     "text": [
      "My name is eman and I am 20 years old.\n"
     ]
    }
   ],
   "source": [
    "print(\"My name is %s and I am %d years old.\" % (name, age)) #%s is for string and %d is for decimal/int"
   ]
  }
 ],
 "metadata": {
  "kernelspec": {
   "display_name": "learn_python",
   "language": "python",
   "name": "python3"
  },
  "language_info": {
   "codemirror_mode": {
    "name": "ipython",
    "version": 3
   },
   "file_extension": ".py",
   "mimetype": "text/x-python",
   "name": "python",
   "nbconvert_exporter": "python",
   "pygments_lexer": "ipython3",
   "version": "3.10.8"
  }
 },
 "nbformat": 4,
 "nbformat_minor": 2
}
