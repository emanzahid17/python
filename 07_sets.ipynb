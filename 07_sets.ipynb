{
 "cells": [
  {
   "cell_type": "markdown",
   "metadata": {},
   "source": [
    "# **Sets in Python**  \n",
    "\n",
    "**Author of this Notebook: Eman Zahid**  \n",
    "**Contact: [LinkedIn](https://www.linkedin.com/in/eman-zahid-b384a6300/)**"
   ]
  },
  {
   "cell_type": "markdown",
   "metadata": {},
   "source": [
    "A set is a collection of unique, unordered items. It is useful when you need to store distinct values and perform mathematical operations like union, intersection, and difference.  \n",
    "\n",
    "## **Characteristics of Sets**  \n",
    "\n",
    "* Unordered → The elements do not have a fixed order.\n",
    "* Unique Elements → A set cannot have duplicate values.\n",
    "* Mutable (Changeable) → You can add or remove elements.\n",
    "* Unindexed → You cannot access elements using an index like lists or tuples.\n",
    "* Supports Set Operations → You can perform union, intersection, and difference.\n"
   ]
  },
  {
   "cell_type": "markdown",
   "metadata": {},
   "source": [
    "## **Creating a Set**  \n",
    "\n",
    "You can create a set using curly brackets {} or the set() function.\n"
   ]
  },
  {
   "cell_type": "code",
   "execution_count": null,
   "metadata": {},
   "outputs": [
    {
     "name": "stdout",
     "output_type": "stream",
     "text": [
      "{'cherry', 'apple', 'banana'}\n",
      "<class 'set'>\n"
     ]
    }
   ],
   "source": [
    "# Creating a set\n",
    "fruits = {\"apple\", \"banana\", \"cherry\"}\n",
    "print(fruits)\n",
    "\n",
    "# Creating an empty set (must use set(), not {}) because {} creates dictionary\n",
    "empty_set = set()\n",
    "print(type(empty_set))"
   ]
  },
  {
   "cell_type": "markdown",
   "metadata": {},
   "source": [
    "## **Methods in Set**"
   ]
  },
  {
   "cell_type": "code",
   "execution_count": 25,
   "metadata": {},
   "outputs": [
    {
     "data": {
      "text/plain": [
       "['__and__',\n",
       " '__class__',\n",
       " '__class_getitem__',\n",
       " '__contains__',\n",
       " '__delattr__',\n",
       " '__dir__',\n",
       " '__doc__',\n",
       " '__eq__',\n",
       " '__format__',\n",
       " '__ge__',\n",
       " '__getattribute__',\n",
       " '__gt__',\n",
       " '__hash__',\n",
       " '__iand__',\n",
       " '__init__',\n",
       " '__init_subclass__',\n",
       " '__ior__',\n",
       " '__isub__',\n",
       " '__iter__',\n",
       " '__ixor__',\n",
       " '__le__',\n",
       " '__len__',\n",
       " '__lt__',\n",
       " '__ne__',\n",
       " '__new__',\n",
       " '__or__',\n",
       " '__rand__',\n",
       " '__reduce__',\n",
       " '__reduce_ex__',\n",
       " '__repr__',\n",
       " '__ror__',\n",
       " '__rsub__',\n",
       " '__rxor__',\n",
       " '__setattr__',\n",
       " '__sizeof__',\n",
       " '__str__',\n",
       " '__sub__',\n",
       " '__subclasshook__',\n",
       " '__xor__',\n",
       " 'add',\n",
       " 'clear',\n",
       " 'copy',\n",
       " 'difference',\n",
       " 'difference_update',\n",
       " 'discard',\n",
       " 'intersection',\n",
       " 'intersection_update',\n",
       " 'isdisjoint',\n",
       " 'issubset',\n",
       " 'issuperset',\n",
       " 'pop',\n",
       " 'remove',\n",
       " 'symmetric_difference',\n",
       " 'symmetric_difference_update',\n",
       " 'union',\n",
       " 'update']"
      ]
     },
     "execution_count": 25,
     "metadata": {},
     "output_type": "execute_result"
    }
   ],
   "source": [
    "dir(set)"
   ]
  },
  {
   "cell_type": "markdown",
   "metadata": {},
   "source": [
    "## **Adding and Removing Elements**  \n",
    "\n",
    "**1. Adding Elements**  \n",
    "\n",
    "Use add() to insert a single element."
   ]
  },
  {
   "cell_type": "code",
   "execution_count": 17,
   "metadata": {},
   "outputs": [
    {
     "name": "stdout",
     "output_type": "stream",
     "text": [
      "{1, 2, 3, 4}\n"
     ]
    }
   ],
   "source": [
    "numbers = {1, 2, 3}\n",
    "numbers.add(4)\n",
    "print(numbers)  # Output: {1, 2, 3, 4}\n",
    "\n"
   ]
  },
  {
   "cell_type": "markdown",
   "metadata": {},
   "source": [
    "Use update() to add multiple elements."
   ]
  },
  {
   "cell_type": "code",
   "execution_count": 18,
   "metadata": {},
   "outputs": [
    {
     "name": "stdout",
     "output_type": "stream",
     "text": [
      "{1, 2, 3, 4, 5, 7, 9}\n"
     ]
    }
   ],
   "source": [
    "numbers.update([5,7,9])\n",
    "print(numbers)  "
   ]
  },
  {
   "cell_type": "markdown",
   "metadata": {},
   "source": [
    "**2. Removing Elements**  \n",
    "\n",
    "* remove(value) → Removes an element (throws an error if not found).\n",
    "* discard(value) → Removes an element (does not throw an error if not found).\n",
    "* pop() → Removes and returns a random element.\n",
    "* clear() → Empties the set."
   ]
  },
  {
   "cell_type": "code",
   "execution_count": 19,
   "metadata": {},
   "outputs": [
    {
     "name": "stdout",
     "output_type": "stream",
     "text": [
      "{1, 3, 4, 5, 7, 9}\n"
     ]
    }
   ],
   "source": [
    "numbers.remove(2)  # Removes 2\n",
    "numbers.discard(10)  # Removes 10 (if it exists)\n",
    "print(numbers)\n",
    "#no error"
   ]
  },
  {
   "cell_type": "code",
   "execution_count": null,
   "metadata": {},
   "outputs": [
    {
     "ename": "KeyError",
     "evalue": "10",
     "output_type": "error",
     "traceback": [
      "\u001b[1;31m---------------------------------------------------------------------------\u001b[0m",
      "\u001b[1;31mKeyError\u001b[0m                                  Traceback (most recent call last)",
      "Cell \u001b[1;32mIn[7], line 1\u001b[0m\n\u001b[1;32m----> 1\u001b[0m \u001b[43mnumbers\u001b[49m\u001b[38;5;241;43m.\u001b[39;49m\u001b[43mremove\u001b[49m\u001b[43m(\u001b[49m\u001b[38;5;241;43m10\u001b[39;49m\u001b[43m)\u001b[49m  \u001b[38;5;66;03m# throws error\u001b[39;00m\n\u001b[0;32m      2\u001b[0m numbers\u001b[38;5;241m.\u001b[39mdiscard(\u001b[38;5;241m3\u001b[39m)  \u001b[38;5;66;03m# Removes 3 \u001b[39;00m\n\u001b[0;32m      3\u001b[0m \u001b[38;5;28mprint\u001b[39m(numbers)\n",
      "\u001b[1;31mKeyError\u001b[0m: 10"
     ]
    }
   ],
   "source": [
    "numbers.remove(10)  # throws error\n",
    "numbers.discard(3)  # Removes 3 \n",
    "print(numbers)"
   ]
  },
  {
   "cell_type": "code",
   "execution_count": 20,
   "metadata": {},
   "outputs": [
    {
     "name": "stdout",
     "output_type": "stream",
     "text": [
      "{3, 4, 5, 7, 9}\n"
     ]
    }
   ],
   "source": [
    "numbers.pop()\n",
    "print(numbers)"
   ]
  },
  {
   "cell_type": "code",
   "execution_count": 21,
   "metadata": {},
   "outputs": [
    {
     "name": "stdout",
     "output_type": "stream",
     "text": [
      "set()\n"
     ]
    }
   ],
   "source": [
    "numbers.clear()\n",
    "print(numbers)"
   ]
  },
  {
   "cell_type": "markdown",
   "metadata": {},
   "source": [
    "## **Set Operations**  \n",
    "\n",
    "**1. Union (|)**  \n",
    "\n",
    "Combines elements from both sets."
   ]
  },
  {
   "cell_type": "code",
   "execution_count": 22,
   "metadata": {},
   "outputs": [
    {
     "name": "stdout",
     "output_type": "stream",
     "text": [
      "{1, 2, 3, 4, 5}\n"
     ]
    }
   ],
   "source": [
    "A = {1, 2, 3}\n",
    "B = {3, 4, 5}\n",
    "print(A | B)  # Output: {1, 2, 3, 4, 5}\n"
   ]
  },
  {
   "cell_type": "markdown",
   "metadata": {},
   "source": [
    "**2. Intersection (&)**  \n",
    "\n",
    "Finds common elements."
   ]
  },
  {
   "cell_type": "code",
   "execution_count": 23,
   "metadata": {},
   "outputs": [
    {
     "name": "stdout",
     "output_type": "stream",
     "text": [
      "{3}\n"
     ]
    }
   ],
   "source": [
    "print(A & B)  # Output: {3}\n"
   ]
  },
  {
   "cell_type": "markdown",
   "metadata": {},
   "source": [
    "**3. Difference (-)**  \n",
    "\n",
    "Finds elements in A but not in B."
   ]
  },
  {
   "cell_type": "code",
   "execution_count": 24,
   "metadata": {},
   "outputs": [
    {
     "name": "stdout",
     "output_type": "stream",
     "text": [
      "{1, 2}\n"
     ]
    }
   ],
   "source": [
    "print(A - B)  # Output: {1, 2}\n"
   ]
  },
  {
   "cell_type": "markdown",
   "metadata": {},
   "source": [
    "**4. Symmetric Difference (^)**  \n",
    "\n",
    "Finds elements that are in one set but not both"
   ]
  },
  {
   "cell_type": "code",
   "execution_count": 26,
   "metadata": {},
   "outputs": [
    {
     "name": "stdout",
     "output_type": "stream",
     "text": [
      "{1, 2, 4, 5}\n"
     ]
    }
   ],
   "source": [
    "print(A ^ B)  # Output: {1, 2, 4, 5}\n"
   ]
  },
  {
   "cell_type": "markdown",
   "metadata": {},
   "source": [
    "## **Practice Problems for Sets**"
   ]
  },
  {
   "cell_type": "markdown",
   "metadata": {},
   "source": [
    "##### **Create a set with 5 city names and print them.**"
   ]
  },
  {
   "cell_type": "code",
   "execution_count": 27,
   "metadata": {},
   "outputs": [
    {
     "name": "stdout",
     "output_type": "stream",
     "text": [
      "{'Lahore', 'Islamabad', 'Multan', 'Sargodha', 'Faisalabad'}\n"
     ]
    }
   ],
   "source": [
    "city = {\"Multan\", \"Lahore\",\"Islamabad\",\"Faisalabad\",\"Sargodha\"}\n",
    "print(city)"
   ]
  },
  {
   "cell_type": "markdown",
   "metadata": {},
   "source": [
    "##### **Add a new city to the set and print the updated set.**"
   ]
  },
  {
   "cell_type": "code",
   "execution_count": 28,
   "metadata": {},
   "outputs": [
    {
     "name": "stdout",
     "output_type": "stream",
     "text": [
      "{'Lahore', 'BWP', 'Islamabad', 'Multan', 'Sargodha', 'Faisalabad'}\n"
     ]
    }
   ],
   "source": [
    "city.add(\"BWP\")\n",
    "print(city)"
   ]
  },
  {
   "cell_type": "markdown",
   "metadata": {},
   "source": [
    "##### **Remove a city from the set and print the updated set.**"
   ]
  },
  {
   "cell_type": "code",
   "execution_count": 29,
   "metadata": {},
   "outputs": [
    {
     "name": "stdout",
     "output_type": "stream",
     "text": [
      "{'Lahore', 'Islamabad', 'Multan', 'Sargodha', 'Faisalabad'}\n"
     ]
    }
   ],
   "source": [
    "city.remove(\"BWP\")\n",
    "print(city)"
   ]
  },
  {
   "cell_type": "markdown",
   "metadata": {},
   "source": [
    "##### **Check if \"New York\" is present in the set.**"
   ]
  },
  {
   "cell_type": "code",
   "execution_count": 30,
   "metadata": {},
   "outputs": [
    {
     "data": {
      "text/plain": [
       "False"
      ]
     },
     "execution_count": 30,
     "metadata": {},
     "output_type": "execute_result"
    }
   ],
   "source": [
    "\"New York\" in city"
   ]
  },
  {
   "cell_type": "markdown",
   "metadata": {},
   "source": [
    "##### **Convert a list with duplicate numbers into a set to remove duplicates.**"
   ]
  },
  {
   "cell_type": "code",
   "execution_count": 31,
   "metadata": {},
   "outputs": [
    {
     "name": "stdout",
     "output_type": "stream",
     "text": [
      "{1, 2, 3, 4, 5, 6, 7, 9}\n"
     ]
    }
   ],
   "source": [
    "my_list = [1,2,2,3,4,5,6,2,5,7,9,4]\n",
    "\n",
    "unique_list = set(my_list)\n",
    "print(unique_list)  "
   ]
  },
  {
   "cell_type": "markdown",
   "metadata": {},
   "source": [
    "##### **Find the union of two sets containing student names from two different classes.**"
   ]
  },
  {
   "cell_type": "code",
   "execution_count": 32,
   "metadata": {},
   "outputs": [
    {
     "name": "stdout",
     "output_type": "stream",
     "text": [
      "{'abdullah', 'daniyal', 'haseeb', 'talha', 'fatima', 'eman', 'urwa', 'areeba'}\n"
     ]
    }
   ],
   "source": [
    "bba_set = {\"eman\",\"fatima\",\"abdullah\",\"daniyal\"}\n",
    "bsaf_set = {\"urwa\",\"talha\",\"haseeb\",\"areeba\"}\n",
    "\n",
    "print(bba_set | bsaf_set)\n"
   ]
  },
  {
   "cell_type": "markdown",
   "metadata": {},
   "source": [
    "##### **Find common subjects between two students using intersection.**"
   ]
  },
  {
   "cell_type": "code",
   "execution_count": 33,
   "metadata": {},
   "outputs": [
    {
     "name": "stdout",
     "output_type": "stream",
     "text": [
      "{'islamiyat'}\n"
     ]
    }
   ],
   "source": [
    "subj_bba = {\"business finance\", \"business communication\", \"islamiyat\"}\n",
    "subj_bsaf = {\"accounting and finance\", \"chinese\", \"islamiyat\"}\n",
    "\n",
    "print (subj_bba & subj_bsaf)"
   ]
  },
  {
   "cell_type": "markdown",
   "metadata": {},
   "source": [
    "##### **Create a program that asks the user for 5 favorite movies and stores them in a set.**"
   ]
  },
  {
   "cell_type": "code",
   "execution_count": 5,
   "metadata": {},
   "outputs": [],
   "source": [
    "fav_mov = set()\n",
    "fav_movie1 = input(\"Enter your first favourite movie: \")\n",
    "fav_movie2 = input(\"Enter your second favourite movie: \")\n",
    "fav_movie3 = input(\"Enter your third favourite movie: \")\n",
    "fav_movie4 = input(\"Enter your fourth favourite movie: \")\n",
    "fav_movie5 = input(\"Enter your fifth favourite movie: \")\n",
    "\n",
    "fav_mov.update([fav_movie1, fav_movie2, fav_movie3, fav_movie4, fav_movie5])\n",
    "\n",
    "\n"
   ]
  },
  {
   "cell_type": "code",
   "execution_count": 6,
   "metadata": {},
   "outputs": [
    {
     "name": "stdout",
     "output_type": "stream",
     "text": [
      "{'golmal', 'bajrangi', 'housefull', 'carry on jutta', 'pk'}\n"
     ]
    }
   ],
   "source": [
    "print(fav_mov)"
   ]
  },
  {
   "cell_type": "markdown",
   "metadata": {},
   "source": [
    "##### **Remove duplicate words from a sentence entered by the user.**"
   ]
  },
  {
   "cell_type": "code",
   "execution_count": null,
   "metadata": {},
   "outputs": [
    {
     "name": "stdout",
     "output_type": "stream",
     "text": [
      "Sentence without duplicates: i am doing freelancing and working as a freelancer\n"
     ]
    }
   ],
   "source": [
    "sentence = input(\"Enter a sentence: \")\n",
    "words = sentence.split()\n",
    "seen = set()\n",
    "result = []\n",
    "\n",
    "for word in words:\n",
    "    if word.lower() not in seen:\n",
    "        seen.add(word.lower())\n",
    "        result.append(word)\n",
    "\n",
    "print(\"Sentence without duplicates:\", ' '.join(result))\n"
   ]
  },
  {
   "cell_type": "markdown",
   "metadata": {},
   "source": [
    "##### **Find the difference between two sets of colors (e.g., colors you like vs. colors available in a store).**  \n"
   ]
  },
  {
   "cell_type": "code",
   "execution_count": 9,
   "metadata": {},
   "outputs": [
    {
     "name": "stdout",
     "output_type": "stream",
     "text": [
      "Colors you like but are not available: {'red', 'purple', 'yellow'}\n"
     ]
    }
   ],
   "source": [
    "# Define the sets\n",
    "liked_colors = {\"red\", \"blue\", \"green\", \"yellow\", \"purple\"}\n",
    "available_colors = {\"blue\", \"green\", \"black\", \"white\"}\n",
    "\n",
    "# Find the difference (colors you like but not available)\n",
    "missing_colors = liked_colors - available_colors\n",
    "\n",
    "# Print the result\n",
    "print(\"Colors you like but are not available:\", missing_colors)\n"
   ]
  },
  {
   "cell_type": "markdown",
   "metadata": {},
   "source": [
    "##### **Given two sets of numbers, find the numbers that are unique to each set.**  \n"
   ]
  },
  {
   "cell_type": "code",
   "execution_count": 10,
   "metadata": {},
   "outputs": [
    {
     "name": "stdout",
     "output_type": "stream",
     "text": [
      "The numbers that are unique to each set are : {1, 3, 4, 5, 7, 9, 12, 14, 16}\n"
     ]
    }
   ],
   "source": [
    "set1 = {1,2,3,5,6,7,8,9,10}\n",
    "set2 = {2,4,6,8,10,12,14,16}\n",
    "\n",
    "print(f\"The numbers that are unique to each set are : {set1 ^ set2}\")   \n",
    "\n"
   ]
  },
  {
   "cell_type": "markdown",
   "metadata": {},
   "source": [
    "##### **Write a program that finds common interests between two people using sets.**"
   ]
  },
  {
   "cell_type": "code",
   "execution_count": 15,
   "metadata": {},
   "outputs": [
    {
     "name": "stdout",
     "output_type": "stream",
     "text": [
      "Common interests: sleep\n"
     ]
    }
   ],
   "source": [
    "person1_interest = set(input(\"Enter your interests (comma separated): \").split(\", \"))\n",
    "person2_interest = set(input(\"Enter your interests (comma separated): \").split(\", \"))\n",
    "\n",
    "common_interests = person1_interest & person2_interest\n",
    "\n",
    "# Display result\n",
    "if common_interests:\n",
    "    print(\"Common interests:\", \", \".join(common_interests))\n",
    "else:\n",
    "    print(\"No common interests found.\")"
   ]
  },
  {
   "cell_type": "markdown",
   "metadata": {},
   "source": [
    "##### **Create a set of registered students and another set of students who attended a class. Find out who missed the class.**  \n"
   ]
  },
  {
   "cell_type": "code",
   "execution_count": 16,
   "metadata": {},
   "outputs": [
    {
     "name": "stdout",
     "output_type": "stream",
     "text": [
      "The students who missed the class are:  {'hashir', 'fatima'}\n"
     ]
    }
   ],
   "source": [
    "registered_stud = {'eman','fatima','daniyal','abdullah','hashir'}\n",
    "attend_class = {'eman', 'daniyal','abdullah'}\n",
    "\n",
    "missed_class_stud_names = registered_stud - attend_class\n",
    "\n",
    "print(\"The students who missed the class are: \", missed_class_stud_names)\n"
   ]
  },
  {
   "cell_type": "markdown",
   "metadata": {},
   "source": [
    "##### **Given a paragraph, extract all unique words and store them in a set.**"
   ]
  },
  {
   "cell_type": "code",
   "execution_count": 20,
   "metadata": {},
   "outputs": [
    {
     "name": "stdout",
     "output_type": "stream",
     "text": [
      "Unique words: {'use', 'things', 'or', 'we', 'be', 'variable', 'a', 'number', 'word', 'the', 'later', 'when', 'writing', 'need', 'again', 'where', 'like', 'even', 'is', 'box', 'this', 'that', 'of', 'store', 'list', 'information', 'value', 'instead', 'can'}\n"
     ]
    }
   ],
   "source": [
    "paragraph = \"\"\"A variable is like a box where we store information. This information can be a number, a word, or even a list of things. When we need that information later, we can use the variable instead of writing the value again.\"\"\"\n",
    "\n",
    "# Split paragraph into words and clean punctuation\n",
    "words = paragraph.split()\n",
    "unique_words = set()\n",
    "\n",
    "# Process words and add to set\n",
    "for word in words:\n",
    "    cleaned_word = word.lower().strip(\".,\")  # Convert to lowercase and remove punctuation\n",
    "    unique_words.add(cleaned_word)\n",
    "\n",
    "print(\"Unique words:\", unique_words)\n",
    "\n",
    "\n"
   ]
  },
  {
   "cell_type": "markdown",
   "metadata": {},
   "source": [
    "##### **Write a program that checks if two sets have no common elements.**"
   ]
  },
  {
   "cell_type": "code",
   "execution_count": null,
   "metadata": {},
   "outputs": [
    {
     "name": "stdout",
     "output_type": "stream",
     "text": [
      "The sets have common elements.\n"
     ]
    }
   ],
   "source": [
    "set_a = {'apple','banana','cherry','grapes'}\n",
    "set_b = {'apple','mango','kiwi','blue cherry'}\n",
    "\n",
    "# Check if sets have no common elements\n",
    "if set_a.isdisjoint(set_b):\n",
    "    print(\"The sets have no common elements.\")\n",
    "else:\n",
    "    print(\"The sets have common elements.\")\n",
    "\n",
    "#The .isdisjoint() method in Python is used to check whether two sets have no common elements. It returns True if the sets are disjoint (i.e., they have no shared elements) and False otherwise."
   ]
  },
  {
   "cell_type": "markdown",
   "metadata": {},
   "source": [
    "##### **Create a program that takes two sets of products and finds which products are missing from one store.**"
   ]
  },
  {
   "cell_type": "code",
   "execution_count": null,
   "metadata": {},
   "outputs": [
    {
     "name": "stdout",
     "output_type": "stream",
     "text": [
      "Products available in Store 2 but missing in Store 1: bb cream, mascara\n",
      "Products available in Store 1 but missing in Store 2: eyeliner,\n"
     ]
    }
   ],
   "source": [
    "# Input product lists for two stores\n",
    "store1_products = set(input(\"Enter products in Store 1 (comma-separated): \").split(\", \"))\n",
    "store2_products = set(input(\"Enter products in Store 2 (comma-separated): \").split(\", \"))\n",
    "\n",
    "# Find products missing from each store\n",
    "missing_from_store1 = store2_products - store1_products\n",
    "missing_from_store2 = store1_products - store2_products\n",
    "\n",
    "# Display results\n",
    "if missing_from_store1:\n",
    "    print(f\"Products available in Store 2 but missing in Store 1: {', '.join(missing_from_store1)}\")\n",
    "else:\n",
    "    print(\"Store 1 has all the products available in Store 2.\")\n",
    "\n",
    "if missing_from_store2:\n",
    "    print(f\"Products available in Store 1 but missing in Store 2: {', '.join(missing_from_store2)}\")\n",
    "else:\n",
    "    print(\"Store 2 has all the products available in Store 1.\")\n"
   ]
  },
  {
   "cell_type": "markdown",
   "metadata": {},
   "source": [
    "##### **Merge two sets without using the | operator.**"
   ]
  },
  {
   "cell_type": "markdown",
   "metadata": {},
   "source": [
    " **Method 1: Using .update() (Modifies the First Set)**"
   ]
  },
  {
   "cell_type": "code",
   "execution_count": 26,
   "metadata": {},
   "outputs": [
    {
     "name": "stdout",
     "output_type": "stream",
     "text": [
      "{1, 2, 3, 4, 5, 6}\n"
     ]
    }
   ],
   "source": [
    "set1 = {1, 2, 3}\n",
    "set2 = {4, 5, 6}\n",
    "\n",
    "set1.update(set2)  # Merges set2 into set1\n",
    "\n",
    "print(set1)  # Output: {1, 2, 3, 4, 5, 6}\n"
   ]
  },
  {
   "cell_type": "markdown",
   "metadata": {},
   "source": [
    "**Method 2: Using .union() (Creates a New Set)**"
   ]
  },
  {
   "cell_type": "code",
   "execution_count": 27,
   "metadata": {},
   "outputs": [
    {
     "name": "stdout",
     "output_type": "stream",
     "text": [
      "{1, 2, 3, 4, 5, 6}\n"
     ]
    }
   ],
   "source": [
    "set1 = {1, 2, 3}\n",
    "set2 = {4, 5, 6}\n",
    "\n",
    "merged_set = set1.union(set2)  # Returns a new merged set\n",
    "\n",
    "print(merged_set)  # Output: {1, 2, 3, 4, 5, 6}\n"
   ]
  },
  {
   "cell_type": "markdown",
   "metadata": {},
   "source": [
    "**Method 3: Using .copy() and .update()**  \n",
    "\n",
    "If you want to keep set1 unchanged and store the result in a new set:"
   ]
  },
  {
   "cell_type": "code",
   "execution_count": 28,
   "metadata": {},
   "outputs": [
    {
     "name": "stdout",
     "output_type": "stream",
     "text": [
      "{1, 2, 3, 4, 5, 6}\n"
     ]
    }
   ],
   "source": [
    "set1 = {1, 2, 3}\n",
    "set2 = {4, 5, 6}\n",
    "\n",
    "merged_set = set1.copy()  # Copy set1\n",
    "merged_set.update(set2)   # Merge set2 into the copy\n",
    "\n",
    "print(merged_set)  # Output: {1, 2, 3, 4, 5, 6}\n"
   ]
  },
  {
   "cell_type": "markdown",
   "metadata": {},
   "source": [
    "##### **Get 5 Numbers from the User and Find Min & Max**"
   ]
  },
  {
   "cell_type": "code",
   "execution_count": 30,
   "metadata": {},
   "outputs": [
    {
     "name": "stdout",
     "output_type": "stream",
     "text": [
      "Smallest number: 2\n",
      "Largest number: 10\n"
     ]
    }
   ],
   "source": [
    "# Ask the user for 5 numbers and store them in a set\n",
    "numbers = set(int(input(f\"Enter number {i+1}: \")) for i in range(5))\n",
    "\n",
    "# Print the smallest and largest numbers\n",
    "print(f\"Smallest number: {min(numbers)}\")\n",
    "print(f\"Largest number: {max(numbers)}\")\n"
   ]
  },
  {
   "cell_type": "markdown",
   "metadata": {},
   "source": [
    "##### **Check if One Set is a Subset of Another**  "
   ]
  },
  {
   "cell_type": "code",
   "execution_count": 31,
   "metadata": {},
   "outputs": [
    {
     "name": "stdout",
     "output_type": "stream",
     "text": [
      "set2 is a subset of set1\n"
     ]
    }
   ],
   "source": [
    "# Define two sets\n",
    "set1 = {1, 2, 3, 4, 5}\n",
    "set2 = {2, 3, 4}\n",
    "\n",
    "# Check if set2 is a subset of set1\n",
    "if set2.issubset(set1):\n",
    "    print(\"set2 is a subset of set1\")\n",
    "else:\n",
    "    print(\"set2 is NOT a subset of set1\")\n"
   ]
  }
 ],
 "metadata": {
  "kernelspec": {
   "display_name": "learn_python",
   "language": "python",
   "name": "python3"
  },
  "language_info": {
   "codemirror_mode": {
    "name": "ipython",
    "version": 3
   },
   "file_extension": ".py",
   "mimetype": "text/x-python",
   "name": "python",
   "nbconvert_exporter": "python",
   "pygments_lexer": "ipython3",
   "version": "3.10.8"
  }
 },
 "nbformat": 4,
 "nbformat_minor": 2
}
